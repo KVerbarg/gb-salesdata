{
 "cells": [
  {
   "attachments": {},
   "cell_type": "markdown",
   "metadata": {},
   "source": [
    "# Delete Sales Orders\n",
    "In order to remove test data, we want to delete all sales orders of a given year."
   ]
  },
  {
   "attachments": {},
   "cell_type": "markdown",
   "metadata": {},
   "source": [
    "\n",
    "API_SALES_ORDER_SRV was activated. For details on OData see `ImportPrices.iynb`.\n",
    "\n",
    "Added privileges to role `ZUCC_ANALYTICS_ODATA`:\n",
    "| Auth object | Field | Value |  |\n",
    "|-------------|-------|-------|--|\n",
    "| V_VBAK_AAT  | AUART | OR | Standard order\n",
    "|             | ACTVT    | *\n",
    "| V_VBAK_VKO  | VKORG    | *    | Sales org\n",
    "|             | VTWEG    | *    |\n",
    "|             | SPART    | *    |\n",
    "|             | ACTVT    | *\n",
    "| V_VBAK_CCD  | AUART | OR | Standard order\n",
    "|             | ACTVT    | *"
   ]
  },
  {
   "cell_type": "code",
   "execution_count": 22,
   "metadata": {},
   "outputs": [
    {
     "data": {
      "text/plain": [
       "<module 'Credentials' from 'c:\\\\Users\\\\verbarg\\\\Nextcloud\\\\Forschung\\\\2022 Reporting UCC\\\\2022-12 GeneratorGB\\\\gb-salesdata\\\\abap\\\\Credentials.py'>"
      ]
     },
     "execution_count": 22,
     "metadata": {},
     "output_type": "execute_result"
    }
   ],
   "source": [
    "import requests\n",
    "import pyodata\n",
    "import Credentials # local modules must start with capital letter\n",
    "from importlib import reload\n",
    "reload(Credentials) # just in case; be able to reload here without restarting the kernel"
   ]
  },
  {
   "cell_type": "code",
   "execution_count": 23,
   "metadata": {},
   "outputs": [],
   "source": [
    "# To get more logging from pyodata use logging.DEBUG\n",
    "import logging\n",
    "\n",
    "logging.basicConfig()\n",
    "root_logger = logging.getLogger()\n",
    "root_logger.setLevel(logging.ERROR)"
   ]
  },
  {
   "cell_type": "markdown",
   "metadata": {},
   "source": [
    "Connect to OData service"
   ]
  },
  {
   "cell_type": "code",
   "execution_count": 24,
   "metadata": {},
   "outputs": [],
   "source": [
    "service_url = f'{Credentials.p_host}:443/sap/opu/odata/sap/API_SALES_ORDER_SRV/'\n",
    "session = requests.Session()\n",
    "session.auth = (Credentials.p_username, Credentials.p_password)\n",
    "session.params = {'sap-client': Credentials.p_client}   # not necessary, client is already defined in the service\n",
    "# CSRF Token\n",
    "response = session.head(service_url, headers={'x-csrf-token': 'fetch'})\n",
    "token = response.headers.get('x-csrf-token', '')\n",
    "session.headers.update({'x-csrf-token': token})\n",
    "# service\n",
    "orders_service = pyodata.Client(service_url, session)"
   ]
  },
  {
   "attachments": {},
   "cell_type": "markdown",
   "metadata": {},
   "source": [
    "Read all sales orders"
   ]
  },
  {
   "cell_type": "code",
   "execution_count": 25,
   "metadata": {},
   "outputs": [],
   "source": [
    "orders_select = (\n",
    "    orders_service.entity_sets.A_SalesOrder\n",
    "    .get_entities()\n",
    "    .select('SalesOrder, SalesOrderDate')\n",
    "    #.filter('year(SalesOrderDate) eq 2015')  -- error: Function year is not supported\n",
    ")\n",
    "orders = orders_select.execute()"
   ]
  },
  {
   "cell_type": "code",
   "execution_count": 26,
   "metadata": {},
   "outputs": [
    {
     "data": {
      "text/plain": [
       "{2021: 3}"
      ]
     },
     "execution_count": 26,
     "metadata": {},
     "output_type": "execute_result"
    }
   ],
   "source": [
    "# how many sales orders do we have?\n",
    "count = {}\n",
    "for order in orders:\n",
    "    y = order.SalesOrderDate.year\n",
    "    if y in count:\n",
    "        count[y] += 1\n",
    "    else:\n",
    "        count[y] = 1\n",
    "count"
   ]
  },
  {
   "attachments": {},
   "cell_type": "markdown",
   "metadata": {},
   "source": [
    "so sieht ein ETag aus"
   ]
  },
  {
   "cell_type": "code",
   "execution_count": 27,
   "metadata": {},
   "outputs": [
    {
     "name": "stdout",
     "output_type": "stream",
     "text": [
      "W/\"datetimeoffset'2021-08-23T14%3A29%3A56.8285730Z'\"\n",
      "2\n"
     ]
    }
   ],
   "source": [
    "print(orders[1].etag)\n",
    "print(orders[1].SalesOrder)"
   ]
  },
  {
   "attachments": {},
   "cell_type": "markdown",
   "metadata": {},
   "source": [
    "and delete them"
   ]
  },
  {
   "cell_type": "code",
   "execution_count": 28,
   "metadata": {},
   "outputs": [],
   "source": [
    "for order in orders:\n",
    "    # die ersten drei Aufträge aus 2021 kann man nicht löschen, weil schon Folgebelege\n",
    "    if order.SalesOrder in ('1','2','3'):\n",
    "        continue\n",
    "    if order.SalesOrderDate.year != 2021:  # filter for year hardcoded\n",
    "        continue\n",
    "    print(f'Delete {order.SalesOrder}')\n",
    "    # provide Etag for optimistic concurrency control; otherwise DELETE returns http status 428\n",
    "    session.headers.update({'if-match' : order.etag})\n",
    "    orders_service.entity_sets.A_SalesOrder.delete_entity(order.SalesOrder).execute()\n"
   ]
  }
 ],
 "metadata": {
  "kernelspec": {
   "display_name": "base",
   "language": "python",
   "name": "python3"
  },
  "language_info": {
   "codemirror_mode": {
    "name": "ipython",
    "version": 3
   },
   "file_extension": ".py",
   "mimetype": "text/x-python",
   "name": "python",
   "nbconvert_exporter": "python",
   "pygments_lexer": "ipython3",
   "version": "3.8.15"
  },
  "orig_nbformat": 4,
  "vscode": {
   "interpreter": {
    "hash": "50e5b27107e40faec526e5967cc5e7667b46a85d7faacead4794257648bc1590"
   }
  }
 },
 "nbformat": 4,
 "nbformat_minor": 2
}
