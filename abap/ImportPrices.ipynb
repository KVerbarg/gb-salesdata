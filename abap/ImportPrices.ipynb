{
 "cells": [
  {
   "attachments": {},
   "cell_type": "markdown",
   "metadata": {},
   "source": [
    "# Import the material prices into S/4HANA"
   ]
  },
  {
   "attachments": {},
   "cell_type": "markdown",
   "metadata": {},
   "source": [
    "To view the material sales prices, use Transaction `VK33` > Prices > Material Price, Condition Type = `PR00`.  \n",
    "Note that the currency depends on the Sales Org. (VKORG)."
   ]
  },
  {
   "attachments": {},
   "cell_type": "markdown",
   "metadata": {},
   "source": [
    "How can we change the prices?  \n",
    "Originally, we intended to do this in ABAP. There is `BAPI_PRICES_CONDITIONS`. But according to Note 1135984, the BAPI must not be used and there is no other API available except using a modern OData service. \n",
    "\n",
    "The relevant OData V2 service is \"Condition Record for Pricing in Sales\", see documentation <https://api.sap.com/api/OP_API_SLSPRCGCONDITIONRECORD_SRV_0001/overview>."
   ]
  },
  {
   "attachments": {},
   "cell_type": "markdown",
   "metadata": {},
   "source": [
    "## Configure OData Service in S4"
   ]
  },
  {
   "attachments": {},
   "cell_type": "markdown",
   "metadata": {},
   "source": [
    "To configure the service (cross-client customizing should be allowed):\n",
    "- Transaction `/n/iwfnd/maint_service`\n",
    "- Button \"Add Service\": Filter for System Alias = LOCAL, External Service Name = API_SLSPRICINGCONDITIONRECORD_SRV. \n",
    "- Button \"Add Selected Services\""
   ]
  },
  {
   "attachments": {},
   "cell_type": "markdown",
   "metadata": {},
   "source": [
    "***Betrieb: offen noch zu testen und machen:***  \n",
    "Extra User `ODATA_PRICES` mit Rolle `ODATA_PRICES` anlegen. Berechtigung ähnlich wie im Projektstudium."
   ]
  },
  {
   "attachments": {},
   "cell_type": "markdown",
   "metadata": {},
   "source": [
    "To test a price update in SAP Gateway Client:  \n",
    "Request URI `https://<host>/sap/opu/odata/SAP/API_SLSPRICINGCONDITIONRECORD_SRV/A_SlsPrcgConditionRecord`  \n",
    "and payload\n",
    "``` json\n",
    "{\n",
    "  \"ConditionTable\" : \"304\",\n",
    "  \"ConditionType\" : \"PR00\",\n",
    "  \"ConditionRateValue\" : \"200\",\n",
    "  \"ConditionRateValueUnit\" : \"EUR\",\n",
    "  \"to_SlsPrcgCndnRecdValidity\" : [\n",
    "    {\n",
    "      \"ConditionValidityStartDate\" : \"1990-01-01T00:00:00\",\n",
    "      \"ConditionValidityEndDate\" : \"1990-12-31T00:00:00\",\n",
    "      \"SalesOrganization\" : \"DN00\",\n",
    "      \"DistributionChannel\" : \"WH\",\n",
    "      \"Material\" : \"DXTR1000\"\n",
    "    }\n",
    "  ]\n",
    "}\n",
    "```\n",
    "Tested successfully: no matter how the date range of [ConditionValidityEndDate, ConditionValidityStartDate] is set (potentially overlapping to existing ranges), the price conditions are maintained correctly.\n",
    "\n",
    "This is an example to do a test of the service in a web browser using a GET (just handy, not relevant)\n",
    "`https://<host>/sap/opu/odata/sap/API_SLSPRICINGCONDITIONRECORD_SRV/A_SlsPrcgCndnRecdValidity/?$filter=(ConditionType%20eq%20%27PR00%27%20and%20Material%20eq%20%27DXTR1000%27)&$orderby=SalesOrganization%20asc&$select=*&$inlinecount=allpages`"
   ]
  },
  {
   "attachments": {},
   "cell_type": "markdown",
   "metadata": {},
   "source": [
    "## SAP-User for the import"
   ]
  },
  {
   "attachments": {},
   "cell_type": "markdown",
   "metadata": {},
   "source": [
    "We created a user `ANALYT_ODATA` with role `ZUCC_ANALYTICS_ODATA`. Privileges are:\n",
    "| Auth object | Field | Value |  |\n",
    "|-------------|-------|-------|--|\n",
    "| S_SERVICE   | SRV_NAME | IWSG / ZAPI_SLSPRICINGCONDITIONRECORD_SRV_0001 | Access OData service (not working ;-()\n",
    "| S_SERVICE   | SRV_NAME | * | Since restricting to the above technical service name is not working, we give full access instead\n",
    "|             | SRV_TYPE | HT\n",
    "| V_KONH_VKS  | KSCHL    | PR00 | Create price condition\n",
    "|             | ACTVT    | *\n",
    "| B_BUP_PCPT  | ACTVT    | 3   | Display Business Partner\n",
    "| V_KONH_VKO  | VKORG    | *   | Create condition for sales org\n",
    "|             | VTWEG    | *\n",
    "|             | SPART    | *\n",
    "|             | ACTVT    | *"
   ]
  },
  {
   "attachments": {},
   "cell_type": "markdown",
   "metadata": {},
   "source": [
    "## Do the import via OData\n",
    "### Read intended prices from `masterdata.xlsx`"
   ]
  },
  {
   "cell_type": "code",
   "execution_count": 27,
   "metadata": {},
   "outputs": [
    {
     "name": "stdout",
     "output_type": "stream",
     "text": [
      "Exception reporting mode: Minimal\n"
     ]
    }
   ],
   "source": [
    "import pandas as pd\n",
    "%xmode minimal"
   ]
  },
  {
   "cell_type": "markdown",
   "metadata": {},
   "source": [
    "Read master data"
   ]
  },
  {
   "cell_type": "code",
   "execution_count": 28,
   "metadata": {},
   "outputs": [
    {
     "data": {
      "text/html": [
       "<div>\n",
       "<style scoped>\n",
       "    .dataframe tbody tr th:only-of-type {\n",
       "        vertical-align: middle;\n",
       "    }\n",
       "\n",
       "    .dataframe tbody tr th {\n",
       "        vertical-align: top;\n",
       "    }\n",
       "\n",
       "    .dataframe thead th {\n",
       "        text-align: right;\n",
       "    }\n",
       "</style>\n",
       "<table border=\"1\" class=\"dataframe\">\n",
       "  <thead>\n",
       "    <tr style=\"text-align: right;\">\n",
       "      <th></th>\n",
       "      <th>MATNR</th>\n",
       "      <th>MAKTX</th>\n",
       "      <th>2015</th>\n",
       "      <th>2016</th>\n",
       "      <th>2017</th>\n",
       "      <th>2018</th>\n",
       "    </tr>\n",
       "  </thead>\n",
       "  <tbody>\n",
       "    <tr>\n",
       "      <th>8</th>\n",
       "      <td>EPAD1000</td>\n",
       "      <td>Elbow Pads</td>\n",
       "      <td>75</td>\n",
       "      <td>76</td>\n",
       "      <td>77</td>\n",
       "      <td>78</td>\n",
       "    </tr>\n",
       "  </tbody>\n",
       "</table>\n",
       "</div>"
      ],
      "text/plain": [
       "      MATNR       MAKTX  2015  2016  2017  2018\n",
       "8  EPAD1000  Elbow Pads    75    76    77    78"
      ]
     },
     "execution_count": 28,
     "metadata": {},
     "output_type": "execute_result"
    }
   ],
   "source": [
    "masterdata = '../generator/masterdata.xlsx'\n",
    "prices_eur = pd.read_excel(masterdata, sheet_name=\"prices EUR\")\n",
    "prices_usd = pd.read_excel(masterdata, sheet_name=\"prices USD\")\n",
    "prices_eur.sample()"
   ]
  },
  {
   "attachments": {},
   "cell_type": "markdown",
   "metadata": {},
   "source": [
    "Convert prices to tidy format and add sales organizations"
   ]
  },
  {
   "cell_type": "code",
   "execution_count": 29,
   "metadata": {},
   "outputs": [
    {
     "data": {
      "text/html": [
       "<div>\n",
       "<style scoped>\n",
       "    .dataframe tbody tr th:only-of-type {\n",
       "        vertical-align: middle;\n",
       "    }\n",
       "\n",
       "    .dataframe tbody tr th {\n",
       "        vertical-align: top;\n",
       "    }\n",
       "\n",
       "    .dataframe thead th {\n",
       "        text-align: right;\n",
       "    }\n",
       "</style>\n",
       "<table border=\"1\" class=\"dataframe\">\n",
       "  <thead>\n",
       "    <tr style=\"text-align: right;\">\n",
       "      <th></th>\n",
       "      <th>VKORG</th>\n",
       "      <th>MATNR</th>\n",
       "      <th>Year</th>\n",
       "      <th>Price</th>\n",
       "      <th>Currency</th>\n",
       "    </tr>\n",
       "  </thead>\n",
       "  <tbody>\n",
       "    <tr>\n",
       "      <th>72</th>\n",
       "      <td>DN00</td>\n",
       "      <td>RHMT1000</td>\n",
       "      <td>2016</td>\n",
       "      <td>51</td>\n",
       "      <td>EUR</td>\n",
       "    </tr>\n",
       "  </tbody>\n",
       "</table>\n",
       "</div>"
      ],
      "text/plain": [
       "   VKORG     MATNR  Year  Price Currency\n",
       "72  DN00  RHMT1000  2016     51      EUR"
      ]
     },
     "execution_count": 29,
     "metadata": {},
     "output_type": "execute_result"
    }
   ],
   "source": [
    "prices = (\n",
    "    # combine both tables\n",
    "    pd.concat([prices_eur, prices_usd], keys=[\"EUR\", \"USD\"], names=[\"Currency\"])\n",
    "    .reset_index(\"Currency\")\n",
    "    # material description not needed\n",
    "    .drop(columns=\"MAKTX\")\n",
    "    # tidy\n",
    "    .melt(id_vars=[\"MATNR\", \"Currency\"], var_name=\"Year\", value_name=\"Price\")\n",
    "    # for each currency we have two sales organizations\n",
    "    .assign(vkorg1=lambda df: df[\"Currency\"].map({'EUR':'DN00', 'USD':'UW00'}))\n",
    "    .assign(vkorg2=lambda df: df[\"Currency\"].map({'EUR':'DS00', 'USD':'UE00'}))\n",
    "    .melt(id_vars=[\"MATNR\", \"Currency\", \"Year\", \"Price\"], value_name=\"VKORG\")\n",
    "    .drop(columns=\"variable\")\n",
    "    # only aesthetics\n",
    "    .reindex(columns=[\"VKORG\", \"MATNR\", \"Year\", \"Price\", \"Currency\"])\n",
    ")\n",
    "prices.sample()"
   ]
  },
  {
   "attachments": {},
   "cell_type": "markdown",
   "metadata": {},
   "source": [
    "### Import prices to S4"
   ]
  },
  {
   "attachments": {},
   "cell_type": "markdown",
   "metadata": {},
   "source": [
    "`pyodata` is not part of anaconda. To install: `pip install -U pyodata`.  \n",
    "Version >= 1.10.1.  \n",
    "Documentation: <https://pyodata.readthedocs.io/en/latest/usage/advanced.html>"
   ]
  },
  {
   "cell_type": "code",
   "execution_count": 30,
   "metadata": {},
   "outputs": [
    {
     "data": {
      "text/plain": [
       "<module 'Credentials' from 'c:\\\\Users\\\\verbarg\\\\Nextcloud\\\\Forschung\\\\2022 Reporting UCC\\\\2022-12 GeneratorGB\\\\gb-salesdata\\\\abap\\\\Credentials.py'>"
      ]
     },
     "execution_count": 30,
     "metadata": {},
     "output_type": "execute_result"
    }
   ],
   "source": [
    "import requests\n",
    "import pyodata\n",
    "import Credentials # local modules must start with capital letter\n",
    "from importlib import reload\n",
    "reload(Credentials) # just in case; be able to reload here without restarting the kernel"
   ]
  },
  {
   "cell_type": "code",
   "execution_count": 31,
   "metadata": {},
   "outputs": [],
   "source": [
    "# To get more logging from pyodata use logging.DEBUG\n",
    "import logging\n",
    "\n",
    "logging.basicConfig()\n",
    "root_logger = logging.getLogger()\n",
    "root_logger.setLevel(logging.ERROR)"
   ]
  },
  {
   "cell_type": "markdown",
   "metadata": {},
   "source": [
    "Connect to OData service"
   ]
  },
  {
   "cell_type": "code",
   "execution_count": 32,
   "metadata": {},
   "outputs": [],
   "source": [
    "service_url = f'{Credentials.p_host}:443/sap/opu/odata/sap/API_SLSPRICINGCONDITIONRECORD_SRV/'\n",
    "session = requests.Session()\n",
    "session.auth = (Credentials.p_username, Credentials.p_password)\n",
    "session.params = {'sap-client': Credentials.p_client}   # not necessary, client is already defined in the service\n",
    "# CSRF Token\n",
    "response = session.head(service_url, headers={'x-csrf-token': 'fetch'})\n",
    "token = response.headers.get('x-csrf-token', '')\n",
    "session.headers.update({'x-csrf-token': token})\n",
    "# service\n",
    "prices_service = pyodata.Client(service_url, session)\n",
    "prices_request = prices_service.entity_sets.A_SlsPrcgConditionRecord.create_entity()"
   ]
  },
  {
   "attachments": {},
   "cell_type": "markdown",
   "metadata": {},
   "source": [
    "payload"
   ]
  },
  {
   "cell_type": "code",
   "execution_count": 33,
   "metadata": {},
   "outputs": [],
   "source": [
    "def price_condition(s):\n",
    "  return {\n",
    "    \"ConditionTable\" : \"304\",   # Condition table 304 (Material with release status)\n",
    "    \"ConditionType\" : \"PR00\",   # net price in Global Bike\n",
    "    \"ConditionRateValue\" : str(s.Price),\n",
    "    \"ConditionRateValueUnit\" : s.Currency,\n",
    "    \"to_SlsPrcgCndnRecdValidity\" : [\n",
    "      {\n",
    "        \"ConditionValidityStartDate\" : f'{s.Year}-01-01T00:00:00',\n",
    "        \"ConditionValidityEndDate\" : f'{s.Year}-12-31T00:00:00',\n",
    "        \"SalesOrganization\" : s.VKORG,\n",
    "        \"DistributionChannel\" : \"WH\",\n",
    "        \"Material\" : s.MATNR\n",
    "      }\n",
    "    ]\n",
    "  }"
   ]
  },
  {
   "attachments": {},
   "cell_type": "markdown",
   "metadata": {},
   "source": [
    "For all price conditions..."
   ]
  },
  {
   "cell_type": "code",
   "execution_count": 34,
   "metadata": {},
   "outputs": [
    {
     "name": "stdout",
     "output_type": "stream",
     "text": [
      "{\"error\":{\"code\":\"VK/007\",\"message\":{\"lang\":\"en\",\"value\":\"Material DGRB2000 not defined for sales organization DN00 with dist. channel WH\"},\"innererror\":{\"application\":{\"component_id\":\"SD-MD-CM\",\"service_namespace\":\"/SAP/\",\"service_id\":\"API_SLSPRICINGCONDITIONRECORD_SRV\",\"service_version\":\"0001\"},\"transactionid\":\"C53D87AFC87100D0E00637B9DB0A3038\",\"timestamp\":\"\",\"Error_Resolution\":{\"SAP_Transaction\":\"\",\"SAP_Note\":\"See SAP Note 1797736 for error analysis (https://service.sap.com/sap/support/notes/1797736)\"},\"errordetails\":[{\"ContentID\":\"\",\"code\":\"VK/007\",\"message\":\"Material DGRB2000 not defined for sales organization DN00 with dist. channel WH\",\"propertyref\":\"\",\"severity\":\"error\",\"transition\":false,\"target\":\"\"}]}}}\n",
      "DGRB2000 2015\n",
      "{\"error\":{\"code\":\"VK/007\",\"message\":{\"lang\":\"en\",\"value\":\"Material DGRR2000 not defined for sales organization DN00 with dist. channel WH\"},\"innererror\":{\"application\":{\"component_id\":\"SD-MD-CM\",\"service_namespace\":\"/SAP/\",\"service_id\":\"API_SLSPRICINGCONDITIONRECORD_SRV\",\"service_version\":\"0001\"},\"transactionid\":\"C53D87AFC87100D0E00637B9DB0A303A\",\"timestamp\":\"\",\"Error_Resolution\":{\"SAP_Transaction\":\"\",\"SAP_Note\":\"See SAP Note 1797736 for error analysis (https://service.sap.com/sap/support/notes/1797736)\"},\"errordetails\":[{\"ContentID\":\"\",\"code\":\"VK/007\",\"message\":\"Material DGRR2000 not defined for sales organization DN00 with dist. channel WH\",\"propertyref\":\"\",\"severity\":\"error\",\"transition\":false,\"target\":\"\"}]}}}\n",
      "DGRR2000 2015\n",
      "{\"error\":{\"code\":\"VK/007\",\"message\":{\"lang\":\"en\",\"value\":\"Material DGRW2000 not defined for sales organization DN00 with dist. channel WH\"},\"innererror\":{\"application\":{\"component_id\":\"SD-MD-CM\",\"service_namespace\":\"/SAP/\",\"service_id\":\"API_SLSPRICINGCONDITIONRECORD_SRV\",\"service_version\":\"0001\"},\"transactionid\":\"C53D87AFC87100D0E00637B9DB0A303C\",\"timestamp\":\"\",\"Error_Resolution\":{\"SAP_Transaction\":\"\",\"SAP_Note\":\"See SAP Note 1797736 for error analysis (https://service.sap.com/sap/support/notes/1797736)\"},\"errordetails\":[{\"ContentID\":\"\",\"code\":\"VK/007\",\"message\":\"Material DGRW2000 not defined for sales organization DN00 with dist. channel WH\",\"propertyref\":\"\",\"severity\":\"error\",\"transition\":false,\"target\":\"\"}]}}}\n",
      "DGRW2000 2015\n",
      "{\"error\":{\"code\":\"VK/007\",\"message\":{\"lang\":\"en\",\"value\":\"Material GRBL2000 not defined for sales organization DN00 with dist. channel WH\"},\"innererror\":{\"application\":{\"component_id\":\"SD-MD-CM\",\"service_namespace\":\"/SAP/\",\"service_id\":\"API_SLSPRICINGCONDITIONRECORD_SRV\",\"service_version\":\"0001\"},\"transactionid\":\"C53D87AFC87100D0E00637B9DB0A3048\",\"timestamp\":\"\",\"Error_Resolution\":{\"SAP_Transaction\":\"\",\"SAP_Note\":\"See SAP Note 1797736 for error analysis (https://service.sap.com/sap/support/notes/1797736)\"},\"errordetails\":[{\"ContentID\":\"\",\"code\":\"VK/007\",\"message\":\"Material GRBL2000 not defined for sales organization DN00 with dist. channel WH\",\"propertyref\":\"\",\"severity\":\"error\",\"transition\":false,\"target\":\"\"}]}}}\n",
      "GRBL2000 2015\n",
      "{\"error\":{\"code\":\"VK/007\",\"message\":{\"lang\":\"en\",\"value\":\"Material GRRL2000 not defined for sales organization DN00 with dist. channel WH\"},\"innererror\":{\"application\":{\"component_id\":\"SD-MD-CM\",\"service_namespace\":\"/SAP/\",\"service_id\":\"API_SLSPRICINGCONDITIONRECORD_SRV\",\"service_version\":\"0001\"},\"transactionid\":\"C53D87AFC87100D0E00637B9DB0A304A\",\"timestamp\":\"\",\"Error_Resolution\":{\"SAP_Transaction\":\"\",\"SAP_Note\":\"See SAP Note 1797736 for error analysis (https://service.sap.com/sap/support/notes/1797736)\"},\"errordetails\":[{\"ContentID\":\"\",\"code\":\"VK/007\",\"message\":\"Material GRRL2000 not defined for sales organization DN00 with dist. channel WH\",\"propertyref\":\"\",\"severity\":\"error\",\"transition\":false,\"target\":\"\"}]}}}\n",
      "GRRL2000 2015\n",
      "{\"error\":{\"code\":\"VK/007\",\"message\":{\"lang\":\"en\",\"value\":\"Material GRWL2000 not defined for sales organization DN00 with dist. channel WH\"},\"innererror\":{\"application\":{\"component_id\":\"SD-MD-CM\",\"service_namespace\":\"/SAP/\",\"service_id\":\"API_SLSPRICINGCONDITIONRECORD_SRV\",\"service_version\":\"0001\"},\"transactionid\":\"C53D87AFC87100D0E00637B9DB0A304C\",\"timestamp\":\"\",\"Error_Resolution\":{\"SAP_Transaction\":\"\",\"SAP_Note\":\"See SAP Note 1797736 for error analysis (https://service.sap.com/sap/support/notes/1797736)\"},\"errordetails\":[{\"ContentID\":\"\",\"code\":\"VK/007\",\"message\":\"Material GRWL2000 not defined for sales organization DN00 with dist. channel WH\",\"propertyref\":\"\",\"severity\":\"error\",\"transition\":false,\"target\":\"\"}]}}}\n",
      "GRWL2000 2015\n",
      "{\"error\":{\"code\":\"VK/007\",\"message\":{\"lang\":\"en\",\"value\":\"Material ORBC1000 not defined for sales organization DN00 with dist. channel WH\"},\"innererror\":{\"application\":{\"component_id\":\"SD-MD-CM\",\"service_namespace\":\"/SAP/\",\"service_id\":\"API_SLSPRICINGCONDITIONRECORD_SRV\",\"service_version\":\"0001\"},\"transactionid\":\"C53D87AFC87100D0E00637B9DB0A3052\",\"timestamp\":\"\",\"Error_Resolution\":{\"SAP_Transaction\":\"\",\"SAP_Note\":\"See SAP Note 1797736 for error analysis (https://service.sap.com/sap/support/notes/1797736)\"},\"errordetails\":[{\"ContentID\":\"\",\"code\":\"VK/007\",\"message\":\"Material ORBC1000 not defined for sales organization DN00 with dist. channel WH\",\"propertyref\":\"\",\"severity\":\"error\",\"transition\":false,\"target\":\"\"}]}}}\n",
      "ORBC1000 2015\n",
      "{\"error\":{\"code\":\"VK/007\",\"message\":{\"lang\":\"en\",\"value\":\"Material ORBC1000 not defined for sales organization UW00 with dist. channel WH\"},\"innererror\":{\"application\":{\"component_id\":\"SD-MD-CM\",\"service_namespace\":\"/SAP/\",\"service_id\":\"API_SLSPRICINGCONDITIONRECORD_SRV\",\"service_version\":\"0001\"},\"transactionid\":\"C53D87AFC87100D0E00637B9DB0A3084\",\"timestamp\":\"\",\"Error_Resolution\":{\"SAP_Transaction\":\"\",\"SAP_Note\":\"See SAP Note 1797736 for error analysis (https://service.sap.com/sap/support/notes/1797736)\"},\"errordetails\":[{\"ContentID\":\"\",\"code\":\"VK/007\",\"message\":\"Material ORBC1000 not defined for sales organization UW00 with dist. channel WH\",\"propertyref\":\"\",\"severity\":\"error\",\"transition\":false,\"target\":\"\"}]}}}\n",
      "ORBC1000 2015\n",
      "{\"error\":{\"code\":\"VK/007\",\"message\":{\"lang\":\"en\",\"value\":\"Material DGRB2000 not defined for sales organization DN00 with dist. channel WH\"},\"innererror\":{\"application\":{\"component_id\":\"SD-MD-CM\",\"service_namespace\":\"/SAP/\",\"service_id\":\"API_SLSPRICINGCONDITIONRECORD_SRV\",\"service_version\":\"0001\"},\"transactionid\":\"C53D87AFC87100D0E00637B9DB0A309C\",\"timestamp\":\"\",\"Error_Resolution\":{\"SAP_Transaction\":\"\",\"SAP_Note\":\"See SAP Note 1797736 for error analysis (https://service.sap.com/sap/support/notes/1797736)\"},\"errordetails\":[{\"ContentID\":\"\",\"code\":\"VK/007\",\"message\":\"Material DGRB2000 not defined for sales organization DN00 with dist. channel WH\",\"propertyref\":\"\",\"severity\":\"error\",\"transition\":false,\"target\":\"\"}]}}}\n",
      "DGRB2000 2016\n",
      "{\"error\":{\"code\":\"VK/007\",\"message\":{\"lang\":\"en\",\"value\":\"Material DGRR2000 not defined for sales organization DN00 with dist. channel WH\"},\"innererror\":{\"application\":{\"component_id\":\"SD-MD-CM\",\"service_namespace\":\"/SAP/\",\"service_id\":\"API_SLSPRICINGCONDITIONRECORD_SRV\",\"service_version\":\"0001\"},\"transactionid\":\"C53D87AFC87100D0E00637B9DB0A309E\",\"timestamp\":\"\",\"Error_Resolution\":{\"SAP_Transaction\":\"\",\"SAP_Note\":\"See SAP Note 1797736 for error analysis (https://service.sap.com/sap/support/notes/1797736)\"},\"errordetails\":[{\"ContentID\":\"\",\"code\":\"VK/007\",\"message\":\"Material DGRR2000 not defined for sales organization DN00 with dist. channel WH\",\"propertyref\":\"\",\"severity\":\"error\",\"transition\":false,\"target\":\"\"}]}}}\n",
      "DGRR2000 2016\n",
      "{\"error\":{\"code\":\"VK/007\",\"message\":{\"lang\":\"en\",\"value\":\"Material DGRW2000 not defined for sales organization DN00 with dist. channel WH\"},\"innererror\":{\"application\":{\"component_id\":\"SD-MD-CM\",\"service_namespace\":\"/SAP/\",\"service_id\":\"API_SLSPRICINGCONDITIONRECORD_SRV\",\"service_version\":\"0001\"},\"transactionid\":\"C53D87AFC87100D0E00637B9DB0A30A0\",\"timestamp\":\"\",\"Error_Resolution\":{\"SAP_Transaction\":\"\",\"SAP_Note\":\"See SAP Note 1797736 for error analysis (https://service.sap.com/sap/support/notes/1797736)\"},\"errordetails\":[{\"ContentID\":\"\",\"code\":\"VK/007\",\"message\":\"Material DGRW2000 not defined for sales organization DN00 with dist. channel WH\",\"propertyref\":\"\",\"severity\":\"error\",\"transition\":false,\"target\":\"\"}]}}}\n",
      "DGRW2000 2016\n",
      "{\"error\":{\"code\":\"VK/007\",\"message\":{\"lang\":\"en\",\"value\":\"Material GRBL2000 not defined for sales organization DN00 with dist. channel WH\"},\"innererror\":{\"application\":{\"component_id\":\"SD-MD-CM\",\"service_namespace\":\"/SAP/\",\"service_id\":\"API_SLSPRICINGCONDITIONRECORD_SRV\",\"service_version\":\"0001\"},\"transactionid\":\"C53D87AFC87100D0E00637B9DB0A30AC\",\"timestamp\":\"\",\"Error_Resolution\":{\"SAP_Transaction\":\"\",\"SAP_Note\":\"See SAP Note 1797736 for error analysis (https://service.sap.com/sap/support/notes/1797736)\"},\"errordetails\":[{\"ContentID\":\"\",\"code\":\"VK/007\",\"message\":\"Material GRBL2000 not defined for sales organization DN00 with dist. channel WH\",\"propertyref\":\"\",\"severity\":\"error\",\"transition\":false,\"target\":\"\"}]}}}\n",
      "GRBL2000 2016\n",
      "{\"error\":{\"code\":\"VK/007\",\"message\":{\"lang\":\"en\",\"value\":\"Material GRRL2000 not defined for sales organization DN00 with dist. channel WH\"},\"innererror\":{\"application\":{\"component_id\":\"SD-MD-CM\",\"service_namespace\":\"/SAP/\",\"service_id\":\"API_SLSPRICINGCONDITIONRECORD_SRV\",\"service_version\":\"0001\"},\"transactionid\":\"C53D87AFC87100D0E00637B9DB0A30AE\",\"timestamp\":\"\",\"Error_Resolution\":{\"SAP_Transaction\":\"\",\"SAP_Note\":\"See SAP Note 1797736 for error analysis (https://service.sap.com/sap/support/notes/1797736)\"},\"errordetails\":[{\"ContentID\":\"\",\"code\":\"VK/007\",\"message\":\"Material GRRL2000 not defined for sales organization DN00 with dist. channel WH\",\"propertyref\":\"\",\"severity\":\"error\",\"transition\":false,\"target\":\"\"}]}}}\n",
      "GRRL2000 2016\n",
      "{\"error\":{\"code\":\"VK/007\",\"message\":{\"lang\":\"en\",\"value\":\"Material GRWL2000 not defined for sales organization DN00 with dist. channel WH\"},\"innererror\":{\"application\":{\"component_id\":\"SD-MD-CM\",\"service_namespace\":\"/SAP/\",\"service_id\":\"API_SLSPRICINGCONDITIONRECORD_SRV\",\"service_version\":\"0001\"},\"transactionid\":\"C53D87AFC87100D0E00637B9DB0A30B0\",\"timestamp\":\"\",\"Error_Resolution\":{\"SAP_Transaction\":\"\",\"SAP_Note\":\"See SAP Note 1797736 for error analysis (https://service.sap.com/sap/support/notes/1797736)\"},\"errordetails\":[{\"ContentID\":\"\",\"code\":\"VK/007\",\"message\":\"Material GRWL2000 not defined for sales organization DN00 with dist. channel WH\",\"propertyref\":\"\",\"severity\":\"error\",\"transition\":false,\"target\":\"\"}]}}}\n",
      "GRWL2000 2016\n",
      "{\"error\":{\"code\":\"VK/007\",\"message\":{\"lang\":\"en\",\"value\":\"Material ORBC1000 not defined for sales organization DN00 with dist. channel WH\"},\"innererror\":{\"application\":{\"component_id\":\"SD-MD-CM\",\"service_namespace\":\"/SAP/\",\"service_id\":\"API_SLSPRICINGCONDITIONRECORD_SRV\",\"service_version\":\"0001\"},\"transactionid\":\"C53D87AFC87100D0E00637B9DB0A30B6\",\"timestamp\":\"\",\"Error_Resolution\":{\"SAP_Transaction\":\"\",\"SAP_Note\":\"See SAP Note 1797736 for error analysis (https://service.sap.com/sap/support/notes/1797736)\"},\"errordetails\":[{\"ContentID\":\"\",\"code\":\"VK/007\",\"message\":\"Material ORBC1000 not defined for sales organization DN00 with dist. channel WH\",\"propertyref\":\"\",\"severity\":\"error\",\"transition\":false,\"target\":\"\"}]}}}\n",
      "ORBC1000 2016\n",
      "{\"error\":{\"code\":\"VK/007\",\"message\":{\"lang\":\"en\",\"value\":\"Material ORBC1000 not defined for sales organization UW00 with dist. channel WH\"},\"innererror\":{\"application\":{\"component_id\":\"SD-MD-CM\",\"service_namespace\":\"/SAP/\",\"service_id\":\"API_SLSPRICINGCONDITIONRECORD_SRV\",\"service_version\":\"0001\"},\"transactionid\":\"C53D87AFC87100D0E00637B9DB0A30E8\",\"timestamp\":\"\",\"Error_Resolution\":{\"SAP_Transaction\":\"\",\"SAP_Note\":\"See SAP Note 1797736 for error analysis (https://service.sap.com/sap/support/notes/1797736)\"},\"errordetails\":[{\"ContentID\":\"\",\"code\":\"VK/007\",\"message\":\"Material ORBC1000 not defined for sales organization UW00 with dist. channel WH\",\"propertyref\":\"\",\"severity\":\"error\",\"transition\":false,\"target\":\"\"}]}}}\n",
      "ORBC1000 2016\n",
      "{\"error\":{\"code\":\"VK/007\",\"message\":{\"lang\":\"en\",\"value\":\"Material DGRB2000 not defined for sales organization DN00 with dist. channel WH\"},\"innererror\":{\"application\":{\"component_id\":\"SD-MD-CM\",\"service_namespace\":\"/SAP/\",\"service_id\":\"API_SLSPRICINGCONDITIONRECORD_SRV\",\"service_version\":\"0001\"},\"transactionid\":\"C53D87AFC87100D0E00637B9DB0A3100\",\"timestamp\":\"\",\"Error_Resolution\":{\"SAP_Transaction\":\"\",\"SAP_Note\":\"See SAP Note 1797736 for error analysis (https://service.sap.com/sap/support/notes/1797736)\"},\"errordetails\":[{\"ContentID\":\"\",\"code\":\"VK/007\",\"message\":\"Material DGRB2000 not defined for sales organization DN00 with dist. channel WH\",\"propertyref\":\"\",\"severity\":\"error\",\"transition\":false,\"target\":\"\"}]}}}\n",
      "DGRB2000 2017\n",
      "{\"error\":{\"code\":\"VK/007\",\"message\":{\"lang\":\"en\",\"value\":\"Material DGRR2000 not defined for sales organization DN00 with dist. channel WH\"},\"innererror\":{\"application\":{\"component_id\":\"SD-MD-CM\",\"service_namespace\":\"/SAP/\",\"service_id\":\"API_SLSPRICINGCONDITIONRECORD_SRV\",\"service_version\":\"0001\"},\"transactionid\":\"C53D87AFC87100D0E00637B9DB0A3102\",\"timestamp\":\"\",\"Error_Resolution\":{\"SAP_Transaction\":\"\",\"SAP_Note\":\"See SAP Note 1797736 for error analysis (https://service.sap.com/sap/support/notes/1797736)\"},\"errordetails\":[{\"ContentID\":\"\",\"code\":\"VK/007\",\"message\":\"Material DGRR2000 not defined for sales organization DN00 with dist. channel WH\",\"propertyref\":\"\",\"severity\":\"error\",\"transition\":false,\"target\":\"\"}]}}}\n",
      "DGRR2000 2017\n",
      "{\"error\":{\"code\":\"VK/007\",\"message\":{\"lang\":\"en\",\"value\":\"Material DGRW2000 not defined for sales organization DN00 with dist. channel WH\"},\"innererror\":{\"application\":{\"component_id\":\"SD-MD-CM\",\"service_namespace\":\"/SAP/\",\"service_id\":\"API_SLSPRICINGCONDITIONRECORD_SRV\",\"service_version\":\"0001\"},\"transactionid\":\"C53D87AFC87100D0E00637B9DB0A3104\",\"timestamp\":\"\",\"Error_Resolution\":{\"SAP_Transaction\":\"\",\"SAP_Note\":\"See SAP Note 1797736 for error analysis (https://service.sap.com/sap/support/notes/1797736)\"},\"errordetails\":[{\"ContentID\":\"\",\"code\":\"VK/007\",\"message\":\"Material DGRW2000 not defined for sales organization DN00 with dist. channel WH\",\"propertyref\":\"\",\"severity\":\"error\",\"transition\":false,\"target\":\"\"}]}}}\n",
      "DGRW2000 2017\n",
      "{\"error\":{\"code\":\"VK/007\",\"message\":{\"lang\":\"en\",\"value\":\"Material GRBL2000 not defined for sales organization DN00 with dist. channel WH\"},\"innererror\":{\"application\":{\"component_id\":\"SD-MD-CM\",\"service_namespace\":\"/SAP/\",\"service_id\":\"API_SLSPRICINGCONDITIONRECORD_SRV\",\"service_version\":\"0001\"},\"transactionid\":\"C53D87AFC87100D0E00637B9DB0A3110\",\"timestamp\":\"\",\"Error_Resolution\":{\"SAP_Transaction\":\"\",\"SAP_Note\":\"See SAP Note 1797736 for error analysis (https://service.sap.com/sap/support/notes/1797736)\"},\"errordetails\":[{\"ContentID\":\"\",\"code\":\"VK/007\",\"message\":\"Material GRBL2000 not defined for sales organization DN00 with dist. channel WH\",\"propertyref\":\"\",\"severity\":\"error\",\"transition\":false,\"target\":\"\"}]}}}\n",
      "GRBL2000 2017\n",
      "{\"error\":{\"code\":\"VK/007\",\"message\":{\"lang\":\"en\",\"value\":\"Material GRRL2000 not defined for sales organization DN00 with dist. channel WH\"},\"innererror\":{\"application\":{\"component_id\":\"SD-MD-CM\",\"service_namespace\":\"/SAP/\",\"service_id\":\"API_SLSPRICINGCONDITIONRECORD_SRV\",\"service_version\":\"0001\"},\"transactionid\":\"C53D87AFC87100D0E00637B9DB0A3112\",\"timestamp\":\"\",\"Error_Resolution\":{\"SAP_Transaction\":\"\",\"SAP_Note\":\"See SAP Note 1797736 for error analysis (https://service.sap.com/sap/support/notes/1797736)\"},\"errordetails\":[{\"ContentID\":\"\",\"code\":\"VK/007\",\"message\":\"Material GRRL2000 not defined for sales organization DN00 with dist. channel WH\",\"propertyref\":\"\",\"severity\":\"error\",\"transition\":false,\"target\":\"\"}]}}}\n",
      "GRRL2000 2017\n",
      "{\"error\":{\"code\":\"VK/007\",\"message\":{\"lang\":\"en\",\"value\":\"Material GRWL2000 not defined for sales organization DN00 with dist. channel WH\"},\"innererror\":{\"application\":{\"component_id\":\"SD-MD-CM\",\"service_namespace\":\"/SAP/\",\"service_id\":\"API_SLSPRICINGCONDITIONRECORD_SRV\",\"service_version\":\"0001\"},\"transactionid\":\"C53D87AFC87100D0E00637B9DB0A3114\",\"timestamp\":\"\",\"Error_Resolution\":{\"SAP_Transaction\":\"\",\"SAP_Note\":\"See SAP Note 1797736 for error analysis (https://service.sap.com/sap/support/notes/1797736)\"},\"errordetails\":[{\"ContentID\":\"\",\"code\":\"VK/007\",\"message\":\"Material GRWL2000 not defined for sales organization DN00 with dist. channel WH\",\"propertyref\":\"\",\"severity\":\"error\",\"transition\":false,\"target\":\"\"}]}}}\n",
      "GRWL2000 2017\n",
      "{\"error\":{\"code\":\"VK/007\",\"message\":{\"lang\":\"en\",\"value\":\"Material ORBC1000 not defined for sales organization DN00 with dist. channel WH\"},\"innererror\":{\"application\":{\"component_id\":\"SD-MD-CM\",\"service_namespace\":\"/SAP/\",\"service_id\":\"API_SLSPRICINGCONDITIONRECORD_SRV\",\"service_version\":\"0001\"},\"transactionid\":\"C53D87AFC87100D0E00637B9DB0A311A\",\"timestamp\":\"\",\"Error_Resolution\":{\"SAP_Transaction\":\"\",\"SAP_Note\":\"See SAP Note 1797736 for error analysis (https://service.sap.com/sap/support/notes/1797736)\"},\"errordetails\":[{\"ContentID\":\"\",\"code\":\"VK/007\",\"message\":\"Material ORBC1000 not defined for sales organization DN00 with dist. channel WH\",\"propertyref\":\"\",\"severity\":\"error\",\"transition\":false,\"target\":\"\"}]}}}\n",
      "ORBC1000 2017\n",
      "{\"error\":{\"code\":\"VK/007\",\"message\":{\"lang\":\"en\",\"value\":\"Material ORBC1000 not defined for sales organization UW00 with dist. channel WH\"},\"innererror\":{\"application\":{\"component_id\":\"SD-MD-CM\",\"service_namespace\":\"/SAP/\",\"service_id\":\"API_SLSPRICINGCONDITIONRECORD_SRV\",\"service_version\":\"0001\"},\"transactionid\":\"C53D87AFC87100D0E00637B9DB0A314C\",\"timestamp\":\"\",\"Error_Resolution\":{\"SAP_Transaction\":\"\",\"SAP_Note\":\"See SAP Note 1797736 for error analysis (https://service.sap.com/sap/support/notes/1797736)\"},\"errordetails\":[{\"ContentID\":\"\",\"code\":\"VK/007\",\"message\":\"Material ORBC1000 not defined for sales organization UW00 with dist. channel WH\",\"propertyref\":\"\",\"severity\":\"error\",\"transition\":false,\"target\":\"\"}]}}}\n",
      "ORBC1000 2017\n",
      "{\"error\":{\"code\":\"VK/007\",\"message\":{\"lang\":\"en\",\"value\":\"Material DGRB2000 not defined for sales organization DN00 with dist. channel WH\"},\"innererror\":{\"application\":{\"component_id\":\"SD-MD-CM\",\"service_namespace\":\"/SAP/\",\"service_id\":\"API_SLSPRICINGCONDITIONRECORD_SRV\",\"service_version\":\"0001\"},\"transactionid\":\"C53D87AFC87100D0E00637B9DB0A3164\",\"timestamp\":\"\",\"Error_Resolution\":{\"SAP_Transaction\":\"\",\"SAP_Note\":\"See SAP Note 1797736 for error analysis (https://service.sap.com/sap/support/notes/1797736)\"},\"errordetails\":[{\"ContentID\":\"\",\"code\":\"VK/007\",\"message\":\"Material DGRB2000 not defined for sales organization DN00 with dist. channel WH\",\"propertyref\":\"\",\"severity\":\"error\",\"transition\":false,\"target\":\"\"}]}}}\n",
      "DGRB2000 2018\n",
      "{\"error\":{\"code\":\"VK/007\",\"message\":{\"lang\":\"en\",\"value\":\"Material DGRR2000 not defined for sales organization DN00 with dist. channel WH\"},\"innererror\":{\"application\":{\"component_id\":\"SD-MD-CM\",\"service_namespace\":\"/SAP/\",\"service_id\":\"API_SLSPRICINGCONDITIONRECORD_SRV\",\"service_version\":\"0001\"},\"transactionid\":\"C53D87AFC87100D0E00637B9DB0A3166\",\"timestamp\":\"\",\"Error_Resolution\":{\"SAP_Transaction\":\"\",\"SAP_Note\":\"See SAP Note 1797736 for error analysis (https://service.sap.com/sap/support/notes/1797736)\"},\"errordetails\":[{\"ContentID\":\"\",\"code\":\"VK/007\",\"message\":\"Material DGRR2000 not defined for sales organization DN00 with dist. channel WH\",\"propertyref\":\"\",\"severity\":\"error\",\"transition\":false,\"target\":\"\"}]}}}\n",
      "DGRR2000 2018\n",
      "{\"error\":{\"code\":\"VK/007\",\"message\":{\"lang\":\"en\",\"value\":\"Material DGRW2000 not defined for sales organization DN00 with dist. channel WH\"},\"innererror\":{\"application\":{\"component_id\":\"SD-MD-CM\",\"service_namespace\":\"/SAP/\",\"service_id\":\"API_SLSPRICINGCONDITIONRECORD_SRV\",\"service_version\":\"0001\"},\"transactionid\":\"C53D87AFC87100D0E00637B9DB0A3168\",\"timestamp\":\"\",\"Error_Resolution\":{\"SAP_Transaction\":\"\",\"SAP_Note\":\"See SAP Note 1797736 for error analysis (https://service.sap.com/sap/support/notes/1797736)\"},\"errordetails\":[{\"ContentID\":\"\",\"code\":\"VK/007\",\"message\":\"Material DGRW2000 not defined for sales organization DN00 with dist. channel WH\",\"propertyref\":\"\",\"severity\":\"error\",\"transition\":false,\"target\":\"\"}]}}}\n",
      "DGRW2000 2018\n",
      "{\"error\":{\"code\":\"VK/007\",\"message\":{\"lang\":\"en\",\"value\":\"Material GRBL2000 not defined for sales organization DN00 with dist. channel WH\"},\"innererror\":{\"application\":{\"component_id\":\"SD-MD-CM\",\"service_namespace\":\"/SAP/\",\"service_id\":\"API_SLSPRICINGCONDITIONRECORD_SRV\",\"service_version\":\"0001\"},\"transactionid\":\"C53D87AFC87100D0E00637B9DB0A3174\",\"timestamp\":\"\",\"Error_Resolution\":{\"SAP_Transaction\":\"\",\"SAP_Note\":\"See SAP Note 1797736 for error analysis (https://service.sap.com/sap/support/notes/1797736)\"},\"errordetails\":[{\"ContentID\":\"\",\"code\":\"VK/007\",\"message\":\"Material GRBL2000 not defined for sales organization DN00 with dist. channel WH\",\"propertyref\":\"\",\"severity\":\"error\",\"transition\":false,\"target\":\"\"}]}}}\n",
      "GRBL2000 2018\n",
      "{\"error\":{\"code\":\"VK/007\",\"message\":{\"lang\":\"en\",\"value\":\"Material GRRL2000 not defined for sales organization DN00 with dist. channel WH\"},\"innererror\":{\"application\":{\"component_id\":\"SD-MD-CM\",\"service_namespace\":\"/SAP/\",\"service_id\":\"API_SLSPRICINGCONDITIONRECORD_SRV\",\"service_version\":\"0001\"},\"transactionid\":\"C53D87AFC87100D0E00637B9DB0A3176\",\"timestamp\":\"\",\"Error_Resolution\":{\"SAP_Transaction\":\"\",\"SAP_Note\":\"See SAP Note 1797736 for error analysis (https://service.sap.com/sap/support/notes/1797736)\"},\"errordetails\":[{\"ContentID\":\"\",\"code\":\"VK/007\",\"message\":\"Material GRRL2000 not defined for sales organization DN00 with dist. channel WH\",\"propertyref\":\"\",\"severity\":\"error\",\"transition\":false,\"target\":\"\"}]}}}\n",
      "GRRL2000 2018\n",
      "{\"error\":{\"code\":\"VK/007\",\"message\":{\"lang\":\"en\",\"value\":\"Material GRWL2000 not defined for sales organization DN00 with dist. channel WH\"},\"innererror\":{\"application\":{\"component_id\":\"SD-MD-CM\",\"service_namespace\":\"/SAP/\",\"service_id\":\"API_SLSPRICINGCONDITIONRECORD_SRV\",\"service_version\":\"0001\"},\"transactionid\":\"C53D87AFC87100D0E00637B9DB0A3178\",\"timestamp\":\"\",\"Error_Resolution\":{\"SAP_Transaction\":\"\",\"SAP_Note\":\"See SAP Note 1797736 for error analysis (https://service.sap.com/sap/support/notes/1797736)\"},\"errordetails\":[{\"ContentID\":\"\",\"code\":\"VK/007\",\"message\":\"Material GRWL2000 not defined for sales organization DN00 with dist. channel WH\",\"propertyref\":\"\",\"severity\":\"error\",\"transition\":false,\"target\":\"\"}]}}}\n",
      "GRWL2000 2018\n",
      "{\"error\":{\"code\":\"VK/007\",\"message\":{\"lang\":\"en\",\"value\":\"Material ORBC1000 not defined for sales organization DN00 with dist. channel WH\"},\"innererror\":{\"application\":{\"component_id\":\"SD-MD-CM\",\"service_namespace\":\"/SAP/\",\"service_id\":\"API_SLSPRICINGCONDITIONRECORD_SRV\",\"service_version\":\"0001\"},\"transactionid\":\"C53D87AFC87100D0E00637B9DB0A317E\",\"timestamp\":\"\",\"Error_Resolution\":{\"SAP_Transaction\":\"\",\"SAP_Note\":\"See SAP Note 1797736 for error analysis (https://service.sap.com/sap/support/notes/1797736)\"},\"errordetails\":[{\"ContentID\":\"\",\"code\":\"VK/007\",\"message\":\"Material ORBC1000 not defined for sales organization DN00 with dist. channel WH\",\"propertyref\":\"\",\"severity\":\"error\",\"transition\":false,\"target\":\"\"}]}}}\n",
      "ORBC1000 2018\n",
      "{\"error\":{\"code\":\"VK/007\",\"message\":{\"lang\":\"en\",\"value\":\"Material ORBC1000 not defined for sales organization UW00 with dist. channel WH\"},\"innererror\":{\"application\":{\"component_id\":\"SD-MD-CM\",\"service_namespace\":\"/SAP/\",\"service_id\":\"API_SLSPRICINGCONDITIONRECORD_SRV\",\"service_version\":\"0001\"},\"transactionid\":\"C53D87AFC87100D0E00637B9DB0A31B0\",\"timestamp\":\"\",\"Error_Resolution\":{\"SAP_Transaction\":\"\",\"SAP_Note\":\"See SAP Note 1797736 for error analysis (https://service.sap.com/sap/support/notes/1797736)\"},\"errordetails\":[{\"ContentID\":\"\",\"code\":\"VK/007\",\"message\":\"Material ORBC1000 not defined for sales organization UW00 with dist. channel WH\",\"propertyref\":\"\",\"severity\":\"error\",\"transition\":false,\"target\":\"\"}]}}}\n",
      "ORBC1000 2018\n",
      "{\"error\":{\"code\":\"VK/007\",\"message\":{\"lang\":\"en\",\"value\":\"Material ORBC1000 not defined for sales organization DS00 with dist. channel WH\"},\"innererror\":{\"application\":{\"component_id\":\"SD-MD-CM\",\"service_namespace\":\"/SAP/\",\"service_id\":\"API_SLSPRICINGCONDITIONRECORD_SRV\",\"service_version\":\"0001\"},\"transactionid\":\"C53D87AFC87100D0E00637B9DB0A31E2\",\"timestamp\":\"\",\"Error_Resolution\":{\"SAP_Transaction\":\"\",\"SAP_Note\":\"See SAP Note 1797736 for error analysis (https://service.sap.com/sap/support/notes/1797736)\"},\"errordetails\":[{\"ContentID\":\"\",\"code\":\"VK/007\",\"message\":\"Material ORBC1000 not defined for sales organization DS00 with dist. channel WH\",\"propertyref\":\"\",\"severity\":\"error\",\"transition\":false,\"target\":\"\"}]}}}\n",
      "ORBC1000 2015\n",
      "{\"error\":{\"code\":\"VK/007\",\"message\":{\"lang\":\"en\",\"value\":\"Material DGRB2000 not defined for sales organization UE00 with dist. channel WH\"},\"innererror\":{\"application\":{\"component_id\":\"SD-MD-CM\",\"service_namespace\":\"/SAP/\",\"service_id\":\"API_SLSPRICINGCONDITIONRECORD_SRV\",\"service_version\":\"0001\"},\"transactionid\":\"C53D87AFC87100D0E00637B9DB0A31FA\",\"timestamp\":\"\",\"Error_Resolution\":{\"SAP_Transaction\":\"\",\"SAP_Note\":\"See SAP Note 1797736 for error analysis (https://service.sap.com/sap/support/notes/1797736)\"},\"errordetails\":[{\"ContentID\":\"\",\"code\":\"VK/007\",\"message\":\"Material DGRB2000 not defined for sales organization UE00 with dist. channel WH\",\"propertyref\":\"\",\"severity\":\"error\",\"transition\":false,\"target\":\"\"}]}}}\n",
      "DGRB2000 2015\n",
      "{\"error\":{\"code\":\"VK/007\",\"message\":{\"lang\":\"en\",\"value\":\"Material DGRR2000 not defined for sales organization UE00 with dist. channel WH\"},\"innererror\":{\"application\":{\"component_id\":\"SD-MD-CM\",\"service_namespace\":\"/SAP/\",\"service_id\":\"API_SLSPRICINGCONDITIONRECORD_SRV\",\"service_version\":\"0001\"},\"transactionid\":\"C53D87AFC87100D0E00637B9DB0A31FC\",\"timestamp\":\"\",\"Error_Resolution\":{\"SAP_Transaction\":\"\",\"SAP_Note\":\"See SAP Note 1797736 for error analysis (https://service.sap.com/sap/support/notes/1797736)\"},\"errordetails\":[{\"ContentID\":\"\",\"code\":\"VK/007\",\"message\":\"Material DGRR2000 not defined for sales organization UE00 with dist. channel WH\",\"propertyref\":\"\",\"severity\":\"error\",\"transition\":false,\"target\":\"\"}]}}}\n",
      "DGRR2000 2015\n",
      "{\"error\":{\"code\":\"VK/007\",\"message\":{\"lang\":\"en\",\"value\":\"Material DGRW2000 not defined for sales organization UE00 with dist. channel WH\"},\"innererror\":{\"application\":{\"component_id\":\"SD-MD-CM\",\"service_namespace\":\"/SAP/\",\"service_id\":\"API_SLSPRICINGCONDITIONRECORD_SRV\",\"service_version\":\"0001\"},\"transactionid\":\"C53D87AFC87100D0E00637B9DB0A31FE\",\"timestamp\":\"\",\"Error_Resolution\":{\"SAP_Transaction\":\"\",\"SAP_Note\":\"See SAP Note 1797736 for error analysis (https://service.sap.com/sap/support/notes/1797736)\"},\"errordetails\":[{\"ContentID\":\"\",\"code\":\"VK/007\",\"message\":\"Material DGRW2000 not defined for sales organization UE00 with dist. channel WH\",\"propertyref\":\"\",\"severity\":\"error\",\"transition\":false,\"target\":\"\"}]}}}\n",
      "DGRW2000 2015\n",
      "{\"error\":{\"code\":\"VK/007\",\"message\":{\"lang\":\"en\",\"value\":\"Material GRBL2000 not defined for sales organization UE00 with dist. channel WH\"},\"innererror\":{\"application\":{\"component_id\":\"SD-MD-CM\",\"service_namespace\":\"/SAP/\",\"service_id\":\"API_SLSPRICINGCONDITIONRECORD_SRV\",\"service_version\":\"0001\"},\"transactionid\":\"C53D87AFC87100D0E00637B9DB0A320A\",\"timestamp\":\"\",\"Error_Resolution\":{\"SAP_Transaction\":\"\",\"SAP_Note\":\"See SAP Note 1797736 for error analysis (https://service.sap.com/sap/support/notes/1797736)\"},\"errordetails\":[{\"ContentID\":\"\",\"code\":\"VK/007\",\"message\":\"Material GRBL2000 not defined for sales organization UE00 with dist. channel WH\",\"propertyref\":\"\",\"severity\":\"error\",\"transition\":false,\"target\":\"\"}]}}}\n",
      "GRBL2000 2015\n",
      "{\"error\":{\"code\":\"VK/007\",\"message\":{\"lang\":\"en\",\"value\":\"Material GRRL2000 not defined for sales organization UE00 with dist. channel WH\"},\"innererror\":{\"application\":{\"component_id\":\"SD-MD-CM\",\"service_namespace\":\"/SAP/\",\"service_id\":\"API_SLSPRICINGCONDITIONRECORD_SRV\",\"service_version\":\"0001\"},\"transactionid\":\"C53D87AFC87100D0E00637B9DB0A320C\",\"timestamp\":\"\",\"Error_Resolution\":{\"SAP_Transaction\":\"\",\"SAP_Note\":\"See SAP Note 1797736 for error analysis (https://service.sap.com/sap/support/notes/1797736)\"},\"errordetails\":[{\"ContentID\":\"\",\"code\":\"VK/007\",\"message\":\"Material GRRL2000 not defined for sales organization UE00 with dist. channel WH\",\"propertyref\":\"\",\"severity\":\"error\",\"transition\":false,\"target\":\"\"}]}}}\n",
      "GRRL2000 2015\n",
      "{\"error\":{\"code\":\"VK/007\",\"message\":{\"lang\":\"en\",\"value\":\"Material GRWL2000 not defined for sales organization UE00 with dist. channel WH\"},\"innererror\":{\"application\":{\"component_id\":\"SD-MD-CM\",\"service_namespace\":\"/SAP/\",\"service_id\":\"API_SLSPRICINGCONDITIONRECORD_SRV\",\"service_version\":\"0001\"},\"transactionid\":\"C53D87AFC87100D0E00637B9DB0A320E\",\"timestamp\":\"\",\"Error_Resolution\":{\"SAP_Transaction\":\"\",\"SAP_Note\":\"See SAP Note 1797736 for error analysis (https://service.sap.com/sap/support/notes/1797736)\"},\"errordetails\":[{\"ContentID\":\"\",\"code\":\"VK/007\",\"message\":\"Material GRWL2000 not defined for sales organization UE00 with dist. channel WH\",\"propertyref\":\"\",\"severity\":\"error\",\"transition\":false,\"target\":\"\"}]}}}\n",
      "GRWL2000 2015\n",
      "{\"error\":{\"code\":\"VK/007\",\"message\":{\"lang\":\"en\",\"value\":\"Material ORBC1000 not defined for sales organization UE00 with dist. channel WH\"},\"innererror\":{\"application\":{\"component_id\":\"SD-MD-CM\",\"service_namespace\":\"/SAP/\",\"service_id\":\"API_SLSPRICINGCONDITIONRECORD_SRV\",\"service_version\":\"0001\"},\"transactionid\":\"C53D87AFC87100D0E00637B9DB0A3214\",\"timestamp\":\"\",\"Error_Resolution\":{\"SAP_Transaction\":\"\",\"SAP_Note\":\"See SAP Note 1797736 for error analysis (https://service.sap.com/sap/support/notes/1797736)\"},\"errordetails\":[{\"ContentID\":\"\",\"code\":\"VK/007\",\"message\":\"Material ORBC1000 not defined for sales organization UE00 with dist. channel WH\",\"propertyref\":\"\",\"severity\":\"error\",\"transition\":false,\"target\":\"\"}]}}}\n",
      "ORBC1000 2015\n",
      "{\"error\":{\"code\":\"VK/007\",\"message\":{\"lang\":\"en\",\"value\":\"Material ORBC1000 not defined for sales organization DS00 with dist. channel WH\"},\"innererror\":{\"application\":{\"component_id\":\"SD-MD-CM\",\"service_namespace\":\"/SAP/\",\"service_id\":\"API_SLSPRICINGCONDITIONRECORD_SRV\",\"service_version\":\"0001\"},\"transactionid\":\"C53D87AFC87100D0E00637B9DB0A3246\",\"timestamp\":\"\",\"Error_Resolution\":{\"SAP_Transaction\":\"\",\"SAP_Note\":\"See SAP Note 1797736 for error analysis (https://service.sap.com/sap/support/notes/1797736)\"},\"errordetails\":[{\"ContentID\":\"\",\"code\":\"VK/007\",\"message\":\"Material ORBC1000 not defined for sales organization DS00 with dist. channel WH\",\"propertyref\":\"\",\"severity\":\"error\",\"transition\":false,\"target\":\"\"}]}}}\n",
      "ORBC1000 2016\n",
      "{\"error\":{\"code\":\"VK/007\",\"message\":{\"lang\":\"en\",\"value\":\"Material DGRB2000 not defined for sales organization UE00 with dist. channel WH\"},\"innererror\":{\"application\":{\"component_id\":\"SD-MD-CM\",\"service_namespace\":\"/SAP/\",\"service_id\":\"API_SLSPRICINGCONDITIONRECORD_SRV\",\"service_version\":\"0001\"},\"transactionid\":\"C53D87AFC87100D0E00637B9DB0A325E\",\"timestamp\":\"\",\"Error_Resolution\":{\"SAP_Transaction\":\"\",\"SAP_Note\":\"See SAP Note 1797736 for error analysis (https://service.sap.com/sap/support/notes/1797736)\"},\"errordetails\":[{\"ContentID\":\"\",\"code\":\"VK/007\",\"message\":\"Material DGRB2000 not defined for sales organization UE00 with dist. channel WH\",\"propertyref\":\"\",\"severity\":\"error\",\"transition\":false,\"target\":\"\"}]}}}\n",
      "DGRB2000 2016\n",
      "{\"error\":{\"code\":\"VK/007\",\"message\":{\"lang\":\"en\",\"value\":\"Material DGRR2000 not defined for sales organization UE00 with dist. channel WH\"},\"innererror\":{\"application\":{\"component_id\":\"SD-MD-CM\",\"service_namespace\":\"/SAP/\",\"service_id\":\"API_SLSPRICINGCONDITIONRECORD_SRV\",\"service_version\":\"0001\"},\"transactionid\":\"C53D87AFC87100D0E00637B9DB0A3260\",\"timestamp\":\"\",\"Error_Resolution\":{\"SAP_Transaction\":\"\",\"SAP_Note\":\"See SAP Note 1797736 for error analysis (https://service.sap.com/sap/support/notes/1797736)\"},\"errordetails\":[{\"ContentID\":\"\",\"code\":\"VK/007\",\"message\":\"Material DGRR2000 not defined for sales organization UE00 with dist. channel WH\",\"propertyref\":\"\",\"severity\":\"error\",\"transition\":false,\"target\":\"\"}]}}}\n",
      "DGRR2000 2016\n",
      "{\"error\":{\"code\":\"VK/007\",\"message\":{\"lang\":\"en\",\"value\":\"Material DGRW2000 not defined for sales organization UE00 with dist. channel WH\"},\"innererror\":{\"application\":{\"component_id\":\"SD-MD-CM\",\"service_namespace\":\"/SAP/\",\"service_id\":\"API_SLSPRICINGCONDITIONRECORD_SRV\",\"service_version\":\"0001\"},\"transactionid\":\"C53D87AFC87100D0E00637B9DB0A3262\",\"timestamp\":\"\",\"Error_Resolution\":{\"SAP_Transaction\":\"\",\"SAP_Note\":\"See SAP Note 1797736 for error analysis (https://service.sap.com/sap/support/notes/1797736)\"},\"errordetails\":[{\"ContentID\":\"\",\"code\":\"VK/007\",\"message\":\"Material DGRW2000 not defined for sales organization UE00 with dist. channel WH\",\"propertyref\":\"\",\"severity\":\"error\",\"transition\":false,\"target\":\"\"}]}}}\n",
      "DGRW2000 2016\n",
      "{\"error\":{\"code\":\"VK/007\",\"message\":{\"lang\":\"en\",\"value\":\"Material GRBL2000 not defined for sales organization UE00 with dist. channel WH\"},\"innererror\":{\"application\":{\"component_id\":\"SD-MD-CM\",\"service_namespace\":\"/SAP/\",\"service_id\":\"API_SLSPRICINGCONDITIONRECORD_SRV\",\"service_version\":\"0001\"},\"transactionid\":\"C53D87AFC87100D0E00637B9DB0A326E\",\"timestamp\":\"\",\"Error_Resolution\":{\"SAP_Transaction\":\"\",\"SAP_Note\":\"See SAP Note 1797736 for error analysis (https://service.sap.com/sap/support/notes/1797736)\"},\"errordetails\":[{\"ContentID\":\"\",\"code\":\"VK/007\",\"message\":\"Material GRBL2000 not defined for sales organization UE00 with dist. channel WH\",\"propertyref\":\"\",\"severity\":\"error\",\"transition\":false,\"target\":\"\"}]}}}\n",
      "GRBL2000 2016\n",
      "{\"error\":{\"code\":\"VK/007\",\"message\":{\"lang\":\"en\",\"value\":\"Material GRRL2000 not defined for sales organization UE00 with dist. channel WH\"},\"innererror\":{\"application\":{\"component_id\":\"SD-MD-CM\",\"service_namespace\":\"/SAP/\",\"service_id\":\"API_SLSPRICINGCONDITIONRECORD_SRV\",\"service_version\":\"0001\"},\"transactionid\":\"C53D87AFC87100D0E00637B9DB0A3270\",\"timestamp\":\"\",\"Error_Resolution\":{\"SAP_Transaction\":\"\",\"SAP_Note\":\"See SAP Note 1797736 for error analysis (https://service.sap.com/sap/support/notes/1797736)\"},\"errordetails\":[{\"ContentID\":\"\",\"code\":\"VK/007\",\"message\":\"Material GRRL2000 not defined for sales organization UE00 with dist. channel WH\",\"propertyref\":\"\",\"severity\":\"error\",\"transition\":false,\"target\":\"\"}]}}}\n",
      "GRRL2000 2016\n",
      "{\"error\":{\"code\":\"VK/007\",\"message\":{\"lang\":\"en\",\"value\":\"Material GRWL2000 not defined for sales organization UE00 with dist. channel WH\"},\"innererror\":{\"application\":{\"component_id\":\"SD-MD-CM\",\"service_namespace\":\"/SAP/\",\"service_id\":\"API_SLSPRICINGCONDITIONRECORD_SRV\",\"service_version\":\"0001\"},\"transactionid\":\"C53D87AFC87100D0E00637B9DB0A3272\",\"timestamp\":\"\",\"Error_Resolution\":{\"SAP_Transaction\":\"\",\"SAP_Note\":\"See SAP Note 1797736 for error analysis (https://service.sap.com/sap/support/notes/1797736)\"},\"errordetails\":[{\"ContentID\":\"\",\"code\":\"VK/007\",\"message\":\"Material GRWL2000 not defined for sales organization UE00 with dist. channel WH\",\"propertyref\":\"\",\"severity\":\"error\",\"transition\":false,\"target\":\"\"}]}}}\n",
      "GRWL2000 2016\n",
      "{\"error\":{\"code\":\"VK/007\",\"message\":{\"lang\":\"en\",\"value\":\"Material ORBC1000 not defined for sales organization UE00 with dist. channel WH\"},\"innererror\":{\"application\":{\"component_id\":\"SD-MD-CM\",\"service_namespace\":\"/SAP/\",\"service_id\":\"API_SLSPRICINGCONDITIONRECORD_SRV\",\"service_version\":\"0001\"},\"transactionid\":\"C53D87AFC87100D0E00637B9DB0A3278\",\"timestamp\":\"\",\"Error_Resolution\":{\"SAP_Transaction\":\"\",\"SAP_Note\":\"See SAP Note 1797736 for error analysis (https://service.sap.com/sap/support/notes/1797736)\"},\"errordetails\":[{\"ContentID\":\"\",\"code\":\"VK/007\",\"message\":\"Material ORBC1000 not defined for sales organization UE00 with dist. channel WH\",\"propertyref\":\"\",\"severity\":\"error\",\"transition\":false,\"target\":\"\"}]}}}\n",
      "ORBC1000 2016\n",
      "{\"error\":{\"code\":\"VK/007\",\"message\":{\"lang\":\"en\",\"value\":\"Material ORBC1000 not defined for sales organization DS00 with dist. channel WH\"},\"innererror\":{\"application\":{\"component_id\":\"SD-MD-CM\",\"service_namespace\":\"/SAP/\",\"service_id\":\"API_SLSPRICINGCONDITIONRECORD_SRV\",\"service_version\":\"0001\"},\"transactionid\":\"C53D87AFC87100D0E00637B9DB0A32AA\",\"timestamp\":\"\",\"Error_Resolution\":{\"SAP_Transaction\":\"\",\"SAP_Note\":\"See SAP Note 1797736 for error analysis (https://service.sap.com/sap/support/notes/1797736)\"},\"errordetails\":[{\"ContentID\":\"\",\"code\":\"VK/007\",\"message\":\"Material ORBC1000 not defined for sales organization DS00 with dist. channel WH\",\"propertyref\":\"\",\"severity\":\"error\",\"transition\":false,\"target\":\"\"}]}}}\n",
      "ORBC1000 2017\n",
      "{\"error\":{\"code\":\"VK/007\",\"message\":{\"lang\":\"en\",\"value\":\"Material DGRB2000 not defined for sales organization UE00 with dist. channel WH\"},\"innererror\":{\"application\":{\"component_id\":\"SD-MD-CM\",\"service_namespace\":\"/SAP/\",\"service_id\":\"API_SLSPRICINGCONDITIONRECORD_SRV\",\"service_version\":\"0001\"},\"transactionid\":\"C53D87AFC87100D0E00637B9DB0A32C2\",\"timestamp\":\"\",\"Error_Resolution\":{\"SAP_Transaction\":\"\",\"SAP_Note\":\"See SAP Note 1797736 for error analysis (https://service.sap.com/sap/support/notes/1797736)\"},\"errordetails\":[{\"ContentID\":\"\",\"code\":\"VK/007\",\"message\":\"Material DGRB2000 not defined for sales organization UE00 with dist. channel WH\",\"propertyref\":\"\",\"severity\":\"error\",\"transition\":false,\"target\":\"\"}]}}}\n",
      "DGRB2000 2017\n",
      "{\"error\":{\"code\":\"VK/007\",\"message\":{\"lang\":\"en\",\"value\":\"Material DGRR2000 not defined for sales organization UE00 with dist. channel WH\"},\"innererror\":{\"application\":{\"component_id\":\"SD-MD-CM\",\"service_namespace\":\"/SAP/\",\"service_id\":\"API_SLSPRICINGCONDITIONRECORD_SRV\",\"service_version\":\"0001\"},\"transactionid\":\"C53D87AFC87100D0E00637B9DB0A32C4\",\"timestamp\":\"\",\"Error_Resolution\":{\"SAP_Transaction\":\"\",\"SAP_Note\":\"See SAP Note 1797736 for error analysis (https://service.sap.com/sap/support/notes/1797736)\"},\"errordetails\":[{\"ContentID\":\"\",\"code\":\"VK/007\",\"message\":\"Material DGRR2000 not defined for sales organization UE00 with dist. channel WH\",\"propertyref\":\"\",\"severity\":\"error\",\"transition\":false,\"target\":\"\"}]}}}\n",
      "DGRR2000 2017\n",
      "{\"error\":{\"code\":\"VK/007\",\"message\":{\"lang\":\"en\",\"value\":\"Material DGRW2000 not defined for sales organization UE00 with dist. channel WH\"},\"innererror\":{\"application\":{\"component_id\":\"SD-MD-CM\",\"service_namespace\":\"/SAP/\",\"service_id\":\"API_SLSPRICINGCONDITIONRECORD_SRV\",\"service_version\":\"0001\"},\"transactionid\":\"C53D87AFC87100D0E00637B9DB0A32C6\",\"timestamp\":\"\",\"Error_Resolution\":{\"SAP_Transaction\":\"\",\"SAP_Note\":\"See SAP Note 1797736 for error analysis (https://service.sap.com/sap/support/notes/1797736)\"},\"errordetails\":[{\"ContentID\":\"\",\"code\":\"VK/007\",\"message\":\"Material DGRW2000 not defined for sales organization UE00 with dist. channel WH\",\"propertyref\":\"\",\"severity\":\"error\",\"transition\":false,\"target\":\"\"}]}}}\n",
      "DGRW2000 2017\n",
      "{\"error\":{\"code\":\"VK/007\",\"message\":{\"lang\":\"en\",\"value\":\"Material GRBL2000 not defined for sales organization UE00 with dist. channel WH\"},\"innererror\":{\"application\":{\"component_id\":\"SD-MD-CM\",\"service_namespace\":\"/SAP/\",\"service_id\":\"API_SLSPRICINGCONDITIONRECORD_SRV\",\"service_version\":\"0001\"},\"transactionid\":\"C53D87AFC87100D0E00637B9DB0A32D2\",\"timestamp\":\"\",\"Error_Resolution\":{\"SAP_Transaction\":\"\",\"SAP_Note\":\"See SAP Note 1797736 for error analysis (https://service.sap.com/sap/support/notes/1797736)\"},\"errordetails\":[{\"ContentID\":\"\",\"code\":\"VK/007\",\"message\":\"Material GRBL2000 not defined for sales organization UE00 with dist. channel WH\",\"propertyref\":\"\",\"severity\":\"error\",\"transition\":false,\"target\":\"\"}]}}}\n",
      "GRBL2000 2017\n",
      "{\"error\":{\"code\":\"VK/007\",\"message\":{\"lang\":\"en\",\"value\":\"Material GRRL2000 not defined for sales organization UE00 with dist. channel WH\"},\"innererror\":{\"application\":{\"component_id\":\"SD-MD-CM\",\"service_namespace\":\"/SAP/\",\"service_id\":\"API_SLSPRICINGCONDITIONRECORD_SRV\",\"service_version\":\"0001\"},\"transactionid\":\"C53D87AFC87100D0E00637B9DB0A32D4\",\"timestamp\":\"\",\"Error_Resolution\":{\"SAP_Transaction\":\"\",\"SAP_Note\":\"See SAP Note 1797736 for error analysis (https://service.sap.com/sap/support/notes/1797736)\"},\"errordetails\":[{\"ContentID\":\"\",\"code\":\"VK/007\",\"message\":\"Material GRRL2000 not defined for sales organization UE00 with dist. channel WH\",\"propertyref\":\"\",\"severity\":\"error\",\"transition\":false,\"target\":\"\"}]}}}\n",
      "GRRL2000 2017\n",
      "{\"error\":{\"code\":\"VK/007\",\"message\":{\"lang\":\"en\",\"value\":\"Material GRWL2000 not defined for sales organization UE00 with dist. channel WH\"},\"innererror\":{\"application\":{\"component_id\":\"SD-MD-CM\",\"service_namespace\":\"/SAP/\",\"service_id\":\"API_SLSPRICINGCONDITIONRECORD_SRV\",\"service_version\":\"0001\"},\"transactionid\":\"C53D87AFC87100D0E00637B9DB0A32D6\",\"timestamp\":\"\",\"Error_Resolution\":{\"SAP_Transaction\":\"\",\"SAP_Note\":\"See SAP Note 1797736 for error analysis (https://service.sap.com/sap/support/notes/1797736)\"},\"errordetails\":[{\"ContentID\":\"\",\"code\":\"VK/007\",\"message\":\"Material GRWL2000 not defined for sales organization UE00 with dist. channel WH\",\"propertyref\":\"\",\"severity\":\"error\",\"transition\":false,\"target\":\"\"}]}}}\n",
      "GRWL2000 2017\n",
      "{\"error\":{\"code\":\"VK/007\",\"message\":{\"lang\":\"en\",\"value\":\"Material ORBC1000 not defined for sales organization UE00 with dist. channel WH\"},\"innererror\":{\"application\":{\"component_id\":\"SD-MD-CM\",\"service_namespace\":\"/SAP/\",\"service_id\":\"API_SLSPRICINGCONDITIONRECORD_SRV\",\"service_version\":\"0001\"},\"transactionid\":\"C53D87AFC87100D0E00637B9DB0A32DC\",\"timestamp\":\"\",\"Error_Resolution\":{\"SAP_Transaction\":\"\",\"SAP_Note\":\"See SAP Note 1797736 for error analysis (https://service.sap.com/sap/support/notes/1797736)\"},\"errordetails\":[{\"ContentID\":\"\",\"code\":\"VK/007\",\"message\":\"Material ORBC1000 not defined for sales organization UE00 with dist. channel WH\",\"propertyref\":\"\",\"severity\":\"error\",\"transition\":false,\"target\":\"\"}]}}}\n",
      "ORBC1000 2017\n",
      "{\"error\":{\"code\":\"VK/007\",\"message\":{\"lang\":\"en\",\"value\":\"Material ORBC1000 not defined for sales organization DS00 with dist. channel WH\"},\"innererror\":{\"application\":{\"component_id\":\"SD-MD-CM\",\"service_namespace\":\"/SAP/\",\"service_id\":\"API_SLSPRICINGCONDITIONRECORD_SRV\",\"service_version\":\"0001\"},\"transactionid\":\"C53D87AFC87100D0E00637B9DB0A330E\",\"timestamp\":\"\",\"Error_Resolution\":{\"SAP_Transaction\":\"\",\"SAP_Note\":\"See SAP Note 1797736 for error analysis (https://service.sap.com/sap/support/notes/1797736)\"},\"errordetails\":[{\"ContentID\":\"\",\"code\":\"VK/007\",\"message\":\"Material ORBC1000 not defined for sales organization DS00 with dist. channel WH\",\"propertyref\":\"\",\"severity\":\"error\",\"transition\":false,\"target\":\"\"}]}}}\n",
      "ORBC1000 2018\n",
      "{\"error\":{\"code\":\"VK/007\",\"message\":{\"lang\":\"en\",\"value\":\"Material DGRB2000 not defined for sales organization UE00 with dist. channel WH\"},\"innererror\":{\"application\":{\"component_id\":\"SD-MD-CM\",\"service_namespace\":\"/SAP/\",\"service_id\":\"API_SLSPRICINGCONDITIONRECORD_SRV\",\"service_version\":\"0001\"},\"transactionid\":\"C53D87AFC87100D0E00637B9DB0A3326\",\"timestamp\":\"\",\"Error_Resolution\":{\"SAP_Transaction\":\"\",\"SAP_Note\":\"See SAP Note 1797736 for error analysis (https://service.sap.com/sap/support/notes/1797736)\"},\"errordetails\":[{\"ContentID\":\"\",\"code\":\"VK/007\",\"message\":\"Material DGRB2000 not defined for sales organization UE00 with dist. channel WH\",\"propertyref\":\"\",\"severity\":\"error\",\"transition\":false,\"target\":\"\"}]}}}\n",
      "DGRB2000 2018\n",
      "{\"error\":{\"code\":\"VK/007\",\"message\":{\"lang\":\"en\",\"value\":\"Material DGRR2000 not defined for sales organization UE00 with dist. channel WH\"},\"innererror\":{\"application\":{\"component_id\":\"SD-MD-CM\",\"service_namespace\":\"/SAP/\",\"service_id\":\"API_SLSPRICINGCONDITIONRECORD_SRV\",\"service_version\":\"0001\"},\"transactionid\":\"C53D87AFC87100D0E00637B9DB0A3328\",\"timestamp\":\"\",\"Error_Resolution\":{\"SAP_Transaction\":\"\",\"SAP_Note\":\"See SAP Note 1797736 for error analysis (https://service.sap.com/sap/support/notes/1797736)\"},\"errordetails\":[{\"ContentID\":\"\",\"code\":\"VK/007\",\"message\":\"Material DGRR2000 not defined for sales organization UE00 with dist. channel WH\",\"propertyref\":\"\",\"severity\":\"error\",\"transition\":false,\"target\":\"\"}]}}}\n",
      "DGRR2000 2018\n",
      "{\"error\":{\"code\":\"VK/007\",\"message\":{\"lang\":\"en\",\"value\":\"Material DGRW2000 not defined for sales organization UE00 with dist. channel WH\"},\"innererror\":{\"application\":{\"component_id\":\"SD-MD-CM\",\"service_namespace\":\"/SAP/\",\"service_id\":\"API_SLSPRICINGCONDITIONRECORD_SRV\",\"service_version\":\"0001\"},\"transactionid\":\"C53D87AFC87100D0E00637B9DB0A332A\",\"timestamp\":\"\",\"Error_Resolution\":{\"SAP_Transaction\":\"\",\"SAP_Note\":\"See SAP Note 1797736 for error analysis (https://service.sap.com/sap/support/notes/1797736)\"},\"errordetails\":[{\"ContentID\":\"\",\"code\":\"VK/007\",\"message\":\"Material DGRW2000 not defined for sales organization UE00 with dist. channel WH\",\"propertyref\":\"\",\"severity\":\"error\",\"transition\":false,\"target\":\"\"}]}}}\n",
      "DGRW2000 2018\n",
      "{\"error\":{\"code\":\"VK/007\",\"message\":{\"lang\":\"en\",\"value\":\"Material GRBL2000 not defined for sales organization UE00 with dist. channel WH\"},\"innererror\":{\"application\":{\"component_id\":\"SD-MD-CM\",\"service_namespace\":\"/SAP/\",\"service_id\":\"API_SLSPRICINGCONDITIONRECORD_SRV\",\"service_version\":\"0001\"},\"transactionid\":\"C53D87AFC87100D0E00637B9DB0A3336\",\"timestamp\":\"\",\"Error_Resolution\":{\"SAP_Transaction\":\"\",\"SAP_Note\":\"See SAP Note 1797736 for error analysis (https://service.sap.com/sap/support/notes/1797736)\"},\"errordetails\":[{\"ContentID\":\"\",\"code\":\"VK/007\",\"message\":\"Material GRBL2000 not defined for sales organization UE00 with dist. channel WH\",\"propertyref\":\"\",\"severity\":\"error\",\"transition\":false,\"target\":\"\"}]}}}\n",
      "GRBL2000 2018\n",
      "{\"error\":{\"code\":\"VK/007\",\"message\":{\"lang\":\"en\",\"value\":\"Material GRRL2000 not defined for sales organization UE00 with dist. channel WH\"},\"innererror\":{\"application\":{\"component_id\":\"SD-MD-CM\",\"service_namespace\":\"/SAP/\",\"service_id\":\"API_SLSPRICINGCONDITIONRECORD_SRV\",\"service_version\":\"0001\"},\"transactionid\":\"C53D87AFC87100D0E00637B9DB0A3338\",\"timestamp\":\"\",\"Error_Resolution\":{\"SAP_Transaction\":\"\",\"SAP_Note\":\"See SAP Note 1797736 for error analysis (https://service.sap.com/sap/support/notes/1797736)\"},\"errordetails\":[{\"ContentID\":\"\",\"code\":\"VK/007\",\"message\":\"Material GRRL2000 not defined for sales organization UE00 with dist. channel WH\",\"propertyref\":\"\",\"severity\":\"error\",\"transition\":false,\"target\":\"\"}]}}}\n",
      "GRRL2000 2018\n",
      "{\"error\":{\"code\":\"VK/007\",\"message\":{\"lang\":\"en\",\"value\":\"Material GRWL2000 not defined for sales organization UE00 with dist. channel WH\"},\"innererror\":{\"application\":{\"component_id\":\"SD-MD-CM\",\"service_namespace\":\"/SAP/\",\"service_id\":\"API_SLSPRICINGCONDITIONRECORD_SRV\",\"service_version\":\"0001\"},\"transactionid\":\"C53D87AFC87100D0E00637B9DB0A333A\",\"timestamp\":\"\",\"Error_Resolution\":{\"SAP_Transaction\":\"\",\"SAP_Note\":\"See SAP Note 1797736 for error analysis (https://service.sap.com/sap/support/notes/1797736)\"},\"errordetails\":[{\"ContentID\":\"\",\"code\":\"VK/007\",\"message\":\"Material GRWL2000 not defined for sales organization UE00 with dist. channel WH\",\"propertyref\":\"\",\"severity\":\"error\",\"transition\":false,\"target\":\"\"}]}}}\n",
      "GRWL2000 2018\n",
      "{\"error\":{\"code\":\"VK/007\",\"message\":{\"lang\":\"en\",\"value\":\"Material ORBC1000 not defined for sales organization UE00 with dist. channel WH\"},\"innererror\":{\"application\":{\"component_id\":\"SD-MD-CM\",\"service_namespace\":\"/SAP/\",\"service_id\":\"API_SLSPRICINGCONDITIONRECORD_SRV\",\"service_version\":\"0001\"},\"transactionid\":\"C53D87AFC87100D0E00637B9DB0A3340\",\"timestamp\":\"\",\"Error_Resolution\":{\"SAP_Transaction\":\"\",\"SAP_Note\":\"See SAP Note 1797736 for error analysis (https://service.sap.com/sap/support/notes/1797736)\"},\"errordetails\":[{\"ContentID\":\"\",\"code\":\"VK/007\",\"message\":\"Material ORBC1000 not defined for sales organization UE00 with dist. channel WH\",\"propertyref\":\"\",\"severity\":\"error\",\"transition\":false,\"target\":\"\"}]}}}\n",
      "ORBC1000 2018\n"
     ]
    }
   ],
   "source": [
    "for s in prices.itertuples():\n",
    "    prices_request.set(**price_condition(s))  # **kwargs expandiert das dictionary\n",
    "    try:\n",
    "        prices_request.execute()  # do the import into S4\n",
    "    except pyodata.exceptions.HttpError as ex:\n",
    "        print(ex.response.text)\n",
    "        print(f'{s.MATNR} {s.Year}')"
   ]
  }
 ],
 "metadata": {
  "kernelspec": {
   "display_name": "base",
   "language": "python",
   "name": "python3"
  },
  "language_info": {
   "codemirror_mode": {
    "name": "ipython",
    "version": 3
   },
   "file_extension": ".py",
   "mimetype": "text/x-python",
   "name": "python",
   "nbconvert_exporter": "python",
   "pygments_lexer": "ipython3",
   "version": "3.8.15"
  },
  "orig_nbformat": 4,
  "vscode": {
   "interpreter": {
    "hash": "50e5b27107e40faec526e5967cc5e7667b46a85d7faacead4794257648bc1590"
   }
  }
 },
 "nbformat": 4,
 "nbformat_minor": 2
}
