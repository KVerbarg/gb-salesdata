{
 "cells": [
  {
   "attachments": {},
   "cell_type": "markdown",
   "metadata": {},
   "source": [
    "# Import Costs into S/4HANA\n",
    "## Background\n",
    "Costs are displayed in a Global Bike sales order as \"Internal Price\" with Condition Type VPRS.\n",
    "We need costs (C08) to be able to compute sensible profit margins later. Since there are no regular cost calculations or goods receipts in Global Bike, we want to manipulate the costs (C08) directly. As a consequence, *this Global Bike client for test data deviates from the standard Global Bike client with respect to costs (and prices)*."
   ]
  },
  {
   "attachments": {},
   "cell_type": "markdown",
   "metadata": {},
   "source": [
    "### Source for costs\n",
    "This costs in a sales order are drawn from table field `MBEW-STPRS` (Standard price), or, `MBEW-VERPR` (Moving average price), resp., depending on the Setting \"Price Control\" in \"Accounting 1\" of the material master. Table `MBEWH` contains the historic prices per period.\n",
    "\n",
    "So for processing, there is just the current price available (although there might be also future prices calculated via CO). Unlike our approach for prices, we cannot define the costs for all past and future years at once. When creating a sales order (for a given year possibly in the past) we have to check/set the *current* costs accordingly first. Note that these current costs are then used for a sales order date in the past."
   ]
  },
  {
   "attachments": {},
   "cell_type": "markdown",
   "metadata": {},
   "source": [
    "### Setting the costs\n",
    "The costs (Standard or Moving price according to the setting in the material master) can be set manually via Transaction `MR21` or `BAPI_MATVAL_PRICE_CHANGE` as long as there are no pending CO-calculations in the way. In the latter case, we get the following error message.\n",
    "\n",
    "![Error message CKPRCH025](../image/Error%20CKPRCH025.png)\n",
    "\n",
    "The document for the price change can be viewed using Transaction `CKMPCD`.\n",
    "\n",
    "If stock exists for the material, a revaluation posting will be created. In regular operation, the costs should be set only once a year."
   ]
  },
  {
   "attachments": {},
   "cell_type": "markdown",
   "metadata": {},
   "source": [
    "## Preparations\n",
    "### Delete CO costs\n",
    "To avoid the above mentioned error, we have to delete current cost estimates which exist in the Global Bike client. This is done via Transaction `CKR1` using the following settings.\n",
    "\n",
    "![Transaction CKR1.png](../image/Transaction%20CKR1.png)"
   ]
  },
  {
   "attachments": {},
   "cell_type": "markdown",
   "metadata": {},
   "source": [
    "### Allow cost changes\n",
    "Wenn trying to change the cost via Transaction `MR21`, we get the error\n",
    "![](../image/CKMLSENDPRICE701.png)\n",
    "\n",
    "To allow cost changes, we have to add a configuration for each of our five plants via View `VCKML_PRICE_SEND` like so:\n",
    "![](../image/VCKML_PRICE_SEND.png)"
   ]
  },
  {
   "attachments": {},
   "cell_type": "markdown",
   "metadata": {},
   "source": [
    "## Implementation\n",
    "### TSV file for importing costs to S4\n",
    "We first have to prepare the costs from `generator/masterdata.xls` and import them into a DB table in S4."
   ]
  },
  {
   "cell_type": "code",
   "execution_count": 1,
   "metadata": {},
   "outputs": [],
   "source": [
    "import pandas as pd\n",
    "import re as re"
   ]
  },
  {
   "cell_type": "code",
   "execution_count": 2,
   "metadata": {},
   "outputs": [
    {
     "data": {
      "text/html": [
       "<div>\n",
       "<style scoped>\n",
       "    .dataframe tbody tr th:only-of-type {\n",
       "        vertical-align: middle;\n",
       "    }\n",
       "\n",
       "    .dataframe tbody tr th {\n",
       "        vertical-align: top;\n",
       "    }\n",
       "\n",
       "    .dataframe thead th {\n",
       "        text-align: right;\n",
       "    }\n",
       "</style>\n",
       "<table border=\"1\" class=\"dataframe\">\n",
       "  <thead>\n",
       "    <tr style=\"text-align: right;\">\n",
       "      <th></th>\n",
       "      <th>MATNR</th>\n",
       "      <th>MATKL</th>\n",
       "      <th>Unnamed: 2</th>\n",
       "      <th>Marge</th>\n",
       "      <th>MAKTX</th>\n",
       "      <th>2020</th>\n",
       "      <th>2021</th>\n",
       "      <th>2022</th>\n",
       "      <th>2023</th>\n",
       "      <th>2024</th>\n",
       "      <th>...</th>\n",
       "      <th>2026</th>\n",
       "      <th>2027</th>\n",
       "      <th>2028</th>\n",
       "      <th>2029</th>\n",
       "      <th>2030</th>\n",
       "      <th>2031</th>\n",
       "      <th>2032</th>\n",
       "      <th>2033</th>\n",
       "      <th>2034</th>\n",
       "      <th>2035</th>\n",
       "    </tr>\n",
       "  </thead>\n",
       "  <tbody>\n",
       "    <tr>\n",
       "      <th>24</th>\n",
       "      <td>SHRT1000</td>\n",
       "      <td>UTIL</td>\n",
       "      <td>ACC</td>\n",
       "      <td>0.5</td>\n",
       "      <td>T-shirt</td>\n",
       "      <td>15.0</td>\n",
       "      <td>15.2</td>\n",
       "      <td>15.9</td>\n",
       "      <td>17.3</td>\n",
       "      <td>18.0</td>\n",
       "      <td>...</td>\n",
       "      <td>18.9</td>\n",
       "      <td>19.8</td>\n",
       "      <td>21.6</td>\n",
       "      <td>22.5</td>\n",
       "      <td>23.4</td>\n",
       "      <td>23.6</td>\n",
       "      <td>24.8</td>\n",
       "      <td>27.0</td>\n",
       "      <td>28.1</td>\n",
       "      <td>29.2</td>\n",
       "    </tr>\n",
       "  </tbody>\n",
       "</table>\n",
       "<p>1 rows × 21 columns</p>\n",
       "</div>"
      ],
      "text/plain": [
       "       MATNR MATKL Unnamed: 2  Marge    MAKTX  2020  2021  2022  2023  2024  \\\n",
       "24  SHRT1000  UTIL        ACC    0.5  T-shirt  15.0  15.2  15.9  17.3  18.0   \n",
       "\n",
       "    ...  2026  2027  2028  2029  2030  2031  2032  2033  2034  2035  \n",
       "24  ...  18.9  19.8  21.6  22.5  23.4  23.6  24.8  27.0  28.1  29.2  \n",
       "\n",
       "[1 rows x 21 columns]"
      ]
     },
     "execution_count": 2,
     "metadata": {},
     "output_type": "execute_result"
    }
   ],
   "source": [
    "masterdata = '../generator/masterdata.xlsx'\n",
    "costs_eur = pd.read_excel(masterdata, sheet_name=\"costs EUR\")\n",
    "costs_usd = pd.read_excel(masterdata, sheet_name=\"costs USD\")\n",
    "costs_eur.sample()"
   ]
  },
  {
   "cell_type": "markdown",
   "metadata": {},
   "source": [
    "We need only the material and year-columns"
   ]
  },
  {
   "cell_type": "code",
   "execution_count": 3,
   "metadata": {},
   "outputs": [],
   "source": [
    "columns = [\n",
    "    'MATNR', \n",
    "    *costs_eur.columns.astype(str).str.extract(r'(20\\d\\d)')[0].dropna().astype(int).to_list()\n",
    "]"
   ]
  },
  {
   "attachments": {},
   "cell_type": "markdown",
   "metadata": {},
   "source": [
    "Convert costs to tidy format and add sales organizations"
   ]
  },
  {
   "cell_type": "code",
   "execution_count": 4,
   "metadata": {},
   "outputs": [
    {
     "data": {
      "text/html": [
       "<div>\n",
       "<style scoped>\n",
       "    .dataframe tbody tr th:only-of-type {\n",
       "        vertical-align: middle;\n",
       "    }\n",
       "\n",
       "    .dataframe tbody tr th {\n",
       "        vertical-align: top;\n",
       "    }\n",
       "\n",
       "    .dataframe thead th {\n",
       "        text-align: right;\n",
       "    }\n",
       "</style>\n",
       "<table border=\"1\" class=\"dataframe\">\n",
       "  <thead>\n",
       "    <tr style=\"text-align: right;\">\n",
       "      <th></th>\n",
       "      <th>Plant</th>\n",
       "      <th>MATNR</th>\n",
       "      <th>Year</th>\n",
       "      <th>Cost</th>\n",
       "      <th>Currency</th>\n",
       "    </tr>\n",
       "  </thead>\n",
       "  <tbody>\n",
       "    <tr>\n",
       "      <th>777</th>\n",
       "      <td>DL00</td>\n",
       "      <td>DGRB2000</td>\n",
       "      <td>2035</td>\n",
       "      <td>406.2</td>\n",
       "      <td>USD</td>\n",
       "    </tr>\n",
       "  </tbody>\n",
       "</table>\n",
       "</div>"
      ],
      "text/plain": [
       "    Plant     MATNR  Year   Cost Currency\n",
       "777  DL00  DGRB2000  2035  406.2      USD"
      ]
     },
     "execution_count": 4,
     "metadata": {},
     "output_type": "execute_result"
    }
   ],
   "source": [
    "costs = (\n",
    "    # combine both tables\n",
    "    pd.concat([costs_eur[columns], costs_usd[columns]], keys=[\"EUR\", \"USD\"], names=[\"Currency\"])\n",
    "    .reset_index(\"Currency\")\n",
    "    # tidy\n",
    "    .melt(id_vars=[\"MATNR\", \"Currency\"], var_name=\"Year\", value_name=\"Cost\")\n",
    "    # for each currency we have two sales organizations\n",
    "    .assign(plants=lambda df: df[\"Currency\"].map({'EUR':'HD00,HH00', 'USD':'DL00,MI00,SD00'}))\n",
    "    .assign(Plant=lambda df: df[\"plants\"].str.split(','))\n",
    ")\n",
    "costs2 = (\n",
    "  costs.explode(\"Plant\")\n",
    "  .reindex(columns=[\"Plant\", \"MATNR\", \"Year\", \"Cost\", \"Currency\"])\n",
    ")\n",
    "costs2.sample()"
   ]
  },
  {
   "cell_type": "code",
   "execution_count": 5,
   "metadata": {},
   "outputs": [],
   "source": [
    "file = '../data/costs.tsv'\n",
    "costs2.to_csv(file, index=False, header=False, sep='\\t')"
   ]
  },
  {
   "attachments": {},
   "cell_type": "markdown",
   "metadata": {},
   "source": [
    "### Importing TSV to DB table in S4"
   ]
  },
  {
   "attachments": {},
   "cell_type": "markdown",
   "metadata": {},
   "source": [
    "We are using ABAP artefacts as described in `Import2ERP.md` as well as these additionally created ones:\n",
    "- DB table `ZUCC_ANALY_COSTS` \"Imported Costs for setting the material internal price\"\n",
    "\n",
    "| Field | Data element |   |\n",
    "|-------|--------------|---|\n",
    "| MANDT\t| MANDT | key\n",
    "| PLANT | WERKS_D | key\n",
    "| MATNR | MATNR | key\n",
    "| SO_YEAR | NUMC(4) | year of the sales order\n",
    "| COST | STPRS | Reference field: WAERS\n",
    "| WAERS | WAERS |\n",
    "\n",
    "- Structure `ZUCC_ANALYTICS_COSTS_READ` with the same fields as before, but without `MANDT`\n"
   ]
  },
  {
   "cell_type": "markdown",
   "metadata": {},
   "source": [
    "Program `ZUCC_ANALYTICS_SDGEN_IMPCOSTS` then does the import."
   ]
  },
  {
   "attachments": {},
   "cell_type": "markdown",
   "metadata": {},
   "source": [
    "### Setting the actual costs in S4"
   ]
  },
  {
   "attachments": {},
   "cell_type": "markdown",
   "metadata": {},
   "source": [
    "Function `ZUCC_ANALYTICS_SDGEN_COST` in function group `ZUCC_ANALYTICS_SDGEN`\n",
    "sets the actual cost according to a given year for each known plant and material.\n",
    "\n",
    "Sine we expect the costs to stay constant during a year, the function should be silent and efficient in most cases.\n",
    "Although the currency is derived from the plant, we have to provide a currency."
   ]
  }
 ],
 "metadata": {
  "kernelspec": {
   "display_name": "base",
   "language": "python",
   "name": "python3"
  },
  "language_info": {
   "codemirror_mode": {
    "name": "ipython",
    "version": 3
   },
   "file_extension": ".py",
   "mimetype": "text/x-python",
   "name": "python",
   "nbconvert_exporter": "python",
   "pygments_lexer": "ipython3",
   "version": "3.8.15"
  },
  "orig_nbformat": 4,
  "vscode": {
   "interpreter": {
    "hash": "50e5b27107e40faec526e5967cc5e7667b46a85d7faacead4794257648bc1590"
   }
  }
 },
 "nbformat": 4,
 "nbformat_minor": 2
}
