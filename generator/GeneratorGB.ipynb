{
 "cells": [
  {
   "cell_type": "code",
   "execution_count": 129,
   "metadata": {},
   "outputs": [],
   "source": [
    "import pandas as pd\n",
    "import math\n",
    "import zipfile"
   ]
  },
  {
   "attachments": {},
   "cell_type": "markdown",
   "metadata": {},
   "source": [
    "# Settings"
   ]
  },
  {
   "cell_type": "code",
   "execution_count": 130,
   "metadata": {},
   "outputs": [],
   "source": [
    "# file containing master data and respective settings\n",
    "masterdata = 'masterdata.xlsx'"
   ]
  },
  {
   "cell_type": "code",
   "execution_count": 131,
   "metadata": {},
   "outputs": [],
   "source": [
    "# cover the following years\n",
    "start_date = '2020-01-01'\n",
    "end_date = '2036-01-01'\n",
    "\n",
    "start_date = '2010-01-01' # test\n",
    "end_date = '2011-02-01'   # test"
   ]
  },
  {
   "attachments": {},
   "cell_type": "markdown",
   "metadata": {},
   "source": [
    "### Seasonality"
   ]
  },
  {
   "cell_type": "code",
   "execution_count": 132,
   "metadata": {},
   "outputs": [
    {
     "data": {
      "text/html": [
       "<div>\n",
       "<style scoped>\n",
       "    .dataframe tbody tr th:only-of-type {\n",
       "        vertical-align: middle;\n",
       "    }\n",
       "\n",
       "    .dataframe tbody tr th {\n",
       "        vertical-align: top;\n",
       "    }\n",
       "\n",
       "    .dataframe thead th {\n",
       "        text-align: right;\n",
       "    }\n",
       "</style>\n",
       "<table border=\"1\" class=\"dataframe\">\n",
       "  <thead>\n",
       "    <tr style=\"text-align: right;\">\n",
       "      <th></th>\n",
       "      <th>Weight</th>\n",
       "      <th>Reason</th>\n",
       "    </tr>\n",
       "    <tr>\n",
       "      <th>Week</th>\n",
       "      <th></th>\n",
       "      <th></th>\n",
       "    </tr>\n",
       "  </thead>\n",
       "  <tbody>\n",
       "    <tr>\n",
       "      <th>6</th>\n",
       "      <td>1.735714</td>\n",
       "      <td>NaN</td>\n",
       "    </tr>\n",
       "  </tbody>\n",
       "</table>\n",
       "</div>"
      ],
      "text/plain": [
       "        Weight Reason\n",
       "Week                 \n",
       "6     1.735714    NaN"
      ]
     },
     "execution_count": 132,
     "metadata": {},
     "output_type": "execute_result"
    }
   ],
   "source": [
    "weeks = pd.read_excel(masterdata, sheet_name=\"weeks\")\n",
    "weeks[\"Weight\"] = weeks[\"Weight\"].rolling(2, min_periods=1).mean()  # smoothing\n",
    "weeks[\"Weight\"] = weeks[\"Weight\"] / weeks[\"Weight\"].sum() * len(weeks) # normalize\n",
    "weeks.set_index(keys=\"Week\", inplace=True)\n",
    "weeks.sample()"
   ]
  },
  {
   "cell_type": "code",
   "execution_count": 133,
   "metadata": {},
   "outputs": [
    {
     "data": {
      "text/html": [
       "<div>\n",
       "<style scoped>\n",
       "    .dataframe tbody tr th:only-of-type {\n",
       "        vertical-align: middle;\n",
       "    }\n",
       "\n",
       "    .dataframe tbody tr th {\n",
       "        vertical-align: top;\n",
       "    }\n",
       "\n",
       "    .dataframe thead th {\n",
       "        text-align: right;\n",
       "    }\n",
       "</style>\n",
       "<table border=\"1\" class=\"dataframe\">\n",
       "  <thead>\n",
       "    <tr style=\"text-align: right;\">\n",
       "      <th></th>\n",
       "      <th>Growth</th>\n",
       "      <th>Growth_pct</th>\n",
       "    </tr>\n",
       "    <tr>\n",
       "      <th>Year</th>\n",
       "      <th></th>\n",
       "      <th></th>\n",
       "    </tr>\n",
       "  </thead>\n",
       "  <tbody>\n",
       "    <tr>\n",
       "      <th>2018</th>\n",
       "      <td>0</td>\n",
       "      <td>1.0</td>\n",
       "    </tr>\n",
       "  </tbody>\n",
       "</table>\n",
       "</div>"
      ],
      "text/plain": [
       "      Growth  Growth_pct\n",
       "Year                    \n",
       "2018       0         1.0"
      ]
     },
     "execution_count": 133,
     "metadata": {},
     "output_type": "execute_result"
    }
   ],
   "source": [
    "years = pd.read_excel(masterdata, sheet_name=\"years\")\n",
    "years.set_index(keys=\"Year\", inplace=True)\n",
    "years[\"Growth_pct\"] = ((years[\"Growth\"] + 100) / 100).cumprod()\n",
    "years.sample()"
   ]
  },
  {
   "attachments": {},
   "cell_type": "markdown",
   "metadata": {},
   "source": [
    "### Customers\n",
    "To find out the available customers and master data in S4, use this (remove comments when executing in Transaction DB02)\n",
    "``` sql\n",
    "SELECT but000.client, but000.partner, but000.name_org1, adrc.country, adrc.city1\n",
    "FROM but000\n",
    "JOIN but020 ON but000.client = but020.client AND but000.partner = but020.partner\n",
    "JOIN adrc ON but020.client = adrc.client AND but020.addrnumber = adrc.addrnumber\n",
    "JOIN but100 ON but000.client = but100.mandt AND but000.partner = but100.partner\n",
    "WHERE but000.client = 202    -- partner id depends on the client\n",
    "AND but000.bu_sort1 = '334'  -- any search term except 000, which also contains dirty student BP\n",
    "AND but100.rltyp = 'FLCU00'  -- a customer role\n",
    "ORDER BY but000.name_org1\n",
    "```"
   ]
  },
  {
   "attachments": {},
   "cell_type": "markdown",
   "metadata": {},
   "source": [
    "Outside S4, we can only identify a customer by its name (the business partner number in S4 depends on the system and client)."
   ]
  },
  {
   "cell_type": "code",
   "execution_count": 134,
   "metadata": {},
   "outputs": [
    {
     "data": {
      "text/html": [
       "<div>\n",
       "<style scoped>\n",
       "    .dataframe tbody tr th:only-of-type {\n",
       "        vertical-align: middle;\n",
       "    }\n",
       "\n",
       "    .dataframe tbody tr th {\n",
       "        vertical-align: top;\n",
       "    }\n",
       "\n",
       "    .dataframe thead th {\n",
       "        text-align: right;\n",
       "    }\n",
       "</style>\n",
       "<table border=\"1\" class=\"dataframe\">\n",
       "  <thead>\n",
       "    <tr style=\"text-align: right;\">\n",
       "      <th></th>\n",
       "      <th>COUNTRY</th>\n",
       "      <th>CITY</th>\n",
       "      <th>CWeight</th>\n",
       "      <th>VKORG</th>\n",
       "      <th>VTWEG</th>\n",
       "      <th>SPART</th>\n",
       "      <th>DiscountWeight</th>\n",
       "    </tr>\n",
       "    <tr>\n",
       "      <th>CNAME</th>\n",
       "      <th></th>\n",
       "      <th></th>\n",
       "      <th></th>\n",
       "      <th></th>\n",
       "      <th></th>\n",
       "      <th></th>\n",
       "      <th></th>\n",
       "    </tr>\n",
       "  </thead>\n",
       "  <tbody>\n",
       "    <tr>\n",
       "      <th>Ostseerad</th>\n",
       "      <td>DE</td>\n",
       "      <td>Anklam</td>\n",
       "      <td>0.48583</td>\n",
       "      <td>DN00</td>\n",
       "      <td>WH</td>\n",
       "      <td>BI</td>\n",
       "      <td>5</td>\n",
       "    </tr>\n",
       "  </tbody>\n",
       "</table>\n",
       "</div>"
      ],
      "text/plain": [
       "          COUNTRY    CITY  CWeight VKORG VTWEG SPART  DiscountWeight\n",
       "CNAME                                                               \n",
       "Ostseerad      DE  Anklam  0.48583  DN00    WH    BI               5"
      ]
     },
     "execution_count": 134,
     "metadata": {},
     "output_type": "execute_result"
    }
   ],
   "source": [
    "customers = pd.read_excel(masterdata, sheet_name=\"customers\")\n",
    "customers.set_index(\"CNAME\", inplace=True)\n",
    "customers[\"DiscountWeight\"] = customers[\"CWeight\"]\n",
    "customers[\"CWeight\"] = customers[\"CWeight\"] / customers[\"CWeight\"].sum() * len(customers) # normalize\n",
    "customers.sample()"
   ]
  },
  {
   "attachments": {},
   "cell_type": "markdown",
   "metadata": {},
   "source": [
    "Discounts (C03)"
   ]
  },
  {
   "cell_type": "code",
   "execution_count": 135,
   "metadata": {},
   "outputs": [
    {
     "data": {
      "text/html": [
       "<div>\n",
       "<style scoped>\n",
       "    .dataframe tbody tr th:only-of-type {\n",
       "        vertical-align: middle;\n",
       "    }\n",
       "\n",
       "    .dataframe tbody tr th {\n",
       "        vertical-align: top;\n",
       "    }\n",
       "\n",
       "    .dataframe thead th {\n",
       "        text-align: right;\n",
       "    }\n",
       "</style>\n",
       "<table border=\"1\" class=\"dataframe\">\n",
       "  <thead>\n",
       "    <tr style=\"text-align: right;\">\n",
       "      <th></th>\n",
       "      <th>COUNTRY</th>\n",
       "      <th>CITY</th>\n",
       "      <th>CWeight</th>\n",
       "      <th>VKORG</th>\n",
       "      <th>VTWEG</th>\n",
       "      <th>SPART</th>\n",
       "      <th>DiscountWeight</th>\n",
       "      <th>Discount%</th>\n",
       "    </tr>\n",
       "    <tr>\n",
       "      <th>CNAME</th>\n",
       "      <th></th>\n",
       "      <th></th>\n",
       "      <th></th>\n",
       "      <th></th>\n",
       "      <th></th>\n",
       "      <th></th>\n",
       "      <th></th>\n",
       "      <th></th>\n",
       "    </tr>\n",
       "  </thead>\n",
       "  <tbody>\n",
       "    <tr>\n",
       "      <th>Alster Cycling</th>\n",
       "      <td>DE</td>\n",
       "      <td>Hamburg</td>\n",
       "      <td>0.97166</td>\n",
       "      <td>DN00</td>\n",
       "      <td>WH</td>\n",
       "      <td>BI</td>\n",
       "      <td>10</td>\n",
       "      <td>3.0</td>\n",
       "    </tr>\n",
       "  </tbody>\n",
       "</table>\n",
       "</div>"
      ],
      "text/plain": [
       "               COUNTRY     CITY  CWeight VKORG VTWEG SPART  DiscountWeight  \\\n",
       "CNAME                                                                        \n",
       "Alster Cycling      DE  Hamburg  0.97166  DN00    WH    BI              10   \n",
       "\n",
       "                Discount%  \n",
       "CNAME                      \n",
       "Alster Cycling        3.0  "
      ]
     },
     "execution_count": 135,
     "metadata": {},
     "output_type": "execute_result"
    }
   ],
   "source": [
    "bins = [0, 10, 20, 100]  # np.inf would be the correct upper bound - 100 will do\n",
    "labels = ['0', '10', '20']\n",
    "discounts = {'0': 0, '10':3, '20':5}\n",
    "customers[\"Discount%\"] = pd.cut(customers[\"DiscountWeight\"], bins=bins, labels=labels, right=False).map(discounts).astype(float)\n",
    "customers.sample()"
   ]
  },
  {
   "attachments": {},
   "cell_type": "markdown",
   "metadata": {},
   "source": [
    "### Materials"
   ]
  },
  {
   "attachments": {},
   "cell_type": "markdown",
   "metadata": {},
   "source": [
    "Find out available material master in S4\n",
    "``` sql\n",
    "SELECT mara.mandt, mara.matnr, mara.matkl, mara.mtart, makt.maktx\n",
    "FROM mara\n",
    "JOIN makt ON mara.mandt = makt.mandt AND mara.matnr = makt.matnr\n",
    "WHERE mara.mandt = 202              -- client\n",
    "AND mara.mtart IN ('FERT', 'HAWA')  -- finished and trading goods\n",
    "AND mara.matnr LIKE '%888%'         -- any group\n",
    "AND makt.spras = 'E'                -- English\n",
    "ORDER BY mara.matnr\n",
    "```"
   ]
  },
  {
   "cell_type": "code",
   "execution_count": 136,
   "metadata": {},
   "outputs": [
    {
     "data": {
      "text/html": [
       "<div>\n",
       "<style scoped>\n",
       "    .dataframe tbody tr th:only-of-type {\n",
       "        vertical-align: middle;\n",
       "    }\n",
       "\n",
       "    .dataframe tbody tr th {\n",
       "        vertical-align: top;\n",
       "    }\n",
       "\n",
       "    .dataframe thead th {\n",
       "        text-align: right;\n",
       "    }\n",
       "</style>\n",
       "<table border=\"1\" class=\"dataframe\">\n",
       "  <thead>\n",
       "    <tr style=\"text-align: right;\">\n",
       "      <th></th>\n",
       "      <th>MATKL</th>\n",
       "      <th>MTART</th>\n",
       "      <th>MAKTX</th>\n",
       "      <th>MWeight</th>\n",
       "    </tr>\n",
       "    <tr>\n",
       "      <th>MATNR</th>\n",
       "      <th></th>\n",
       "      <th></th>\n",
       "      <th></th>\n",
       "      <th></th>\n",
       "    </tr>\n",
       "  </thead>\n",
       "  <tbody>\n",
       "    <tr>\n",
       "      <th>DXTR2000</th>\n",
       "      <td>BIKES</td>\n",
       "      <td>FERT</td>\n",
       "      <td>Deluxe Touring Bike (silver)</td>\n",
       "      <td>2.0</td>\n",
       "    </tr>\n",
       "  </tbody>\n",
       "</table>\n",
       "</div>"
      ],
      "text/plain": [
       "          MATKL MTART                         MAKTX  MWeight\n",
       "MATNR                                                       \n",
       "DXTR2000  BIKES  FERT  Deluxe Touring Bike (silver)      2.0"
      ]
     },
     "execution_count": 136,
     "metadata": {},
     "output_type": "execute_result"
    }
   ],
   "source": [
    "materials = pd.read_excel(masterdata, sheet_name=\"materials\")\n",
    "materials.set_index(\"MATNR\", inplace=True)\n",
    "materials.sample()"
   ]
  },
  {
   "attachments": {},
   "cell_type": "markdown",
   "metadata": {},
   "source": [
    "Additional weights depending on materials x customers"
   ]
  },
  {
   "cell_type": "code",
   "execution_count": 137,
   "metadata": {},
   "outputs": [
    {
     "data": {
      "text/html": [
       "<div>\n",
       "<style scoped>\n",
       "    .dataframe tbody tr th:only-of-type {\n",
       "        vertical-align: middle;\n",
       "    }\n",
       "\n",
       "    .dataframe tbody tr th {\n",
       "        vertical-align: top;\n",
       "    }\n",
       "\n",
       "    .dataframe thead th {\n",
       "        text-align: right;\n",
       "    }\n",
       "</style>\n",
       "<table border=\"1\" class=\"dataframe\">\n",
       "  <thead>\n",
       "    <tr style=\"text-align: right;\">\n",
       "      <th></th>\n",
       "      <th>BOTL1000</th>\n",
       "      <th>CAGE1000</th>\n",
       "      <th>DGRB2000</th>\n",
       "      <th>DGRR2000</th>\n",
       "      <th>DGRW2000</th>\n",
       "      <th>DXTR1000</th>\n",
       "      <th>DXTR2000</th>\n",
       "      <th>DXTR3000</th>\n",
       "      <th>EPAD1000</th>\n",
       "      <th>FAID1000</th>\n",
       "      <th>...</th>\n",
       "      <th>ORBC1000</th>\n",
       "      <th>ORMN1000</th>\n",
       "      <th>ORWN1000</th>\n",
       "      <th>PRTR1000</th>\n",
       "      <th>PRTR2000</th>\n",
       "      <th>PRTR3000</th>\n",
       "      <th>PUMP1000</th>\n",
       "      <th>RHMT1000</th>\n",
       "      <th>RKIT1000</th>\n",
       "      <th>SHRT1000</th>\n",
       "    </tr>\n",
       "    <tr>\n",
       "      <th>CNAME</th>\n",
       "      <th></th>\n",
       "      <th></th>\n",
       "      <th></th>\n",
       "      <th></th>\n",
       "      <th></th>\n",
       "      <th></th>\n",
       "      <th></th>\n",
       "      <th></th>\n",
       "      <th></th>\n",
       "      <th></th>\n",
       "      <th></th>\n",
       "      <th></th>\n",
       "      <th></th>\n",
       "      <th></th>\n",
       "      <th></th>\n",
       "      <th></th>\n",
       "      <th></th>\n",
       "      <th></th>\n",
       "      <th></th>\n",
       "      <th></th>\n",
       "      <th></th>\n",
       "    </tr>\n",
       "  </thead>\n",
       "  <tbody>\n",
       "    <tr>\n",
       "      <th>SoCal Bikes</th>\n",
       "      <td>0.788644</td>\n",
       "      <td>2.365931</td>\n",
       "      <td>0.394322</td>\n",
       "      <td>0.157729</td>\n",
       "      <td>0.394322</td>\n",
       "      <td>0.788644</td>\n",
       "      <td>1.577287</td>\n",
       "      <td>0.788644</td>\n",
       "      <td>0.394322</td>\n",
       "      <td>1.577287</td>\n",
       "      <td>...</td>\n",
       "      <td>0.788644</td>\n",
       "      <td>1.577287</td>\n",
       "      <td>0.788644</td>\n",
       "      <td>0.788644</td>\n",
       "      <td>1.577287</td>\n",
       "      <td>0.788644</td>\n",
       "      <td>3.943218</td>\n",
       "      <td>0.788644</td>\n",
       "      <td>0.788644</td>\n",
       "      <td>0.788644</td>\n",
       "    </tr>\n",
       "  </tbody>\n",
       "</table>\n",
       "<p>1 rows × 25 columns</p>\n",
       "</div>"
      ],
      "text/plain": [
       "             BOTL1000  CAGE1000  DGRB2000  DGRR2000  DGRW2000  DXTR1000  \\\n",
       "CNAME                                                                     \n",
       "SoCal Bikes  0.788644  2.365931  0.394322  0.157729  0.394322  0.788644   \n",
       "\n",
       "             DXTR2000  DXTR3000  EPAD1000  FAID1000  ...  ORBC1000  ORMN1000  \\\n",
       "CNAME                                                ...                       \n",
       "SoCal Bikes  1.577287  0.788644  0.394322  1.577287  ...  0.788644  1.577287   \n",
       "\n",
       "             ORWN1000  PRTR1000  PRTR2000  PRTR3000  PUMP1000  RHMT1000  \\\n",
       "CNAME                                                                     \n",
       "SoCal Bikes  0.788644  0.788644  1.577287  0.788644  3.943218  0.788644   \n",
       "\n",
       "             RKIT1000  SHRT1000  \n",
       "CNAME                            \n",
       "SoCal Bikes  0.788644  0.788644  \n",
       "\n",
       "[1 rows x 25 columns]"
      ]
     },
     "execution_count": 137,
     "metadata": {},
     "output_type": "execute_result"
    }
   ],
   "source": [
    "materials_customers_weights = pd.read_excel(masterdata, sheet_name=\"customers x materials\")\n",
    "# combine both weight definitions\n",
    "mc = materials_customers_weights.set_index(\"CNAME\").T\n",
    "m = materials[\"MWeight\"]\n",
    "materials_customers_weights = mc.mul(m, axis='index')\n",
    "# normalize per customer\n",
    "materials_customers_weights = (materials_customers_weights / materials_customers_weights.sum() * len(materials_customers_weights)).T\n",
    "materials_customers_weights.sample()"
   ]
  },
  {
   "attachments": {},
   "cell_type": "markdown",
   "metadata": {},
   "source": [
    "# Generator"
   ]
  },
  {
   "attachments": {},
   "cell_type": "markdown",
   "metadata": {},
   "source": [
    "### Working days"
   ]
  },
  {
   "attachments": {},
   "cell_type": "markdown",
   "metadata": {},
   "source": [
    "Produces subsequent dates\n",
    "- only business days (no weekends)\n",
    "- range is defined above"
   ]
  },
  {
   "cell_type": "code",
   "execution_count": 138,
   "metadata": {},
   "outputs": [],
   "source": [
    "def gen_date():\n",
    "    for d in pd.bdate_range(start=start_date, end=end_date, inclusive='left'):\n",
    "        yield d"
   ]
  },
  {
   "attachments": {},
   "cell_type": "markdown",
   "metadata": {},
   "source": [
    "### Customers"
   ]
  },
  {
   "attachments": {},
   "cell_type": "markdown",
   "metadata": {},
   "source": [
    "Produce subsequent customers for a day\n",
    "- number of customers drawn = number of orders for that day is 10 at average\n",
    "- number of orders  tends to grow over time (C11); since this also affects quantities, we only use sqrt() of the effect here\n",
    "- number of orders varies by seasonality (C01); since seasonality also affects quantities, we only use sqrt() of the effect here\n",
    "- The S4 system will create its own internal document numbers, but we also need an additional private (external to S4) number.\n",
    "  This allows us to recognize our orders when implementing the daily delta logic later.\n",
    "  The order number contains the date of the order plus a subsequential number to make it unique.\n",
    "- Customers are selected according to their CWeight (C02); this also affects the number of order positions, hence, we only apply sqrt() of the weights."
   ]
  },
  {
   "cell_type": "code",
   "execution_count": 139,
   "metadata": {},
   "outputs": [],
   "source": [
    "def year_factor(day: pd.Timestamp):\n",
    "    f = years.loc[day.year][\"Growth_pct\"]\n",
    "    return math.sqrt(f)\n",
    "\n",
    "def season_factor(day: pd.Timestamp):\n",
    "    return math.sqrt(weeks.loc[day.week][\"Weight\"])\n",
    "\n",
    "def gen_ordernum_with_customer(day: pd.Timestamp):\n",
    "    # number of orders\n",
    "    nof_orders = math.ceil(10 * year_factor(day) * season_factor(day))\n",
    "    # customers\n",
    "    customers_sample = customers.sample(n=nof_orders, replace=True, weights=customers[\"CWeight\"].apply(math.sqrt))\n",
    "    gen_customer = (c for (i, c) in customers_sample.iterrows())\n",
    "    # produce result\n",
    "    for x in range(nof_orders):\n",
    "        order_number = f\"{day.strftime('%Y-%m-%d')}#{x:03d}\"\n",
    "        yield(order_number, next(gen_customer))"
   ]
  },
  {
   "attachments": {},
   "cell_type": "markdown",
   "metadata": {},
   "source": [
    "### Materials"
   ]
  },
  {
   "attachments": {},
   "cell_type": "markdown",
   "metadata": {},
   "source": [
    "- The average nunber of positions is approx. 10\n",
    "- The number of positions varies by sqrt() of customer weights (C02) - see above\n",
    "- Materials are selected according to their MWeight (C04, C06); again this also affects the quantity, why we apply sqrt()"
   ]
  },
  {
   "cell_type": "code",
   "execution_count": 140,
   "metadata": {},
   "outputs": [],
   "source": [
    "def material_factor(customer: str):\n",
    "    return materials_customers_weights.loc[customer].apply(math.sqrt)"
   ]
  },
  {
   "cell_type": "code",
   "execution_count": 141,
   "metadata": {},
   "outputs": [],
   "source": [
    "def gen_material(day: pd.Timestamp, customer: str):\n",
    "    nof_positions = math.ceil(10 * math.sqrt(customers.loc[customer][\"CWeight\"]))\n",
    "    materials_sample = materials.sample(n=nof_positions, replace=True, weights=material_factor(customer))\n",
    "    gen_material = (m for (i, m) in materials_sample.iterrows())\n",
    "    # return result\n",
    "    for pos in range(10, nof_positions * 10, 10):  # position numbers 10, 20, 30, ...\n",
    "        yield(pos, next(gen_material))"
   ]
  },
  {
   "attachments": {},
   "cell_type": "markdown",
   "metadata": {},
   "source": [
    "### Quantity"
   ]
  },
  {
   "attachments": {},
   "cell_type": "markdown",
   "metadata": {},
   "source": [
    "- The average quantity is approx. 10\n",
    "- The quantity depends on the sqrt() of seasonality (C01) - see above\n",
    "- The quantity depends on the sqrt() material weights (C04, C06) - see above\n",
    "- The quantity tends to grow over time (C11) - see above"
   ]
  },
  {
   "cell_type": "code",
   "execution_count": 142,
   "metadata": {},
   "outputs": [],
   "source": [
    "def ret_quantity(day: pd.Timestamp, customer: str, material: str):\n",
    "    mat_factor = math.sqrt(material_factor(customer).loc[material])\n",
    "    quantity = math.ceil(10 * mat_factor * year_factor(day) * season_factor(day))\n",
    "    return (quantity, 'EA')"
   ]
  },
  {
   "attachments": {},
   "cell_type": "markdown",
   "metadata": {},
   "source": [
    "### Generate\n",
    "Create list of sales orders by asking the respective oracles for customers, materials...  \n",
    "(one year with 100_000+ orders takes 4 minutes on my laptop)"
   ]
  },
  {
   "cell_type": "code",
   "execution_count": 143,
   "metadata": {},
   "outputs": [],
   "source": [
    "order_list = []\n",
    "for day in gen_date():\n",
    "    for (order_number, customer) in gen_ordernum_with_customer(day):\n",
    "        for (position, material) in gen_material(day, str(customer.name)):  \n",
    "            (quantity, uom) = ret_quantity(day, str(customer.name), str(material.name))\n",
    "            customer.loc[\"CNAME\"] = customer.name # was the index; restore value\n",
    "            material.loc[\"MATNR\"] = material.name # was the index; restore value\n",
    "            o = pd.concat([\n",
    "                pd.Series(order_number, index=[\"Ext order id\"]),\n",
    "                pd.Series(position, index=[\"Position\"]),\n",
    "                pd.Series(day, index=[\"Day\"]),\n",
    "                customer.drop(labels=[\"CWeight\"]),\n",
    "                material.drop(labels=[\"MWeight\"]),\n",
    "                pd.Series([quantity, uom], index=[\"Quantity\", \"UoM\"])\n",
    "                ])\n",
    "            order_list.append(o)"
   ]
  },
  {
   "cell_type": "code",
   "execution_count": 144,
   "metadata": {},
   "outputs": [],
   "source": [
    "# convert to DataFrame\n",
    "orders = pd.concat(order_list, axis='columns').T"
   ]
  },
  {
   "cell_type": "code",
   "execution_count": 145,
   "metadata": {},
   "outputs": [
    {
     "data": {
      "text/html": [
       "<div>\n",
       "<style scoped>\n",
       "    .dataframe tbody tr th:only-of-type {\n",
       "        vertical-align: middle;\n",
       "    }\n",
       "\n",
       "    .dataframe tbody tr th {\n",
       "        vertical-align: top;\n",
       "    }\n",
       "\n",
       "    .dataframe thead th {\n",
       "        text-align: right;\n",
       "    }\n",
       "</style>\n",
       "<table border=\"1\" class=\"dataframe\">\n",
       "  <thead>\n",
       "    <tr style=\"text-align: right;\">\n",
       "      <th></th>\n",
       "      <th>Ext order id</th>\n",
       "      <th>Position</th>\n",
       "      <th>Day</th>\n",
       "      <th>COUNTRY</th>\n",
       "      <th>CITY</th>\n",
       "      <th>VKORG</th>\n",
       "      <th>VTWEG</th>\n",
       "      <th>SPART</th>\n",
       "      <th>DiscountWeight</th>\n",
       "      <th>Discount%</th>\n",
       "      <th>CNAME</th>\n",
       "      <th>MATKL</th>\n",
       "      <th>MTART</th>\n",
       "      <th>MAKTX</th>\n",
       "      <th>MATNR</th>\n",
       "      <th>Quantity</th>\n",
       "      <th>UoM</th>\n",
       "    </tr>\n",
       "  </thead>\n",
       "  <tbody>\n",
       "    <tr>\n",
       "      <th>9946</th>\n",
       "      <td>2010-05-20#003</td>\n",
       "      <td>30</td>\n",
       "      <td>2010-05-20</td>\n",
       "      <td>DE</td>\n",
       "      <td>Bochum</td>\n",
       "      <td>DN00</td>\n",
       "      <td>WH</td>\n",
       "      <td>BI</td>\n",
       "      <td>8</td>\n",
       "      <td>0.0</td>\n",
       "      <td>FahrPott</td>\n",
       "      <td>UTIL</td>\n",
       "      <td>HAWA</td>\n",
       "      <td>Water Bottle Cage</td>\n",
       "      <td>CAGE1000</td>\n",
       "      <td>8</td>\n",
       "      <td>EA</td>\n",
       "    </tr>\n",
       "    <tr>\n",
       "      <th>17182</th>\n",
       "      <td>2010-09-30#013</td>\n",
       "      <td>80</td>\n",
       "      <td>2010-09-30</td>\n",
       "      <td>US</td>\n",
       "      <td>Chicago</td>\n",
       "      <td>UE00</td>\n",
       "      <td>WH</td>\n",
       "      <td>BI</td>\n",
       "      <td>10</td>\n",
       "      <td>3.0</td>\n",
       "      <td>Windy City Bikes</td>\n",
       "      <td>UTIL</td>\n",
       "      <td>HAWA</td>\n",
       "      <td>Water Bottle Cage</td>\n",
       "      <td>CAGE1000</td>\n",
       "      <td>22</td>\n",
       "      <td>EA</td>\n",
       "    </tr>\n",
       "    <tr>\n",
       "      <th>26219</th>\n",
       "      <td>2011-01-18#009</td>\n",
       "      <td>60</td>\n",
       "      <td>2011-01-18</td>\n",
       "      <td>US</td>\n",
       "      <td>Irvine</td>\n",
       "      <td>UW00</td>\n",
       "      <td>WH</td>\n",
       "      <td>BI</td>\n",
       "      <td>10</td>\n",
       "      <td>3.0</td>\n",
       "      <td>SoCal Bikes</td>\n",
       "      <td>BIKES</td>\n",
       "      <td>FERT</td>\n",
       "      <td>Professional Touring Bike (black)</td>\n",
       "      <td>PRTR1000</td>\n",
       "      <td>12</td>\n",
       "      <td>EA</td>\n",
       "    </tr>\n",
       "  </tbody>\n",
       "</table>\n",
       "</div>"
      ],
      "text/plain": [
       "         Ext order id Position        Day COUNTRY     CITY VKORG VTWEG SPART  \\\n",
       "9946   2010-05-20#003       30 2010-05-20      DE   Bochum  DN00    WH    BI   \n",
       "17182  2010-09-30#013       80 2010-09-30      US  Chicago  UE00    WH    BI   \n",
       "26219  2011-01-18#009       60 2011-01-18      US   Irvine  UW00    WH    BI   \n",
       "\n",
       "      DiscountWeight Discount%             CNAME  MATKL MTART  \\\n",
       "9946               8       0.0          FahrPott   UTIL  HAWA   \n",
       "17182             10       3.0  Windy City Bikes   UTIL  HAWA   \n",
       "26219             10       3.0       SoCal Bikes  BIKES  FERT   \n",
       "\n",
       "                                   MAKTX     MATNR Quantity UoM  \n",
       "9946                   Water Bottle Cage  CAGE1000        8  EA  \n",
       "17182                  Water Bottle Cage  CAGE1000       22  EA  \n",
       "26219  Professional Touring Bike (black)  PRTR1000       12  EA  "
      ]
     },
     "execution_count": 145,
     "metadata": {},
     "output_type": "execute_result"
    }
   ],
   "source": [
    "orders.sample(3)"
   ]
  },
  {
   "cell_type": "code",
   "execution_count": 146,
   "metadata": {},
   "outputs": [
    {
     "data": {
      "text/plain": [
       "(27501, 17)"
      ]
     },
     "execution_count": 146,
     "metadata": {},
     "output_type": "execute_result"
    }
   ],
   "source": [
    "orders.shape"
   ]
  },
  {
   "attachments": {},
   "cell_type": "markdown",
   "metadata": {},
   "source": [
    "### Save"
   ]
  },
  {
   "cell_type": "code",
   "execution_count": 147,
   "metadata": {},
   "outputs": [
    {
     "data": {
      "text/plain": [
       "Index(['Ext order id', 'Position', 'Day', 'COUNTRY', 'CITY', 'VKORG', 'VTWEG',\n",
       "       'SPART', 'DiscountWeight', 'Discount%', 'CNAME', 'MATKL', 'MTART',\n",
       "       'MAKTX', 'MATNR', 'Quantity', 'UoM'],\n",
       "      dtype='object')"
      ]
     },
     "execution_count": 147,
     "metadata": {},
     "output_type": "execute_result"
    }
   ],
   "source": [
    "orders.columns"
   ]
  },
  {
   "attachments": {},
   "cell_type": "markdown",
   "metadata": {},
   "source": [
    "The data file is made for import with ABAP into S/4:\n",
    "- no header line\n",
    "- tabulator as separator\n",
    "- ABAP date format\n",
    "- one file per year"
   ]
  },
  {
   "cell_type": "code",
   "execution_count": 153,
   "metadata": {},
   "outputs": [],
   "source": [
    "columns = ['Ext order id', 'Position', 'Day', 'VKORG', 'VTWEG', 'SPART', 'CNAME', 'Discount%', 'MATNR', 'Quantity', 'UoM']\n",
    "#with zipfile.ZipFile(\"../data/GlobalBikeOrders.zip\", \"w\", compression=zipfile.ZIP_STORED) as zf:\n",
    "for year in orders[\"Day\"].dt.year.unique():\n",
    "        tsv_file = f'{year:04d}GlobalBikeOrders.tsv'\n",
    "        zip_file = f'../data/{year:04d}GlobalBikeOrders.zip'\n",
    "        compression_opts = dict(method='zip', archive_name=tsv_file) \n",
    "        (\n",
    "            orders.loc[orders[\"Day\"].dt.year == year]\n",
    "            .to_csv(zip_file, columns=columns, index=False, header=False, sep='\\t', date_format='%Y%m%d', compression=compression_opts)\n",
    "        )\n"
   ]
  }
 ],
 "metadata": {
  "kernelspec": {
   "display_name": "base",
   "language": "python",
   "name": "python3"
  },
  "language_info": {
   "codemirror_mode": {
    "name": "ipython",
    "version": 3
   },
   "file_extension": ".py",
   "mimetype": "text/x-python",
   "name": "python",
   "nbconvert_exporter": "python",
   "pygments_lexer": "ipython3",
   "version": "3.8.15"
  },
  "orig_nbformat": 4,
  "vscode": {
   "interpreter": {
    "hash": "50e5b27107e40faec526e5967cc5e7667b46a85d7faacead4794257648bc1590"
   }
  }
 },
 "nbformat": 4,
 "nbformat_minor": 2
}
