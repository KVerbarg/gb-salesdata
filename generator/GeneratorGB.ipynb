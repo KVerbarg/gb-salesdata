{
 "cells": [
  {
   "cell_type": "code",
   "execution_count": 36,
   "metadata": {},
   "outputs": [
    {
     "name": "stdout",
     "output_type": "stream",
     "text": [
      "Exception reporting mode: Minimal\n"
     ]
    }
   ],
   "source": [
    "import pandas as pd\n",
    "import math\n",
    "import zipfile\n",
    "%xmode minimal"
   ]
  },
  {
   "attachments": {},
   "cell_type": "markdown",
   "metadata": {},
   "source": [
    "# Settings"
   ]
  },
  {
   "cell_type": "code",
   "execution_count": 37,
   "metadata": {},
   "outputs": [],
   "source": [
    "# file containing master data and respective settings\n",
    "masterdata = 'masterdata.xlsx'"
   ]
  },
  {
   "cell_type": "code",
   "execution_count": 38,
   "metadata": {},
   "outputs": [],
   "source": [
    "# cover the following years\n",
    "start_date = '2020-01-01'\n",
    "end_date = '2034-01-01'\n",
    "\n",
    "start_date = '2022-10-11' # test\n",
    "end_date = '2022-12-24'   # test\n",
    "start_date = '2022-12-11' # test\n",
    "end_date = '2023-01-09'   # test"
   ]
  },
  {
   "attachments": {},
   "cell_type": "markdown",
   "metadata": {},
   "source": [
    "### Seasonality"
   ]
  },
  {
   "cell_type": "code",
   "execution_count": 39,
   "metadata": {},
   "outputs": [
    {
     "data": {
      "text/html": [
       "<div>\n",
       "<style scoped>\n",
       "    .dataframe tbody tr th:only-of-type {\n",
       "        vertical-align: middle;\n",
       "    }\n",
       "\n",
       "    .dataframe tbody tr th {\n",
       "        vertical-align: top;\n",
       "    }\n",
       "\n",
       "    .dataframe thead th {\n",
       "        text-align: right;\n",
       "    }\n",
       "</style>\n",
       "<table border=\"1\" class=\"dataframe\">\n",
       "  <thead>\n",
       "    <tr style=\"text-align: right;\">\n",
       "      <th></th>\n",
       "      <th>Weight</th>\n",
       "      <th>Reason</th>\n",
       "      <th>Weight_normalized</th>\n",
       "    </tr>\n",
       "    <tr>\n",
       "      <th>Week</th>\n",
       "      <th></th>\n",
       "      <th></th>\n",
       "      <th></th>\n",
       "    </tr>\n",
       "  </thead>\n",
       "  <tbody>\n",
       "    <tr>\n",
       "      <th>17</th>\n",
       "      <td>1.0</td>\n",
       "      <td>NaN</td>\n",
       "      <td>0.385714</td>\n",
       "    </tr>\n",
       "  </tbody>\n",
       "</table>\n",
       "</div>"
      ],
      "text/plain": [
       "      Weight Reason  Weight_normalized\n",
       "Week                                  \n",
       "17       1.0    NaN           0.385714"
      ]
     },
     "execution_count": 39,
     "metadata": {},
     "output_type": "execute_result"
    }
   ],
   "source": [
    "weeks = pd.read_excel(masterdata, sheet_name=\"weeks\")\n",
    "weeks[\"Weight\"] = weeks[\"Weight\"].rolling(2, min_periods=1).mean()  # smoothing\n",
    "weeks[\"Weight_normalized\"] = weeks[\"Weight\"] / weeks[\"Weight\"].sum() * len(weeks)\n",
    "weeks.set_index(keys=\"Week\", inplace=True)\n",
    "weeks.sample()"
   ]
  },
  {
   "cell_type": "code",
   "execution_count": 40,
   "metadata": {},
   "outputs": [
    {
     "data": {
      "text/html": [
       "<div>\n",
       "<style scoped>\n",
       "    .dataframe tbody tr th:only-of-type {\n",
       "        vertical-align: middle;\n",
       "    }\n",
       "\n",
       "    .dataframe tbody tr th {\n",
       "        vertical-align: top;\n",
       "    }\n",
       "\n",
       "    .dataframe thead th {\n",
       "        text-align: right;\n",
       "    }\n",
       "</style>\n",
       "<table border=\"1\" class=\"dataframe\">\n",
       "  <thead>\n",
       "    <tr style=\"text-align: right;\">\n",
       "      <th></th>\n",
       "      <th>Year</th>\n",
       "      <th>Growth</th>\n",
       "    </tr>\n",
       "  </thead>\n",
       "  <tbody>\n",
       "    <tr>\n",
       "      <th>2</th>\n",
       "      <td>2022</td>\n",
       "      <td>1</td>\n",
       "    </tr>\n",
       "  </tbody>\n",
       "</table>\n",
       "</div>"
      ],
      "text/plain": [
       "   Year  Growth\n",
       "2  2022       1"
      ]
     },
     "execution_count": 40,
     "metadata": {},
     "output_type": "execute_result"
    }
   ],
   "source": [
    "years = pd.read_excel(masterdata, sheet_name=\"years\")\n",
    "years.sample()"
   ]
  },
  {
   "attachments": {},
   "cell_type": "markdown",
   "metadata": {},
   "source": [
    "### Customers\n",
    "To find out the available customers and master data in S4, use this (remove comments when executing in Transaction DB02)\n",
    "``` sql\n",
    "SELECT but000.client, but000.partner, but000.name_org1, adrc.country, adrc.city1\n",
    "FROM but000\n",
    "JOIN but020 ON but000.client = but020.client AND but000.partner = but020.partner\n",
    "JOIN adrc ON but020.client = adrc.client AND but020.addrnumber = adrc.addrnumber\n",
    "JOIN but100 ON but000.client = but100.mandt AND but000.partner = but100.partner\n",
    "WHERE but000.client = 202    -- partner id depends on the client\n",
    "AND but000.bu_sort1 = '334'  -- any search term except 000, which also contains dirty student BP\n",
    "AND but100.rltyp = 'FLCU00'  -- a customer role\n",
    "ORDER BY but000.name_org1\n",
    "```"
   ]
  },
  {
   "attachments": {},
   "cell_type": "markdown",
   "metadata": {},
   "source": [
    "Outside S4, we can only identify a customer by its name (the business partner in S4 depends on the system and client)."
   ]
  },
  {
   "cell_type": "code",
   "execution_count": 41,
   "metadata": {},
   "outputs": [
    {
     "data": {
      "text/html": [
       "<div>\n",
       "<style scoped>\n",
       "    .dataframe tbody tr th:only-of-type {\n",
       "        vertical-align: middle;\n",
       "    }\n",
       "\n",
       "    .dataframe tbody tr th {\n",
       "        vertical-align: top;\n",
       "    }\n",
       "\n",
       "    .dataframe thead th {\n",
       "        text-align: right;\n",
       "    }\n",
       "</style>\n",
       "<table border=\"1\" class=\"dataframe\">\n",
       "  <thead>\n",
       "    <tr style=\"text-align: right;\">\n",
       "      <th></th>\n",
       "      <th>CNAME</th>\n",
       "      <th>COUNTRY</th>\n",
       "      <th>CITY</th>\n",
       "      <th>CWeight</th>\n",
       "      <th>VKORG</th>\n",
       "      <th>VTWEG</th>\n",
       "      <th>SPART</th>\n",
       "    </tr>\n",
       "  </thead>\n",
       "  <tbody>\n",
       "    <tr>\n",
       "      <th>7</th>\n",
       "      <td>DC Bikes</td>\n",
       "      <td>US</td>\n",
       "      <td>Washington DC</td>\n",
       "      <td>10</td>\n",
       "      <td>UE00</td>\n",
       "      <td>WH</td>\n",
       "      <td>BI</td>\n",
       "    </tr>\n",
       "  </tbody>\n",
       "</table>\n",
       "</div>"
      ],
      "text/plain": [
       "      CNAME COUNTRY           CITY  CWeight VKORG VTWEG SPART\n",
       "7  DC Bikes      US  Washington DC       10  UE00    WH    BI"
      ]
     },
     "execution_count": 41,
     "metadata": {},
     "output_type": "execute_result"
    }
   ],
   "source": [
    "customers = pd.read_excel(masterdata, sheet_name=\"customers\")\n",
    "customers.sample()"
   ]
  },
  {
   "attachments": {},
   "cell_type": "markdown",
   "metadata": {},
   "source": [
    "### Materials"
   ]
  },
  {
   "attachments": {},
   "cell_type": "markdown",
   "metadata": {},
   "source": [
    "Find out available material master in S4\n",
    "``` sql\n",
    "SELECT mara.mandt, mara.matnr, mara.matkl, mara.mtart, makt.maktx\n",
    "FROM mara\n",
    "JOIN makt ON mara.mandt = makt.mandt AND mara.matnr = makt.matnr\n",
    "WHERE mara.mandt = 202              -- client\n",
    "AND mara.mtart IN ('FERT', 'HAWA')  -- finished and trading goods\n",
    "AND mara.matnr LIKE '%888%'         -- any group\n",
    "AND makt.spras = 'E'                -- English\n",
    "ORDER BY mara.matnr\n",
    "```"
   ]
  },
  {
   "cell_type": "code",
   "execution_count": 42,
   "metadata": {},
   "outputs": [
    {
     "data": {
      "text/html": [
       "<div>\n",
       "<style scoped>\n",
       "    .dataframe tbody tr th:only-of-type {\n",
       "        vertical-align: middle;\n",
       "    }\n",
       "\n",
       "    .dataframe tbody tr th {\n",
       "        vertical-align: top;\n",
       "    }\n",
       "\n",
       "    .dataframe thead th {\n",
       "        text-align: right;\n",
       "    }\n",
       "</style>\n",
       "<table border=\"1\" class=\"dataframe\">\n",
       "  <thead>\n",
       "    <tr style=\"text-align: right;\">\n",
       "      <th></th>\n",
       "      <th>MATNR</th>\n",
       "      <th>MATKL</th>\n",
       "      <th>MTART</th>\n",
       "      <th>MAKTX</th>\n",
       "      <th>MWeight</th>\n",
       "      <th>Salesprice</th>\n",
       "    </tr>\n",
       "  </thead>\n",
       "  <tbody>\n",
       "    <tr>\n",
       "      <th>1</th>\n",
       "      <td>CAGE1000</td>\n",
       "      <td>UTIL</td>\n",
       "      <td>HAWA</td>\n",
       "      <td>Water Bottle Cage</td>\n",
       "      <td>3.0</td>\n",
       "      <td>18.0</td>\n",
       "    </tr>\n",
       "  </tbody>\n",
       "</table>\n",
       "</div>"
      ],
      "text/plain": [
       "      MATNR MATKL MTART              MAKTX  MWeight  Salesprice\n",
       "1  CAGE1000  UTIL  HAWA  Water Bottle Cage      3.0        18.0"
      ]
     },
     "execution_count": 42,
     "metadata": {},
     "output_type": "execute_result"
    }
   ],
   "source": [
    "materials = pd.read_excel(masterdata, sheet_name=\"materials\")\n",
    "materials.sample()"
   ]
  },
  {
   "attachments": {},
   "cell_type": "markdown",
   "metadata": {},
   "source": [
    "# Generator"
   ]
  },
  {
   "attachments": {},
   "cell_type": "markdown",
   "metadata": {},
   "source": [
    "### Working days"
   ]
  },
  {
   "attachments": {},
   "cell_type": "markdown",
   "metadata": {},
   "source": [
    "Produces subsequent dates\n",
    "- only business days (no weekends)\n",
    "- range is defined above"
   ]
  },
  {
   "cell_type": "code",
   "execution_count": 43,
   "metadata": {},
   "outputs": [],
   "source": [
    "def gen_date():\n",
    "    for d in pd.bdate_range(start=start_date, end=end_date, inclusive='left'):\n",
    "        yield d"
   ]
  },
  {
   "attachments": {},
   "cell_type": "markdown",
   "metadata": {},
   "source": [
    "### Customers"
   ]
  },
  {
   "attachments": {},
   "cell_type": "markdown",
   "metadata": {},
   "source": [
    "Produce subsequent customers for a day\n",
    "- number of customers = number of orders for that day is 50 at average\n",
    "- number of orders varies by seasonality (C01); since seasonality also affects quantities, we only use sqrt() of the effect here\n",
    "- The S4 system will create its own internal document numbers, but we also need an additional private (external to S4) number.\n",
    "  This allows us to recognize our orders when implementing the daily delta logic later.\n",
    "  The order number contains the date of the order plus a subsequential number to make it unique.\n",
    "- Customers are selected according to their CWeight (C02); this also affects the number of order positions, hence, we only apply sqrt() of the weights."
   ]
  },
  {
   "cell_type": "code",
   "execution_count": 44,
   "metadata": {},
   "outputs": [],
   "source": [
    "def season_factor(day: pd.Timestamp):\n",
    "    return math.sqrt(weeks.loc[day.week][\"Weight_normalized\"])\n",
    "\n",
    "def gen_ordernum_with_customer(day: pd.Timestamp):\n",
    "    # number of orders\n",
    "    nof_orders = math.ceil(50 * season_factor(day))\n",
    "    # customers\n",
    "    customers_sample = customers.sample(n=nof_orders, replace=True, weights=customers[\"CWeight\"].apply(math.sqrt))\n",
    "    gen_customer = (c for (i, c) in customers_sample.iterrows())\n",
    "    # produce result\n",
    "    for x in range(nof_orders):\n",
    "        order_number = f\"{day.strftime('%Y-%m-%d')}#{x:03d}\"\n",
    "        yield(order_number, next(gen_customer))"
   ]
  },
  {
   "attachments": {},
   "cell_type": "markdown",
   "metadata": {},
   "source": [
    "### Materials"
   ]
  },
  {
   "attachments": {},
   "cell_type": "markdown",
   "metadata": {},
   "source": [
    "- The average nunber of positions is approx. 10\n",
    "- The number of positions varies by sqrt() of customer weights (C02) - see above\n",
    "- Materials are selected according to their MWeight (C04); again this also affects the quantity, why we apply sqrt()"
   ]
  },
  {
   "cell_type": "code",
   "execution_count": 45,
   "metadata": {},
   "outputs": [],
   "source": [
    "def gen_material(day, customer):\n",
    "    # positions\n",
    "    factor = math.sqrt(customer[\"CWeight\"] / customers[\"CWeight\"].sum() * len(customers))\n",
    "    nof_positions = math.ceil(10 * factor)\n",
    "    # materials\n",
    "    materials_sample = materials.sample(n=nof_positions, replace=True, weights=materials[\"MWeight\"].apply(math.sqrt))\n",
    "    gen_material = (m for (i, m) in materials_sample.iterrows())\n",
    "    # produce result\n",
    "    for pos in range(10, nof_positions * 10, 10):  # position numbers 10, 20, 30, ...\n",
    "        yield(pos, next(gen_material))"
   ]
  },
  {
   "attachments": {},
   "cell_type": "markdown",
   "metadata": {},
   "source": [
    "### Quantity"
   ]
  },
  {
   "attachments": {},
   "cell_type": "markdown",
   "metadata": {},
   "source": [
    "- The average quantity is approx. 10\n",
    "- The quantity depends on the sqrt() of seasonality (C01) - see above\n",
    "- The quantity depends on the sqrt() material weights (C04) - see above\n",
    "- The quantity tends to grow over time (C07)"
   ]
  },
  {
   "cell_type": "code",
   "execution_count": 46,
   "metadata": {},
   "outputs": [],
   "source": [
    "def ret_quantity(day, material):\n",
    "    factor = math.sqrt(material[\"MWeight\"] / materials[\"MWeight\"].sum() * len(materials))\n",
    "    growth = years[\"Growth\"].cumsum().loc[years[\"Year\"] == day.year]\n",
    "    quantity = math.ceil(10 * season_factor(day) * factor * growth)\n",
    "    return (quantity, 'ST')"
   ]
  },
  {
   "attachments": {},
   "cell_type": "markdown",
   "metadata": {},
   "source": [
    "### Generate\n",
    "Create list of sales orders by asking the respective oracles for customers, materials...  \n",
    "(one year with 100_000+ orders takes 4 minutes on my laptop)"
   ]
  },
  {
   "cell_type": "code",
   "execution_count": 47,
   "metadata": {},
   "outputs": [],
   "source": [
    "order_list = []\n",
    "for day in gen_date():\n",
    "    for (order_number, customer) in gen_ordernum_with_customer(day):\n",
    "        for (position, material) in gen_material(day, customer):\n",
    "            (quantity, uom) = ret_quantity(day, material)\n",
    "            o = pd.concat([\n",
    "                pd.Series(order_number, index=[\"Ext order id\"]),\n",
    "                pd.Series(position, index=[\"Position\"]),\n",
    "                pd.Series(day, index=[\"Day\"]),\n",
    "                customer.drop(labels=[\"CWeight\"]),\n",
    "                material.drop(labels=[\"MWeight\"]),\n",
    "                pd.Series([quantity, uom], index=[\"Quantity\", \"UoM\"])\n",
    "                ])\n",
    "            order_list.append(o)"
   ]
  },
  {
   "cell_type": "code",
   "execution_count": 48,
   "metadata": {},
   "outputs": [],
   "source": [
    "# convert to DataFrame\n",
    "orders = pd.concat(order_list, axis='columns').T"
   ]
  },
  {
   "cell_type": "code",
   "execution_count": 49,
   "metadata": {},
   "outputs": [
    {
     "data": {
      "text/html": [
       "<div>\n",
       "<style scoped>\n",
       "    .dataframe tbody tr th:only-of-type {\n",
       "        vertical-align: middle;\n",
       "    }\n",
       "\n",
       "    .dataframe tbody tr th {\n",
       "        vertical-align: top;\n",
       "    }\n",
       "\n",
       "    .dataframe thead th {\n",
       "        text-align: right;\n",
       "    }\n",
       "</style>\n",
       "<table border=\"1\" class=\"dataframe\">\n",
       "  <thead>\n",
       "    <tr style=\"text-align: right;\">\n",
       "      <th></th>\n",
       "      <th>Ext order id</th>\n",
       "      <th>Position</th>\n",
       "      <th>Day</th>\n",
       "      <th>CNAME</th>\n",
       "      <th>COUNTRY</th>\n",
       "      <th>CITY</th>\n",
       "      <th>VKORG</th>\n",
       "      <th>VTWEG</th>\n",
       "      <th>SPART</th>\n",
       "      <th>MATNR</th>\n",
       "      <th>MATKL</th>\n",
       "      <th>MTART</th>\n",
       "      <th>MAKTX</th>\n",
       "      <th>Salesprice</th>\n",
       "      <th>Quantity</th>\n",
       "      <th>UoM</th>\n",
       "    </tr>\n",
       "  </thead>\n",
       "  <tbody>\n",
       "    <tr>\n",
       "      <th>3487</th>\n",
       "      <td>2022-12-22#032</td>\n",
       "      <td>50</td>\n",
       "      <td>2022-12-22</td>\n",
       "      <td>SoCal Bikes</td>\n",
       "      <td>US</td>\n",
       "      <td>Irvine</td>\n",
       "      <td>UW00</td>\n",
       "      <td>WH</td>\n",
       "      <td>BI</td>\n",
       "      <td>SHRT1000</td>\n",
       "      <td>UTIL</td>\n",
       "      <td>HAWA</td>\n",
       "      <td>T-shirt</td>\n",
       "      <td>30.0</td>\n",
       "      <td>14</td>\n",
       "      <td>ST</td>\n",
       "    </tr>\n",
       "    <tr>\n",
       "      <th>1507</th>\n",
       "      <td>2022-12-15#027</td>\n",
       "      <td>80</td>\n",
       "      <td>2022-12-15</td>\n",
       "      <td>Beantown Bikes</td>\n",
       "      <td>US</td>\n",
       "      <td>Boston</td>\n",
       "      <td>UE00</td>\n",
       "      <td>WH</td>\n",
       "      <td>BI</td>\n",
       "      <td>DXTR3000</td>\n",
       "      <td>BIKES</td>\n",
       "      <td>FERT</td>\n",
       "      <td>Deluxe Touring Bike (red)</td>\n",
       "      <td>3000.0</td>\n",
       "      <td>16</td>\n",
       "      <td>ST</td>\n",
       "    </tr>\n",
       "    <tr>\n",
       "      <th>5182</th>\n",
       "      <td>2022-12-30#004</td>\n",
       "      <td>30</td>\n",
       "      <td>2022-12-30</td>\n",
       "      <td>Silicon Valley Bikes</td>\n",
       "      <td>US</td>\n",
       "      <td>Palo Alto</td>\n",
       "      <td>UW00</td>\n",
       "      <td>WH</td>\n",
       "      <td>BI</td>\n",
       "      <td>RHMT1000</td>\n",
       "      <td>SFTY</td>\n",
       "      <td>HAWA</td>\n",
       "      <td>Road Helmet</td>\n",
       "      <td>50.0</td>\n",
       "      <td>12</td>\n",
       "      <td>ST</td>\n",
       "    </tr>\n",
       "  </tbody>\n",
       "</table>\n",
       "</div>"
      ],
      "text/plain": [
       "        Ext order id Position        Day                 CNAME COUNTRY  \\\n",
       "3487  2022-12-22#032       50 2022-12-22           SoCal Bikes      US   \n",
       "1507  2022-12-15#027       80 2022-12-15        Beantown Bikes      US   \n",
       "5182  2022-12-30#004       30 2022-12-30  Silicon Valley Bikes      US   \n",
       "\n",
       "           CITY VKORG VTWEG SPART     MATNR  MATKL MTART  \\\n",
       "3487     Irvine  UW00    WH    BI  SHRT1000   UTIL  HAWA   \n",
       "1507     Boston  UE00    WH    BI  DXTR3000  BIKES  FERT   \n",
       "5182  Palo Alto  UW00    WH    BI  RHMT1000   SFTY  HAWA   \n",
       "\n",
       "                          MAKTX Salesprice Quantity UoM  \n",
       "3487                    T-shirt       30.0       14  ST  \n",
       "1507  Deluxe Touring Bike (red)     3000.0       16  ST  \n",
       "5182                Road Helmet       50.0       12  ST  "
      ]
     },
     "execution_count": 49,
     "metadata": {},
     "output_type": "execute_result"
    }
   ],
   "source": [
    "orders.sample(3)"
   ]
  },
  {
   "cell_type": "code",
   "execution_count": 50,
   "metadata": {},
   "outputs": [
    {
     "data": {
      "text/plain": [
       "(7494, 16)"
      ]
     },
     "execution_count": 50,
     "metadata": {},
     "output_type": "execute_result"
    }
   ],
   "source": [
    "orders.shape"
   ]
  },
  {
   "attachments": {},
   "cell_type": "markdown",
   "metadata": {},
   "source": [
    "### Save"
   ]
  },
  {
   "cell_type": "code",
   "execution_count": 51,
   "metadata": {},
   "outputs": [
    {
     "data": {
      "text/plain": [
       "Index(['Ext order id', 'Position', 'Day', 'CNAME', 'COUNTRY', 'CITY', 'VKORG',\n",
       "       'VTWEG', 'SPART', 'MATNR', 'MATKL', 'MTART', 'MAKTX', 'Salesprice',\n",
       "       'Quantity', 'UoM'],\n",
       "      dtype='object')"
      ]
     },
     "execution_count": 51,
     "metadata": {},
     "output_type": "execute_result"
    }
   ],
   "source": [
    "orders.columns"
   ]
  },
  {
   "attachments": {},
   "cell_type": "markdown",
   "metadata": {},
   "source": [
    "The data file is made for import with ABAP into S/4:\n",
    "- no header line\n",
    "- tabulator as separator\n",
    "- ABAP date format"
   ]
  },
  {
   "cell_type": "code",
   "execution_count": 69,
   "metadata": {},
   "outputs": [],
   "source": [
    "columns = ['Ext order id', 'Position', 'Day', 'CNAME', 'VKORG', 'VTWEG', 'SPART', 'MATNR', 'Quantity', 'UoM']\n",
    "with zipfile.ZipFile(\"../data/GlobalBikeABAP.zip\", \"w\") as zf:\n",
    "    for year in orders[\"Day\"].dt.year.unique():\n",
    "        file = f'{year:04d}GlobalBikeABAP.tsv'\n",
    "        with zf.open(file, \"w\") as buffer:\n",
    "            (\n",
    "                orders.loc[orders[\"Day\"].dt.year == year]\n",
    "                .to_csv(buffer, columns=columns, index=False, header=False, sep='\\t', date_format='%Y%m%d')\n",
    "            )"
   ]
  },
  {
   "attachments": {},
   "cell_type": "markdown",
   "metadata": {},
   "source": [
    "------------\n",
    "# Add financial information not relevant for S/4HANA"
   ]
  },
  {
   "attachments": {},
   "cell_type": "markdown",
   "metadata": {},
   "source": [
    "## Preparations\n",
    "### Internal price\n",
    "The internal price is calculated from the sales price using a fixed margin per product category."
   ]
  },
  {
   "cell_type": "code",
   "execution_count": 55,
   "metadata": {},
   "outputs": [
    {
     "data": {
      "text/html": [
       "<div>\n",
       "<style scoped>\n",
       "    .dataframe tbody tr th:only-of-type {\n",
       "        vertical-align: middle;\n",
       "    }\n",
       "\n",
       "    .dataframe tbody tr th {\n",
       "        vertical-align: top;\n",
       "    }\n",
       "\n",
       "    .dataframe thead th {\n",
       "        text-align: right;\n",
       "    }\n",
       "</style>\n",
       "<table border=\"1\" class=\"dataframe\">\n",
       "  <thead>\n",
       "    <tr style=\"text-align: right;\">\n",
       "      <th></th>\n",
       "      <th>MATKL</th>\n",
       "      <th>CostPortion</th>\n",
       "    </tr>\n",
       "  </thead>\n",
       "  <tbody>\n",
       "    <tr>\n",
       "      <th>0</th>\n",
       "      <td>BIKES</td>\n",
       "      <td>0.60</td>\n",
       "    </tr>\n",
       "    <tr>\n",
       "      <th>1</th>\n",
       "      <td>SFTY</td>\n",
       "      <td>0.50</td>\n",
       "    </tr>\n",
       "    <tr>\n",
       "      <th>2</th>\n",
       "      <td>UTIL</td>\n",
       "      <td>0.45</td>\n",
       "    </tr>\n",
       "  </tbody>\n",
       "</table>\n",
       "</div>"
      ],
      "text/plain": [
       "   MATKL  CostPortion\n",
       "0  BIKES         0.60\n",
       "1   SFTY         0.50\n",
       "2   UTIL         0.45"
      ]
     },
     "execution_count": 55,
     "metadata": {},
     "output_type": "execute_result"
    }
   ],
   "source": [
    "data = {\n",
    "    \"MATKL\" : ['BIKES', 'SFTY', 'UTIL'],\n",
    "    \"CostPortion\" : [0.6, 0.5, 0.45]\n",
    "}\n",
    "matkl = pd.DataFrame(data)\n",
    "matkl"
   ]
  },
  {
   "cell_type": "code",
   "execution_count": 56,
   "metadata": {},
   "outputs": [],
   "source": [
    "materials[\"Internalprice\"] = (materials[\"Salesprice\"] * materials.merge(matkl, left_on=\"MATKL\", right_on=\"MATKL\")[\"CostPortion\"]).round(2)"
   ]
  },
  {
   "cell_type": "code",
   "execution_count": 57,
   "metadata": {},
   "outputs": [
    {
     "data": {
      "text/html": [
       "<div>\n",
       "<style scoped>\n",
       "    .dataframe tbody tr th:only-of-type {\n",
       "        vertical-align: middle;\n",
       "    }\n",
       "\n",
       "    .dataframe tbody tr th {\n",
       "        vertical-align: top;\n",
       "    }\n",
       "\n",
       "    .dataframe thead th {\n",
       "        text-align: right;\n",
       "    }\n",
       "</style>\n",
       "<table border=\"1\" class=\"dataframe\">\n",
       "  <thead>\n",
       "    <tr style=\"text-align: right;\">\n",
       "      <th></th>\n",
       "      <th>MATNR</th>\n",
       "      <th>MATKL</th>\n",
       "      <th>MTART</th>\n",
       "      <th>MAKTX</th>\n",
       "      <th>MWeight</th>\n",
       "      <th>Salesprice</th>\n",
       "      <th>Internalprice</th>\n",
       "    </tr>\n",
       "  </thead>\n",
       "  <tbody>\n",
       "    <tr>\n",
       "      <th>0</th>\n",
       "      <td>BOTL1000</td>\n",
       "      <td>UTIL</td>\n",
       "      <td>HAWA</td>\n",
       "      <td>Water Bottle</td>\n",
       "      <td>1.0</td>\n",
       "      <td>20.0</td>\n",
       "      <td>9.0</td>\n",
       "    </tr>\n",
       "    <tr>\n",
       "      <th>1</th>\n",
       "      <td>CAGE1000</td>\n",
       "      <td>UTIL</td>\n",
       "      <td>HAWA</td>\n",
       "      <td>Water Bottle Cage</td>\n",
       "      <td>3.0</td>\n",
       "      <td>18.0</td>\n",
       "      <td>8.1</td>\n",
       "    </tr>\n",
       "    <tr>\n",
       "      <th>2</th>\n",
       "      <td>DGRB2000</td>\n",
       "      <td>UTIL</td>\n",
       "      <td>FERT</td>\n",
       "      <td>Deluxe GPS-Bike Computer Royal Blue</td>\n",
       "      <td>0.5</td>\n",
       "      <td>NaN</td>\n",
       "      <td>NaN</td>\n",
       "    </tr>\n",
       "    <tr>\n",
       "      <th>3</th>\n",
       "      <td>DGRR2000</td>\n",
       "      <td>UTIL</td>\n",
       "      <td>FERT</td>\n",
       "      <td>Deluxe GPS-Bike Computer Carmine Red</td>\n",
       "      <td>0.2</td>\n",
       "      <td>NaN</td>\n",
       "      <td>NaN</td>\n",
       "    </tr>\n",
       "    <tr>\n",
       "      <th>4</th>\n",
       "      <td>DGRW2000</td>\n",
       "      <td>UTIL</td>\n",
       "      <td>FERT</td>\n",
       "      <td>Deluxe GPS-Bike Computer Silver White</td>\n",
       "      <td>0.5</td>\n",
       "      <td>NaN</td>\n",
       "      <td>NaN</td>\n",
       "    </tr>\n",
       "  </tbody>\n",
       "</table>\n",
       "</div>"
      ],
      "text/plain": [
       "      MATNR MATKL MTART                                  MAKTX  MWeight  \\\n",
       "0  BOTL1000  UTIL  HAWA                           Water Bottle      1.0   \n",
       "1  CAGE1000  UTIL  HAWA                      Water Bottle Cage      3.0   \n",
       "2  DGRB2000  UTIL  FERT    Deluxe GPS-Bike Computer Royal Blue      0.5   \n",
       "3  DGRR2000  UTIL  FERT   Deluxe GPS-Bike Computer Carmine Red      0.2   \n",
       "4  DGRW2000  UTIL  FERT  Deluxe GPS-Bike Computer Silver White      0.5   \n",
       "\n",
       "   Salesprice  Internalprice  \n",
       "0        20.0            9.0  \n",
       "1        18.0            8.1  \n",
       "2         NaN            NaN  \n",
       "3         NaN            NaN  \n",
       "4         NaN            NaN  "
      ]
     },
     "execution_count": 57,
     "metadata": {},
     "output_type": "execute_result"
    }
   ],
   "source": [
    "materials.head()"
   ]
  },
  {
   "attachments": {},
   "cell_type": "markdown",
   "metadata": {},
   "source": [
    "### Discounts"
   ]
  },
  {
   "cell_type": "code",
   "execution_count": 58,
   "metadata": {},
   "outputs": [],
   "source": [
    "bins = [0, 10, 20, 100]  # np.inf would be the correct upper bound - 100 will do\n",
    "labels = ['0', '10', '20']\n",
    "discounts = {'0': 0, '10':0.03, '20':0.05}\n",
    "customers[\"Discount%\"] = pd.cut(customers[\"CWeight\"], bins=bins, labels=labels, right=False).map(discounts).astype(float)"
   ]
  },
  {
   "cell_type": "code",
   "execution_count": 59,
   "metadata": {},
   "outputs": [
    {
     "data": {
      "text/html": [
       "<div>\n",
       "<style scoped>\n",
       "    .dataframe tbody tr th:only-of-type {\n",
       "        vertical-align: middle;\n",
       "    }\n",
       "\n",
       "    .dataframe tbody tr th {\n",
       "        vertical-align: top;\n",
       "    }\n",
       "\n",
       "    .dataframe thead th {\n",
       "        text-align: right;\n",
       "    }\n",
       "</style>\n",
       "<table border=\"1\" class=\"dataframe\">\n",
       "  <thead>\n",
       "    <tr style=\"text-align: right;\">\n",
       "      <th></th>\n",
       "      <th>CNAME</th>\n",
       "      <th>COUNTRY</th>\n",
       "      <th>CITY</th>\n",
       "      <th>CWeight</th>\n",
       "      <th>VKORG</th>\n",
       "      <th>VTWEG</th>\n",
       "      <th>SPART</th>\n",
       "      <th>Discount%</th>\n",
       "    </tr>\n",
       "  </thead>\n",
       "  <tbody>\n",
       "    <tr>\n",
       "      <th>0</th>\n",
       "      <td>Airport Bikes</td>\n",
       "      <td>DE</td>\n",
       "      <td>Neu-Isenburg</td>\n",
       "      <td>10</td>\n",
       "      <td>DS00</td>\n",
       "      <td>WH</td>\n",
       "      <td>BI</td>\n",
       "      <td>0.03</td>\n",
       "    </tr>\n",
       "    <tr>\n",
       "      <th>1</th>\n",
       "      <td>Alster Cycling</td>\n",
       "      <td>DE</td>\n",
       "      <td>Hamburg</td>\n",
       "      <td>10</td>\n",
       "      <td>DN00</td>\n",
       "      <td>WH</td>\n",
       "      <td>BI</td>\n",
       "      <td>0.03</td>\n",
       "    </tr>\n",
       "    <tr>\n",
       "      <th>2</th>\n",
       "      <td>Bavaria Bikes</td>\n",
       "      <td>DE</td>\n",
       "      <td>München</td>\n",
       "      <td>20</td>\n",
       "      <td>DS00</td>\n",
       "      <td>WH</td>\n",
       "      <td>BI</td>\n",
       "      <td>0.05</td>\n",
       "    </tr>\n",
       "    <tr>\n",
       "      <th>3</th>\n",
       "      <td>Beantown Bikes</td>\n",
       "      <td>US</td>\n",
       "      <td>Boston</td>\n",
       "      <td>20</td>\n",
       "      <td>UE00</td>\n",
       "      <td>WH</td>\n",
       "      <td>BI</td>\n",
       "      <td>0.05</td>\n",
       "    </tr>\n",
       "    <tr>\n",
       "      <th>4</th>\n",
       "      <td>Big Apple Bikes</td>\n",
       "      <td>US</td>\n",
       "      <td>New York City</td>\n",
       "      <td>12</td>\n",
       "      <td>UE00</td>\n",
       "      <td>WH</td>\n",
       "      <td>BI</td>\n",
       "      <td>0.03</td>\n",
       "    </tr>\n",
       "  </tbody>\n",
       "</table>\n",
       "</div>"
      ],
      "text/plain": [
       "             CNAME COUNTRY           CITY  CWeight VKORG VTWEG SPART  \\\n",
       "0    Airport Bikes      DE   Neu-Isenburg       10  DS00    WH    BI   \n",
       "1   Alster Cycling      DE        Hamburg       10  DN00    WH    BI   \n",
       "2    Bavaria Bikes      DE        München       20  DS00    WH    BI   \n",
       "3   Beantown Bikes      US         Boston       20  UE00    WH    BI   \n",
       "4  Big Apple Bikes      US  New York City       12  UE00    WH    BI   \n",
       "\n",
       "   Discount%  \n",
       "0       0.03  \n",
       "1       0.03  \n",
       "2       0.05  \n",
       "3       0.05  \n",
       "4       0.03  "
      ]
     },
     "execution_count": 59,
     "metadata": {},
     "output_type": "execute_result"
    }
   ],
   "source": [
    "customers.head()"
   ]
  },
  {
   "attachments": {},
   "cell_type": "markdown",
   "metadata": {},
   "source": [
    "## Compute financial data"
   ]
  },
  {
   "cell_type": "code",
   "execution_count": 60,
   "metadata": {},
   "outputs": [],
   "source": [
    "orders[\"Revenue\"] = (orders[\"Salesprice\"] * orders[\"Quantity\"]).astype(float)"
   ]
  },
  {
   "cell_type": "code",
   "execution_count": 61,
   "metadata": {},
   "outputs": [],
   "source": [
    "orders[\"Currency\"] = orders[\"COUNTRY\"].map({'DE':'EUR', 'US':'USD'})"
   ]
  },
  {
   "cell_type": "code",
   "execution_count": 62,
   "metadata": {},
   "outputs": [],
   "source": [
    "# After merge(), the original index of orders is gone ;-(\n",
    "# Hence, we need to preserve the index to be able to align with orders afterwards\n",
    "orders[\"index\"] = orders.index"
   ]
  },
  {
   "cell_type": "code",
   "execution_count": 63,
   "metadata": {},
   "outputs": [],
   "source": [
    "# join with lookup tables\n",
    "discount_pct = orders.merge(customers, on=\"CNAME\").set_index(keys=\"index\")[\"Discount%\"].round(2)\n",
    "orders[\"Discount\"] = orders[\"Revenue\"] * discount_pct"
   ]
  },
  {
   "cell_type": "code",
   "execution_count": 64,
   "metadata": {},
   "outputs": [],
   "source": [
    "int_price = orders.merge(materials, on=\"MATNR\").set_index(keys=\"index\")[\"Internalprice\"]\n",
    "orders[\"Cost\"] = orders[\"Quantity\"] * int_price"
   ]
  },
  {
   "cell_type": "markdown",
   "metadata": {},
   "source": [
    "Currency conversion?"
   ]
  },
  {
   "cell_type": "code",
   "execution_count": 65,
   "metadata": {},
   "outputs": [
    {
     "data": {
      "text/html": [
       "<div>\n",
       "<style scoped>\n",
       "    .dataframe tbody tr th:only-of-type {\n",
       "        vertical-align: middle;\n",
       "    }\n",
       "\n",
       "    .dataframe tbody tr th {\n",
       "        vertical-align: top;\n",
       "    }\n",
       "\n",
       "    .dataframe thead th {\n",
       "        text-align: right;\n",
       "    }\n",
       "</style>\n",
       "<table border=\"1\" class=\"dataframe\">\n",
       "  <thead>\n",
       "    <tr style=\"text-align: right;\">\n",
       "      <th></th>\n",
       "      <th>Ext order id</th>\n",
       "      <th>Position</th>\n",
       "      <th>Day</th>\n",
       "      <th>CNAME</th>\n",
       "      <th>COUNTRY</th>\n",
       "      <th>CITY</th>\n",
       "      <th>VKORG</th>\n",
       "      <th>VTWEG</th>\n",
       "      <th>SPART</th>\n",
       "      <th>MATNR</th>\n",
       "      <th>...</th>\n",
       "      <th>MTART</th>\n",
       "      <th>MAKTX</th>\n",
       "      <th>Salesprice</th>\n",
       "      <th>Quantity</th>\n",
       "      <th>UoM</th>\n",
       "      <th>Revenue</th>\n",
       "      <th>Currency</th>\n",
       "      <th>index</th>\n",
       "      <th>Discount</th>\n",
       "      <th>Cost</th>\n",
       "    </tr>\n",
       "  </thead>\n",
       "  <tbody>\n",
       "    <tr>\n",
       "      <th>3196</th>\n",
       "      <td>2022-12-21#038</td>\n",
       "      <td>10</td>\n",
       "      <td>2022-12-21</td>\n",
       "      <td>Furniture City Bikes</td>\n",
       "      <td>US</td>\n",
       "      <td>Grand Rapids</td>\n",
       "      <td>UE00</td>\n",
       "      <td>WH</td>\n",
       "      <td>BI</td>\n",
       "      <td>DXTR3000</td>\n",
       "      <td>...</td>\n",
       "      <td>FERT</td>\n",
       "      <td>Deluxe Touring Bike (red)</td>\n",
       "      <td>3000.0</td>\n",
       "      <td>14</td>\n",
       "      <td>ST</td>\n",
       "      <td>42000.0</td>\n",
       "      <td>USD</td>\n",
       "      <td>3196</td>\n",
       "      <td>0.0</td>\n",
       "      <td>18900.0</td>\n",
       "    </tr>\n",
       "  </tbody>\n",
       "</table>\n",
       "<p>1 rows × 21 columns</p>\n",
       "</div>"
      ],
      "text/plain": [
       "        Ext order id Position        Day                 CNAME COUNTRY  \\\n",
       "3196  2022-12-21#038       10 2022-12-21  Furniture City Bikes      US   \n",
       "\n",
       "              CITY VKORG VTWEG SPART     MATNR  ... MTART  \\\n",
       "3196  Grand Rapids  UE00    WH    BI  DXTR3000  ...  FERT   \n",
       "\n",
       "                          MAKTX Salesprice Quantity UoM  Revenue  Currency  \\\n",
       "3196  Deluxe Touring Bike (red)     3000.0       14  ST  42000.0       USD   \n",
       "\n",
       "     index  Discount     Cost  \n",
       "3196  3196       0.0  18900.0  \n",
       "\n",
       "[1 rows x 21 columns]"
      ]
     },
     "execution_count": 65,
     "metadata": {},
     "output_type": "execute_result"
    }
   ],
   "source": [
    "orders.sample(1)"
   ]
  },
  {
   "attachments": {},
   "cell_type": "markdown",
   "metadata": {},
   "source": [
    "## Save"
   ]
  },
  {
   "cell_type": "code",
   "execution_count": 66,
   "metadata": {},
   "outputs": [
    {
     "data": {
      "text/plain": [
       "Index(['Ext order id', 'Position', 'Day', 'CNAME', 'COUNTRY', 'CITY', 'VKORG',\n",
       "       'VTWEG', 'SPART', 'MATNR', 'MATKL', 'MTART', 'MAKTX', 'Salesprice',\n",
       "       'Quantity', 'UoM', 'Revenue', 'Currency', 'index', 'Discount', 'Cost'],\n",
       "      dtype='object')"
      ]
     },
     "execution_count": 66,
     "metadata": {},
     "output_type": "execute_result"
    }
   ],
   "source": [
    "orders.columns"
   ]
  },
  {
   "cell_type": "code",
   "execution_count": 67,
   "metadata": {},
   "outputs": [],
   "source": [
    "orders[\"SO Date\"] = orders[\"Day\"].dt.date # remove time portion"
   ]
  },
  {
   "cell_type": "code",
   "execution_count": 115,
   "metadata": {},
   "outputs": [],
   "source": [
    "# no direct way in Python to have German number formatting\n",
    "def format_comma(number: float):\n",
    "    return f'{number}'.replace('.', ',')\n",
    "\n",
    "orders[\"Revenue\"] = orders[\"Revenue\"].astype(\"float64\")\n",
    "orders[\"Discount\"] = orders[\"Discount\"].astype(\"float64\")\n",
    "orders[\"Cost\"] = orders[\"Cost\"].astype(\"float64\")"
   ]
  },
  {
   "cell_type": "code",
   "execution_count": 118,
   "metadata": {},
   "outputs": [],
   "source": [
    "columns = [\n",
    "    'Ext order id', 'Position', 'SO Date',\n",
    "    'CNAME', 'COUNTRY', 'CITY', 'VKORG', 'VTWEG', 'SPART',\n",
    "    'MATNR', 'MATKL', 'MTART', 'MAKTX',\n",
    "    'Quantity', 'Revenue', 'Currency', 'Discount', 'Cost']\n",
    "with zipfile.ZipFile(\"../data/GlobalBikeAnalysis.zip\", \"w\") as zf:\n",
    "    for year in orders[\"Day\"].dt.year.unique():\n",
    "        file = f'{year:04d}GlobalBikeAnalysis.csv'\n",
    "        with zf.open(file, \"w\") as buffer:\n",
    "            (\n",
    "                orders.loc[orders[\"Day\"].dt.year == year]\n",
    "                .to_csv(buffer, columns=columns, index=False, sep=';', float_format=format_comma) # German\n",
    "                #.to_csv(buffer, columns=columns, index=False) # English\n",
    "                #.to_excel(file, columns=columns, index=False)\n",
    "            )"
   ]
  }
 ],
 "metadata": {
  "kernelspec": {
   "display_name": "base",
   "language": "python",
   "name": "python3"
  },
  "language_info": {
   "codemirror_mode": {
    "name": "ipython",
    "version": 3
   },
   "file_extension": ".py",
   "mimetype": "text/x-python",
   "name": "python",
   "nbconvert_exporter": "python",
   "pygments_lexer": "ipython3",
   "version": "3.8.15 (default, Nov 24 2022, 14:38:14) [MSC v.1916 64 bit (AMD64)]"
  },
  "orig_nbformat": 4,
  "vscode": {
   "interpreter": {
    "hash": "50e5b27107e40faec526e5967cc5e7667b46a85d7faacead4794257648bc1590"
   }
  }
 },
 "nbformat": 4,
 "nbformat_minor": 2
}
