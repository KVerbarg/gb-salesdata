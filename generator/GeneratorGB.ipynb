{
 "cells": [
  {
   "cell_type": "code",
   "execution_count": 1,
   "metadata": {},
   "outputs": [
    {
     "name": "stdout",
     "output_type": "stream",
     "text": [
      "Exception reporting mode: Minimal\n"
     ]
    }
   ],
   "source": [
    "import pandas as pd\n",
    "import math\n",
    "import zipfile\n",
    "%xmode minimal"
   ]
  },
  {
   "attachments": {},
   "cell_type": "markdown",
   "metadata": {},
   "source": [
    "# Settings"
   ]
  },
  {
   "cell_type": "code",
   "execution_count": 2,
   "metadata": {},
   "outputs": [],
   "source": [
    "# file containing master data and respective settings\n",
    "masterdata = 'masterdata.xlsx'"
   ]
  },
  {
   "cell_type": "code",
   "execution_count": 3,
   "metadata": {},
   "outputs": [],
   "source": [
    "# cover the following years\n",
    "start_date = '2020-01-01'\n",
    "end_date = '2036-01-01'\n",
    "\n",
    "start_date = '2020-12-11' # test\n",
    "end_date = '2021-01-06'   # test"
   ]
  },
  {
   "attachments": {},
   "cell_type": "markdown",
   "metadata": {},
   "source": [
    "### Seasonality"
   ]
  },
  {
   "cell_type": "code",
   "execution_count": 4,
   "metadata": {},
   "outputs": [
    {
     "data": {
      "text/html": [
       "<div>\n",
       "<style scoped>\n",
       "    .dataframe tbody tr th:only-of-type {\n",
       "        vertical-align: middle;\n",
       "    }\n",
       "\n",
       "    .dataframe tbody tr th {\n",
       "        vertical-align: top;\n",
       "    }\n",
       "\n",
       "    .dataframe thead th {\n",
       "        text-align: right;\n",
       "    }\n",
       "</style>\n",
       "<table border=\"1\" class=\"dataframe\">\n",
       "  <thead>\n",
       "    <tr style=\"text-align: right;\">\n",
       "      <th></th>\n",
       "      <th>Weight</th>\n",
       "      <th>Reason</th>\n",
       "      <th>Weight_normalized</th>\n",
       "    </tr>\n",
       "    <tr>\n",
       "      <th>Week</th>\n",
       "      <th></th>\n",
       "      <th></th>\n",
       "      <th></th>\n",
       "    </tr>\n",
       "  </thead>\n",
       "  <tbody>\n",
       "    <tr>\n",
       "      <th>31</th>\n",
       "      <td>1.0</td>\n",
       "      <td>NaN</td>\n",
       "      <td>0.385714</td>\n",
       "    </tr>\n",
       "  </tbody>\n",
       "</table>\n",
       "</div>"
      ],
      "text/plain": [
       "      Weight Reason  Weight_normalized\n",
       "Week                                  \n",
       "31       1.0    NaN           0.385714"
      ]
     },
     "execution_count": 4,
     "metadata": {},
     "output_type": "execute_result"
    }
   ],
   "source": [
    "weeks = pd.read_excel(masterdata, sheet_name=\"weeks\")\n",
    "weeks[\"Weight\"] = weeks[\"Weight\"].rolling(2, min_periods=1).mean()  # smoothing\n",
    "weeks[\"Weight_normalized\"] = weeks[\"Weight\"] / weeks[\"Weight\"].sum() * len(weeks)\n",
    "weeks.set_index(keys=\"Week\", inplace=True)\n",
    "weeks.sample()"
   ]
  },
  {
   "cell_type": "code",
   "execution_count": 5,
   "metadata": {},
   "outputs": [
    {
     "data": {
      "text/html": [
       "<div>\n",
       "<style scoped>\n",
       "    .dataframe tbody tr th:only-of-type {\n",
       "        vertical-align: middle;\n",
       "    }\n",
       "\n",
       "    .dataframe tbody tr th {\n",
       "        vertical-align: top;\n",
       "    }\n",
       "\n",
       "    .dataframe thead th {\n",
       "        text-align: right;\n",
       "    }\n",
       "</style>\n",
       "<table border=\"1\" class=\"dataframe\">\n",
       "  <thead>\n",
       "    <tr style=\"text-align: right;\">\n",
       "      <th></th>\n",
       "      <th>Year</th>\n",
       "      <th>Growth</th>\n",
       "    </tr>\n",
       "  </thead>\n",
       "  <tbody>\n",
       "    <tr>\n",
       "      <th>9</th>\n",
       "      <td>2029</td>\n",
       "      <td>4</td>\n",
       "    </tr>\n",
       "  </tbody>\n",
       "</table>\n",
       "</div>"
      ],
      "text/plain": [
       "   Year  Growth\n",
       "9  2029       4"
      ]
     },
     "execution_count": 5,
     "metadata": {},
     "output_type": "execute_result"
    }
   ],
   "source": [
    "years = pd.read_excel(masterdata, sheet_name=\"years\")\n",
    "years.sample()"
   ]
  },
  {
   "attachments": {},
   "cell_type": "markdown",
   "metadata": {},
   "source": [
    "### Customers\n",
    "To find out the available customers and master data in S4, use this (remove comments when executing in Transaction DB02)\n",
    "``` sql\n",
    "SELECT but000.client, but000.partner, but000.name_org1, adrc.country, adrc.city1\n",
    "FROM but000\n",
    "JOIN but020 ON but000.client = but020.client AND but000.partner = but020.partner\n",
    "JOIN adrc ON but020.client = adrc.client AND but020.addrnumber = adrc.addrnumber\n",
    "JOIN but100 ON but000.client = but100.mandt AND but000.partner = but100.partner\n",
    "WHERE but000.client = 202    -- partner id depends on the client\n",
    "AND but000.bu_sort1 = '334'  -- any search term except 000, which also contains dirty student BP\n",
    "AND but100.rltyp = 'FLCU00'  -- a customer role\n",
    "ORDER BY but000.name_org1\n",
    "```"
   ]
  },
  {
   "attachments": {},
   "cell_type": "markdown",
   "metadata": {},
   "source": [
    "Outside S4, we can only identify a customer by its name (the business partner number in S4 depends on the system and client)."
   ]
  },
  {
   "cell_type": "code",
   "execution_count": 6,
   "metadata": {},
   "outputs": [
    {
     "data": {
      "text/html": [
       "<div>\n",
       "<style scoped>\n",
       "    .dataframe tbody tr th:only-of-type {\n",
       "        vertical-align: middle;\n",
       "    }\n",
       "\n",
       "    .dataframe tbody tr th {\n",
       "        vertical-align: top;\n",
       "    }\n",
       "\n",
       "    .dataframe thead th {\n",
       "        text-align: right;\n",
       "    }\n",
       "</style>\n",
       "<table border=\"1\" class=\"dataframe\">\n",
       "  <thead>\n",
       "    <tr style=\"text-align: right;\">\n",
       "      <th></th>\n",
       "      <th>CNAME</th>\n",
       "      <th>COUNTRY</th>\n",
       "      <th>CITY</th>\n",
       "      <th>CWeight</th>\n",
       "      <th>VKORG</th>\n",
       "      <th>VTWEG</th>\n",
       "      <th>SPART</th>\n",
       "    </tr>\n",
       "  </thead>\n",
       "  <tbody>\n",
       "    <tr>\n",
       "      <th>8</th>\n",
       "      <td>Drahtesel</td>\n",
       "      <td>DE</td>\n",
       "      <td>Leipzig</td>\n",
       "      <td>8</td>\n",
       "      <td>DN00</td>\n",
       "      <td>WH</td>\n",
       "      <td>BI</td>\n",
       "    </tr>\n",
       "  </tbody>\n",
       "</table>\n",
       "</div>"
      ],
      "text/plain": [
       "       CNAME COUNTRY     CITY  CWeight VKORG VTWEG SPART\n",
       "8  Drahtesel      DE  Leipzig        8  DN00    WH    BI"
      ]
     },
     "execution_count": 6,
     "metadata": {},
     "output_type": "execute_result"
    }
   ],
   "source": [
    "customers = pd.read_excel(masterdata, sheet_name=\"customers\")\n",
    "customers.sample()"
   ]
  },
  {
   "attachments": {},
   "cell_type": "markdown",
   "metadata": {},
   "source": [
    "Discounts (C03)"
   ]
  },
  {
   "cell_type": "code",
   "execution_count": 7,
   "metadata": {},
   "outputs": [
    {
     "data": {
      "text/html": [
       "<div>\n",
       "<style scoped>\n",
       "    .dataframe tbody tr th:only-of-type {\n",
       "        vertical-align: middle;\n",
       "    }\n",
       "\n",
       "    .dataframe tbody tr th {\n",
       "        vertical-align: top;\n",
       "    }\n",
       "\n",
       "    .dataframe thead th {\n",
       "        text-align: right;\n",
       "    }\n",
       "</style>\n",
       "<table border=\"1\" class=\"dataframe\">\n",
       "  <thead>\n",
       "    <tr style=\"text-align: right;\">\n",
       "      <th></th>\n",
       "      <th>CNAME</th>\n",
       "      <th>COUNTRY</th>\n",
       "      <th>CITY</th>\n",
       "      <th>CWeight</th>\n",
       "      <th>VKORG</th>\n",
       "      <th>VTWEG</th>\n",
       "      <th>SPART</th>\n",
       "      <th>Discount%</th>\n",
       "    </tr>\n",
       "  </thead>\n",
       "  <tbody>\n",
       "    <tr>\n",
       "      <th>5</th>\n",
       "      <td>Capital Bikes</td>\n",
       "      <td>DE</td>\n",
       "      <td>Berlin</td>\n",
       "      <td>15</td>\n",
       "      <td>DN00</td>\n",
       "      <td>WH</td>\n",
       "      <td>BI</td>\n",
       "      <td>0.03</td>\n",
       "    </tr>\n",
       "  </tbody>\n",
       "</table>\n",
       "</div>"
      ],
      "text/plain": [
       "           CNAME COUNTRY    CITY  CWeight VKORG VTWEG SPART  Discount%\n",
       "5  Capital Bikes      DE  Berlin       15  DN00    WH    BI       0.03"
      ]
     },
     "execution_count": 7,
     "metadata": {},
     "output_type": "execute_result"
    }
   ],
   "source": [
    "bins = [0, 10, 20, 100]  # np.inf would be the correct upper bound - 100 will do\n",
    "labels = ['0', '10', '20']\n",
    "discounts = {'0': 0, '10':0.03, '20':0.05}\n",
    "customers[\"Discount%\"] = pd.cut(customers[\"CWeight\"], bins=bins, labels=labels, right=False).map(discounts).astype(float)\n",
    "customers.sample()"
   ]
  },
  {
   "attachments": {},
   "cell_type": "markdown",
   "metadata": {},
   "source": [
    "### Materials"
   ]
  },
  {
   "attachments": {},
   "cell_type": "markdown",
   "metadata": {},
   "source": [
    "Find out available material master in S4\n",
    "``` sql\n",
    "SELECT mara.mandt, mara.matnr, mara.matkl, mara.mtart, makt.maktx\n",
    "FROM mara\n",
    "JOIN makt ON mara.mandt = makt.mandt AND mara.matnr = makt.matnr\n",
    "WHERE mara.mandt = 202              -- client\n",
    "AND mara.mtart IN ('FERT', 'HAWA')  -- finished and trading goods\n",
    "AND mara.matnr LIKE '%888%'         -- any group\n",
    "AND makt.spras = 'E'                -- English\n",
    "ORDER BY mara.matnr\n",
    "```"
   ]
  },
  {
   "cell_type": "code",
   "execution_count": 8,
   "metadata": {},
   "outputs": [
    {
     "data": {
      "text/html": [
       "<div>\n",
       "<style scoped>\n",
       "    .dataframe tbody tr th:only-of-type {\n",
       "        vertical-align: middle;\n",
       "    }\n",
       "\n",
       "    .dataframe tbody tr th {\n",
       "        vertical-align: top;\n",
       "    }\n",
       "\n",
       "    .dataframe thead th {\n",
       "        text-align: right;\n",
       "    }\n",
       "</style>\n",
       "<table border=\"1\" class=\"dataframe\">\n",
       "  <thead>\n",
       "    <tr style=\"text-align: right;\">\n",
       "      <th></th>\n",
       "      <th>MATNR</th>\n",
       "      <th>MATKL</th>\n",
       "      <th>MTART</th>\n",
       "      <th>MAKTX</th>\n",
       "      <th>MWeight</th>\n",
       "    </tr>\n",
       "  </thead>\n",
       "  <tbody>\n",
       "    <tr>\n",
       "      <th>0</th>\n",
       "      <td>BOTL1000</td>\n",
       "      <td>UTIL</td>\n",
       "      <td>HAWA</td>\n",
       "      <td>Water Bottle</td>\n",
       "      <td>1.0</td>\n",
       "    </tr>\n",
       "  </tbody>\n",
       "</table>\n",
       "</div>"
      ],
      "text/plain": [
       "      MATNR MATKL MTART         MAKTX  MWeight\n",
       "0  BOTL1000  UTIL  HAWA  Water Bottle      1.0"
      ]
     },
     "execution_count": 8,
     "metadata": {},
     "output_type": "execute_result"
    }
   ],
   "source": [
    "materials = pd.read_excel(masterdata, sheet_name=\"materials\")\n",
    "materials.sample()"
   ]
  },
  {
   "attachments": {},
   "cell_type": "markdown",
   "metadata": {},
   "source": [
    "# Generator"
   ]
  },
  {
   "attachments": {},
   "cell_type": "markdown",
   "metadata": {},
   "source": [
    "### Working days"
   ]
  },
  {
   "attachments": {},
   "cell_type": "markdown",
   "metadata": {},
   "source": [
    "Produces subsequent dates\n",
    "- only business days (no weekends)\n",
    "- range is defined above"
   ]
  },
  {
   "cell_type": "code",
   "execution_count": 9,
   "metadata": {},
   "outputs": [],
   "source": [
    "def gen_date():\n",
    "    for d in pd.bdate_range(start=start_date, end=end_date, inclusive='left'):\n",
    "        yield d"
   ]
  },
  {
   "attachments": {},
   "cell_type": "markdown",
   "metadata": {},
   "source": [
    "### Customers"
   ]
  },
  {
   "attachments": {},
   "cell_type": "markdown",
   "metadata": {},
   "source": [
    "Produce subsequent customers for a day\n",
    "- number of customers = number of orders for that day is 50 at average\n",
    "- number of orders varies by seasonality (C01); since seasonality also affects quantities, we only use sqrt() of the effect here\n",
    "- The S4 system will create its own internal document numbers, but we also need an additional private (external to S4) number.\n",
    "  This allows us to recognize our orders when implementing the daily delta logic later.\n",
    "  The order number contains the date of the order plus a subsequential number to make it unique.\n",
    "- Customers are selected according to their CWeight (C02); this also affects the number of order positions, hence, we only apply sqrt() of the weights."
   ]
  },
  {
   "cell_type": "code",
   "execution_count": 10,
   "metadata": {},
   "outputs": [],
   "source": [
    "def season_factor(day: pd.Timestamp):\n",
    "    return math.sqrt(weeks.loc[day.week][\"Weight_normalized\"])\n",
    "\n",
    "def gen_ordernum_with_customer(day: pd.Timestamp):\n",
    "    # number of orders\n",
    "    nof_orders = math.ceil(50 * season_factor(day))\n",
    "    # customers\n",
    "    customers_sample = customers.sample(n=nof_orders, replace=True, weights=customers[\"CWeight\"].apply(math.sqrt))\n",
    "    gen_customer = (c for (i, c) in customers_sample.iterrows())\n",
    "    # produce result\n",
    "    for x in range(nof_orders):\n",
    "        order_number = f\"{day.strftime('%Y-%m-%d')}#{x:03d}\"\n",
    "        yield(order_number, next(gen_customer))"
   ]
  },
  {
   "attachments": {},
   "cell_type": "markdown",
   "metadata": {},
   "source": [
    "### Materials"
   ]
  },
  {
   "attachments": {},
   "cell_type": "markdown",
   "metadata": {},
   "source": [
    "- The average nunber of positions is approx. 10\n",
    "- The number of positions varies by sqrt() of customer weights (C02) - see above\n",
    "- Materials are selected according to their MWeight (C04); again this also affects the quantity, why we apply sqrt()"
   ]
  },
  {
   "cell_type": "code",
   "execution_count": 11,
   "metadata": {},
   "outputs": [],
   "source": [
    "def gen_material(day, customer):\n",
    "    # positions\n",
    "    factor = math.sqrt(customer[\"CWeight\"] / customers[\"CWeight\"].sum() * len(customers))\n",
    "    nof_positions = math.ceil(10 * factor)\n",
    "    # materials\n",
    "    materials_sample = materials.sample(n=nof_positions, replace=True, weights=materials[\"MWeight\"].apply(math.sqrt))\n",
    "    gen_material = (m for (i, m) in materials_sample.iterrows())\n",
    "    # produce result\n",
    "    for pos in range(10, nof_positions * 10, 10):  # position numbers 10, 20, 30, ...\n",
    "        yield(pos, next(gen_material))"
   ]
  },
  {
   "attachments": {},
   "cell_type": "markdown",
   "metadata": {},
   "source": [
    "### Quantity"
   ]
  },
  {
   "attachments": {},
   "cell_type": "markdown",
   "metadata": {},
   "source": [
    "- The average quantity is approx. 10\n",
    "- The quantity depends on the sqrt() of seasonality (C01) - see above\n",
    "- The quantity depends on the sqrt() material weights (C04) - see above\n",
    "- The quantity tends to grow over time (C07)"
   ]
  },
  {
   "cell_type": "code",
   "execution_count": 12,
   "metadata": {},
   "outputs": [],
   "source": [
    "def ret_quantity(day, material):\n",
    "    factor = math.sqrt(material[\"MWeight\"] / materials[\"MWeight\"].sum() * len(materials))\n",
    "    growth = years[\"Growth\"].cumsum().loc[years[\"Year\"] == day.year]\n",
    "    quantity = math.ceil(10 * season_factor(day) * factor * growth)\n",
    "    return (quantity, 'ST')"
   ]
  },
  {
   "attachments": {},
   "cell_type": "markdown",
   "metadata": {},
   "source": [
    "### Generate\n",
    "Create list of sales orders by asking the respective oracles for customers, materials...  \n",
    "(one year with 100_000+ orders takes 4 minutes on my laptop)"
   ]
  },
  {
   "cell_type": "code",
   "execution_count": 13,
   "metadata": {},
   "outputs": [],
   "source": [
    "order_list = []\n",
    "for day in gen_date():\n",
    "    for (order_number, customer) in gen_ordernum_with_customer(day):\n",
    "        for (position, material) in gen_material(day, customer):\n",
    "            (quantity, uom) = ret_quantity(day, material)\n",
    "            o = pd.concat([\n",
    "                pd.Series(order_number, index=[\"Ext order id\"]),\n",
    "                pd.Series(position, index=[\"Position\"]),\n",
    "                pd.Series(day, index=[\"Day\"]),\n",
    "                customer.drop(labels=[\"CWeight\"]),\n",
    "                material.drop(labels=[\"MWeight\"]),\n",
    "                pd.Series([quantity, uom], index=[\"Quantity\", \"UoM\"])\n",
    "                ])\n",
    "            order_list.append(o)"
   ]
  },
  {
   "cell_type": "code",
   "execution_count": 14,
   "metadata": {},
   "outputs": [],
   "source": [
    "# convert to DataFrame\n",
    "orders = pd.concat(order_list, axis='columns').T"
   ]
  },
  {
   "cell_type": "code",
   "execution_count": 15,
   "metadata": {},
   "outputs": [
    {
     "data": {
      "text/html": [
       "<div>\n",
       "<style scoped>\n",
       "    .dataframe tbody tr th:only-of-type {\n",
       "        vertical-align: middle;\n",
       "    }\n",
       "\n",
       "    .dataframe tbody tr th {\n",
       "        vertical-align: top;\n",
       "    }\n",
       "\n",
       "    .dataframe thead th {\n",
       "        text-align: right;\n",
       "    }\n",
       "</style>\n",
       "<table border=\"1\" class=\"dataframe\">\n",
       "  <thead>\n",
       "    <tr style=\"text-align: right;\">\n",
       "      <th></th>\n",
       "      <th>Ext order id</th>\n",
       "      <th>Position</th>\n",
       "      <th>Day</th>\n",
       "      <th>CNAME</th>\n",
       "      <th>COUNTRY</th>\n",
       "      <th>CITY</th>\n",
       "      <th>VKORG</th>\n",
       "      <th>VTWEG</th>\n",
       "      <th>SPART</th>\n",
       "      <th>Discount%</th>\n",
       "      <th>MATNR</th>\n",
       "      <th>MATKL</th>\n",
       "      <th>MTART</th>\n",
       "      <th>MAKTX</th>\n",
       "      <th>Quantity</th>\n",
       "      <th>UoM</th>\n",
       "    </tr>\n",
       "  </thead>\n",
       "  <tbody>\n",
       "    <tr>\n",
       "      <th>658</th>\n",
       "      <td>2020-12-14#026</td>\n",
       "      <td>10</td>\n",
       "      <td>2020-12-14</td>\n",
       "      <td>Alster Cycling</td>\n",
       "      <td>DE</td>\n",
       "      <td>Hamburg</td>\n",
       "      <td>DN00</td>\n",
       "      <td>WH</td>\n",
       "      <td>BI</td>\n",
       "      <td>0.03</td>\n",
       "      <td>PRTR3000</td>\n",
       "      <td>BIKES</td>\n",
       "      <td>FERT</td>\n",
       "      <td>Professional Touring Bike (red)</td>\n",
       "      <td>7</td>\n",
       "      <td>ST</td>\n",
       "    </tr>\n",
       "    <tr>\n",
       "      <th>4032</th>\n",
       "      <td>2020-12-28#018</td>\n",
       "      <td>10</td>\n",
       "      <td>2020-12-28</td>\n",
       "      <td>FahrPott</td>\n",
       "      <td>DE</td>\n",
       "      <td>Bochum</td>\n",
       "      <td>DN00</td>\n",
       "      <td>WH</td>\n",
       "      <td>BI</td>\n",
       "      <td>0.0</td>\n",
       "      <td>RHMT1000</td>\n",
       "      <td>SFTY</td>\n",
       "      <td>HAWA</td>\n",
       "      <td>Road Helmet</td>\n",
       "      <td>4</td>\n",
       "      <td>ST</td>\n",
       "    </tr>\n",
       "    <tr>\n",
       "      <th>5675</th>\n",
       "      <td>2021-01-05#032</td>\n",
       "      <td>90</td>\n",
       "      <td>2021-01-05</td>\n",
       "      <td>Philly Bikes</td>\n",
       "      <td>US</td>\n",
       "      <td>Philadelphia</td>\n",
       "      <td>UE00</td>\n",
       "      <td>WH</td>\n",
       "      <td>BI</td>\n",
       "      <td>0.03</td>\n",
       "      <td>GRBL2000</td>\n",
       "      <td>UTIL</td>\n",
       "      <td>FERT</td>\n",
       "      <td>GPS-Bike Computer Road 64GB Royal Blue</td>\n",
       "      <td>8</td>\n",
       "      <td>ST</td>\n",
       "    </tr>\n",
       "  </tbody>\n",
       "</table>\n",
       "</div>"
      ],
      "text/plain": [
       "        Ext order id Position        Day           CNAME COUNTRY  \\\n",
       "658   2020-12-14#026       10 2020-12-14  Alster Cycling      DE   \n",
       "4032  2020-12-28#018       10 2020-12-28        FahrPott      DE   \n",
       "5675  2021-01-05#032       90 2021-01-05    Philly Bikes      US   \n",
       "\n",
       "              CITY VKORG VTWEG SPART Discount%     MATNR  MATKL MTART  \\\n",
       "658        Hamburg  DN00    WH    BI      0.03  PRTR3000  BIKES  FERT   \n",
       "4032        Bochum  DN00    WH    BI       0.0  RHMT1000   SFTY  HAWA   \n",
       "5675  Philadelphia  UE00    WH    BI      0.03  GRBL2000   UTIL  FERT   \n",
       "\n",
       "                                       MAKTX Quantity UoM  \n",
       "658          Professional Touring Bike (red)        7  ST  \n",
       "4032                             Road Helmet        4  ST  \n",
       "5675  GPS-Bike Computer Road 64GB Royal Blue        8  ST  "
      ]
     },
     "execution_count": 15,
     "metadata": {},
     "output_type": "execute_result"
    }
   ],
   "source": [
    "orders.sample(3)"
   ]
  },
  {
   "cell_type": "code",
   "execution_count": 16,
   "metadata": {},
   "outputs": [
    {
     "data": {
      "text/plain": [
       "(5793, 16)"
      ]
     },
     "execution_count": 16,
     "metadata": {},
     "output_type": "execute_result"
    }
   ],
   "source": [
    "orders.shape"
   ]
  },
  {
   "attachments": {},
   "cell_type": "markdown",
   "metadata": {},
   "source": [
    "### Save"
   ]
  },
  {
   "cell_type": "code",
   "execution_count": 17,
   "metadata": {},
   "outputs": [
    {
     "data": {
      "text/plain": [
       "Index(['Ext order id', 'Position', 'Day', 'CNAME', 'COUNTRY', 'CITY', 'VKORG',\n",
       "       'VTWEG', 'SPART', 'Discount%', 'MATNR', 'MATKL', 'MTART', 'MAKTX',\n",
       "       'Quantity', 'UoM'],\n",
       "      dtype='object')"
      ]
     },
     "execution_count": 17,
     "metadata": {},
     "output_type": "execute_result"
    }
   ],
   "source": [
    "orders.columns"
   ]
  },
  {
   "attachments": {},
   "cell_type": "markdown",
   "metadata": {},
   "source": [
    "The data file is made for import with ABAP into S/4:\n",
    "- no header line\n",
    "- tabulator as separator\n",
    "- ABAP date format\n",
    "- one file per year"
   ]
  },
  {
   "cell_type": "code",
   "execution_count": 18,
   "metadata": {},
   "outputs": [],
   "source": [
    "columns = ['Ext order id', 'Position', 'Day', 'VKORG', 'VTWEG', 'SPART', 'CNAME', 'Discount%', 'MATNR', 'Quantity', 'UoM']\n",
    "with zipfile.ZipFile(\"../data/GlobalBikeABAP.zip\", \"w\") as zf:\n",
    "    for year in orders[\"Day\"].dt.year.unique():\n",
    "        file = f'{year:04d}GlobalBikeABAP.tsv'\n",
    "        with zf.open(file, \"w\") as buffer:\n",
    "            (\n",
    "                orders.loc[orders[\"Day\"].dt.year == year]\n",
    "                .to_csv(buffer, columns=columns, index=False, header=False, sep='\\t', date_format='%Y%m%d')\n",
    "            )"
   ]
  }
 ],
 "metadata": {
  "kernelspec": {
   "display_name": "base",
   "language": "python",
   "name": "python3"
  },
  "language_info": {
   "codemirror_mode": {
    "name": "ipython",
    "version": 3
   },
   "file_extension": ".py",
   "mimetype": "text/x-python",
   "name": "python",
   "nbconvert_exporter": "python",
   "pygments_lexer": "ipython3",
   "version": "3.8.15"
  },
  "orig_nbformat": 4,
  "vscode": {
   "interpreter": {
    "hash": "50e5b27107e40faec526e5967cc5e7667b46a85d7faacead4794257648bc1590"
   }
  }
 },
 "nbformat": 4,
 "nbformat_minor": 2
}
