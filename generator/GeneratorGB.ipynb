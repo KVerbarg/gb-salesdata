{
 "cells": [
  {
   "cell_type": "code",
   "execution_count": 1,
   "metadata": {},
   "outputs": [],
   "source": [
    "import pandas as pd\n",
    "import math\n",
    "import random\n",
    "import zipfile"
   ]
  },
  {
   "attachments": {},
   "cell_type": "markdown",
   "metadata": {},
   "source": [
    "# Settings"
   ]
  },
  {
   "cell_type": "code",
   "execution_count": 2,
   "metadata": {},
   "outputs": [],
   "source": [
    "# file containing master data and respective settings\n",
    "masterdata = 'masterdata.xlsx'"
   ]
  },
  {
   "cell_type": "code",
   "execution_count": 3,
   "metadata": {},
   "outputs": [],
   "source": [
    "# cover the following years\n",
    "start_date = '2020-01-01'\n",
    "end_date = '2036-01-01'   # exclusive"
   ]
  },
  {
   "attachments": {},
   "cell_type": "markdown",
   "metadata": {},
   "source": [
    "### Seasonality"
   ]
  },
  {
   "cell_type": "code",
   "execution_count": 4,
   "metadata": {},
   "outputs": [
    {
     "data": {
      "text/html": [
       "<div>\n",
       "<style scoped>\n",
       "    .dataframe tbody tr th:only-of-type {\n",
       "        vertical-align: middle;\n",
       "    }\n",
       "\n",
       "    .dataframe tbody tr th {\n",
       "        vertical-align: top;\n",
       "    }\n",
       "\n",
       "    .dataframe thead th {\n",
       "        text-align: right;\n",
       "    }\n",
       "</style>\n",
       "<table border=\"1\" class=\"dataframe\">\n",
       "  <thead>\n",
       "    <tr style=\"text-align: right;\">\n",
       "      <th></th>\n",
       "      <th>Weight</th>\n",
       "      <th>Reason</th>\n",
       "      <th>max shipping offset weeks</th>\n",
       "    </tr>\n",
       "    <tr>\n",
       "      <th>Week</th>\n",
       "      <th></th>\n",
       "      <th></th>\n",
       "      <th></th>\n",
       "    </tr>\n",
       "  </thead>\n",
       "  <tbody>\n",
       "    <tr>\n",
       "      <th>37</th>\n",
       "      <td>0.771429</td>\n",
       "      <td>NaN</td>\n",
       "      <td>30</td>\n",
       "    </tr>\n",
       "  </tbody>\n",
       "</table>\n",
       "</div>"
      ],
      "text/plain": [
       "        Weight Reason  max shipping offset weeks\n",
       "Week                                            \n",
       "37    0.771429    NaN                         30"
      ]
     },
     "execution_count": 4,
     "metadata": {},
     "output_type": "execute_result"
    }
   ],
   "source": [
    "weeks = pd.read_excel(masterdata, sheet_name=\"weeks\")\n",
    "weeks[\"Weight\"] = weeks[\"Weight\"].rolling(2, min_periods=1).mean()  # smoothing\n",
    "weeks[\"Weight\"] = weeks[\"Weight\"] / weeks[\"Weight\"].sum() * len(weeks) # normalize\n",
    "weeks.set_index(keys=\"Week\", inplace=True)\n",
    "weeks.sample()"
   ]
  },
  {
   "cell_type": "code",
   "execution_count": 5,
   "metadata": {},
   "outputs": [
    {
     "data": {
      "text/html": [
       "<div>\n",
       "<style scoped>\n",
       "    .dataframe tbody tr th:only-of-type {\n",
       "        vertical-align: middle;\n",
       "    }\n",
       "\n",
       "    .dataframe tbody tr th {\n",
       "        vertical-align: top;\n",
       "    }\n",
       "\n",
       "    .dataframe thead th {\n",
       "        text-align: right;\n",
       "    }\n",
       "</style>\n",
       "<table border=\"1\" class=\"dataframe\">\n",
       "  <thead>\n",
       "    <tr style=\"text-align: right;\">\n",
       "      <th></th>\n",
       "      <th>Growth</th>\n",
       "      <th>Growth_pct</th>\n",
       "    </tr>\n",
       "    <tr>\n",
       "      <th>Year</th>\n",
       "      <th></th>\n",
       "      <th></th>\n",
       "    </tr>\n",
       "  </thead>\n",
       "  <tbody>\n",
       "    <tr>\n",
       "      <th>2027</th>\n",
       "      <td>5</td>\n",
       "      <td>1.080842</td>\n",
       "    </tr>\n",
       "  </tbody>\n",
       "</table>\n",
       "</div>"
      ],
      "text/plain": [
       "      Growth  Growth_pct\n",
       "Year                    \n",
       "2027       5    1.080842"
      ]
     },
     "execution_count": 5,
     "metadata": {},
     "output_type": "execute_result"
    }
   ],
   "source": [
    "years = pd.read_excel(masterdata, sheet_name=\"years\")\n",
    "years.set_index(keys=\"Year\", inplace=True)\n",
    "years[\"Growth_pct\"] = ((years[\"Growth\"] + 100) / 100).cumprod()\n",
    "years.sample()"
   ]
  },
  {
   "attachments": {},
   "cell_type": "markdown",
   "metadata": {},
   "source": [
    "### Customers\n",
    "To find out the available customer master data in S4, use this (remove comments when executing in Transaction DB02).\n",
    "The related VKORG kan be found in table `KNVV`.\n",
    "``` sql\n",
    "SELECT but000.client, but000.partner, but000.name_org1, adrc.country, adrc.city1\n",
    "FROM but000\n",
    "JOIN but020 ON but000.client = but020.client AND but000.partner = but020.partner\n",
    "JOIN adrc ON but020.client = adrc.client AND but020.addrnumber = adrc.addrnumber\n",
    "JOIN but100 ON but000.client = but100.mandt AND but000.partner = but100.partner\n",
    "WHERE but000.client = 220    -- partner id depends on the client\n",
    "AND but000.bu_sort1 = '334'  -- any search term except 000, which also contains dirty student BP\n",
    "AND but100.rltyp = 'FLCU00'  -- a customer role\n",
    "ORDER BY but000.name_org1\n",
    "```"
   ]
  },
  {
   "attachments": {},
   "cell_type": "markdown",
   "metadata": {},
   "source": [
    "Outside S4, we can only identify a customer by its name (the business partner number in S4 depends on the system and client)."
   ]
  },
  {
   "cell_type": "code",
   "execution_count": 6,
   "metadata": {},
   "outputs": [
    {
     "data": {
      "text/html": [
       "<div>\n",
       "<style scoped>\n",
       "    .dataframe tbody tr th:only-of-type {\n",
       "        vertical-align: middle;\n",
       "    }\n",
       "\n",
       "    .dataframe tbody tr th {\n",
       "        vertical-align: top;\n",
       "    }\n",
       "\n",
       "    .dataframe thead th {\n",
       "        text-align: right;\n",
       "    }\n",
       "</style>\n",
       "<table border=\"1\" class=\"dataframe\">\n",
       "  <thead>\n",
       "    <tr style=\"text-align: right;\">\n",
       "      <th></th>\n",
       "      <th>COUNTRY</th>\n",
       "      <th>CITY</th>\n",
       "      <th>CWeight</th>\n",
       "      <th>VKORG</th>\n",
       "      <th>VTWEG</th>\n",
       "      <th>SPART</th>\n",
       "      <th>DiscountWeight</th>\n",
       "    </tr>\n",
       "    <tr>\n",
       "      <th>CNAME</th>\n",
       "      <th></th>\n",
       "      <th></th>\n",
       "      <th></th>\n",
       "      <th></th>\n",
       "      <th></th>\n",
       "      <th></th>\n",
       "      <th></th>\n",
       "    </tr>\n",
       "  </thead>\n",
       "  <tbody>\n",
       "    <tr>\n",
       "      <th>Ostseerad</th>\n",
       "      <td>DE</td>\n",
       "      <td>Anklam</td>\n",
       "      <td>0.449438</td>\n",
       "      <td>DN00</td>\n",
       "      <td>WH</td>\n",
       "      <td>BI</td>\n",
       "      <td>5</td>\n",
       "    </tr>\n",
       "  </tbody>\n",
       "</table>\n",
       "</div>"
      ],
      "text/plain": [
       "          COUNTRY    CITY   CWeight VKORG VTWEG SPART  DiscountWeight\n",
       "CNAME                                                                \n",
       "Ostseerad      DE  Anklam  0.449438  DN00    WH    BI               5"
      ]
     },
     "execution_count": 6,
     "metadata": {},
     "output_type": "execute_result"
    }
   ],
   "source": [
    "customers = pd.read_excel(masterdata, sheet_name=\"customers\")\n",
    "customers.set_index(\"CNAME\", inplace=True)\n",
    "customers[\"DiscountWeight\"] = customers[\"CWeight\"]\n",
    "customers[\"CWeight\"] = customers[\"CWeight\"] / customers[\"CWeight\"].sum() * len(customers) # normalize\n",
    "customers.sample()"
   ]
  },
  {
   "attachments": {},
   "cell_type": "markdown",
   "metadata": {},
   "source": [
    "Discounts (C03)"
   ]
  },
  {
   "cell_type": "code",
   "execution_count": 7,
   "metadata": {},
   "outputs": [
    {
     "data": {
      "text/html": [
       "<div>\n",
       "<style scoped>\n",
       "    .dataframe tbody tr th:only-of-type {\n",
       "        vertical-align: middle;\n",
       "    }\n",
       "\n",
       "    .dataframe tbody tr th {\n",
       "        vertical-align: top;\n",
       "    }\n",
       "\n",
       "    .dataframe thead th {\n",
       "        text-align: right;\n",
       "    }\n",
       "</style>\n",
       "<table border=\"1\" class=\"dataframe\">\n",
       "  <thead>\n",
       "    <tr style=\"text-align: right;\">\n",
       "      <th></th>\n",
       "      <th>COUNTRY</th>\n",
       "      <th>CITY</th>\n",
       "      <th>CWeight</th>\n",
       "      <th>VKORG</th>\n",
       "      <th>VTWEG</th>\n",
       "      <th>SPART</th>\n",
       "      <th>DiscountWeight</th>\n",
       "      <th>Discount%</th>\n",
       "    </tr>\n",
       "    <tr>\n",
       "      <th>CNAME</th>\n",
       "      <th></th>\n",
       "      <th></th>\n",
       "      <th></th>\n",
       "      <th></th>\n",
       "      <th></th>\n",
       "      <th></th>\n",
       "      <th></th>\n",
       "      <th></th>\n",
       "    </tr>\n",
       "  </thead>\n",
       "  <tbody>\n",
       "    <tr>\n",
       "      <th>Peachtree Bikes</th>\n",
       "      <td>US</td>\n",
       "      <td>Atlanta</td>\n",
       "      <td>0.898876</td>\n",
       "      <td>UE00</td>\n",
       "      <td>WH</td>\n",
       "      <td>BI</td>\n",
       "      <td>10</td>\n",
       "      <td>3.0</td>\n",
       "    </tr>\n",
       "  </tbody>\n",
       "</table>\n",
       "</div>"
      ],
      "text/plain": [
       "                COUNTRY     CITY   CWeight VKORG VTWEG SPART  DiscountWeight  \\\n",
       "CNAME                                                                          \n",
       "Peachtree Bikes      US  Atlanta  0.898876  UE00    WH    BI              10   \n",
       "\n",
       "                 Discount%  \n",
       "CNAME                       \n",
       "Peachtree Bikes        3.0  "
      ]
     },
     "execution_count": 7,
     "metadata": {},
     "output_type": "execute_result"
    }
   ],
   "source": [
    "bins = [0, 10, 20, 100]  # np.inf would be the correct upper bound - 100 will do\n",
    "labels = ['0', '10', '20']\n",
    "discounts = {'0': 0, '10':3, '20':5}\n",
    "customers[\"Discount%\"] = pd.cut(customers[\"DiscountWeight\"], bins=bins, labels=labels, right=False).map(discounts).astype(float)\n",
    "customers.sample()"
   ]
  },
  {
   "attachments": {},
   "cell_type": "markdown",
   "metadata": {},
   "source": [
    "### Materials"
   ]
  },
  {
   "attachments": {},
   "cell_type": "markdown",
   "metadata": {},
   "source": [
    "Find out available material master and related org units in S4\n",
    "``` sql\n",
    "SELECT mara.mandt, mara.matnr, mara.matkl, mara.mtart, mara.tragr AS \"Transportgrp.\"\n",
    "    , makt.maktx, mvke.vkorg, mvke.vtweg\n",
    "    , marc.werks, marc.ladgr AS \"Loadinggrp.\"\n",
    "    , mbew.vprsv AS \"std/avg\", mbew.stprs AS \"std price\", mbew.verpr AS \"avg price\"  -- material cost\n",
    "FROM mara\n",
    "JOIN makt ON mara.mandt = makt.mandt AND mara.matnr = makt.matnr\n",
    "JOIN mvke ON mara.mandt = mvke.mandt AND mara.matnr = mvke.matnr\n",
    "JOIN marc ON mvke.mandt = marc.mandt AND mvke.matnr = marc.matnr AND mvke.dwerk = marc.werks\n",
    "LEFT OUTER JOIN mbew ON marc.mandt = mbew.mandt AND marc.matnr = mbew.matnr AND marc.werks = mbew.bwkey\n",
    "WHERE mara.mandt = 220              -- client\n",
    "AND mara.mtart IN ('FERT', 'HAWA')  -- finished and trading goods\n",
    "AND mara.matnr LIKE '%000%'         -- Global Bike group number\n",
    "AND makt.spras = 'E'                -- English\n",
    "AND mvke.vtweg = 'WH'               -- we are only here\n",
    "ORDER BY mara.matnr, mvke.vkorg, mvke.vtweg\n",
    "```"
   ]
  },
  {
   "cell_type": "code",
   "execution_count": 8,
   "metadata": {},
   "outputs": [
    {
     "data": {
      "text/html": [
       "<div>\n",
       "<style scoped>\n",
       "    .dataframe tbody tr th:only-of-type {\n",
       "        vertical-align: middle;\n",
       "    }\n",
       "\n",
       "    .dataframe tbody tr th {\n",
       "        vertical-align: top;\n",
       "    }\n",
       "\n",
       "    .dataframe thead th {\n",
       "        text-align: right;\n",
       "    }\n",
       "</style>\n",
       "<table border=\"1\" class=\"dataframe\">\n",
       "  <thead>\n",
       "    <tr style=\"text-align: right;\">\n",
       "      <th></th>\n",
       "      <th>MATKL</th>\n",
       "      <th>MTART</th>\n",
       "      <th>MAKTX</th>\n",
       "      <th>MWeight</th>\n",
       "    </tr>\n",
       "    <tr>\n",
       "      <th>MATNR</th>\n",
       "      <th></th>\n",
       "      <th></th>\n",
       "      <th></th>\n",
       "      <th></th>\n",
       "    </tr>\n",
       "  </thead>\n",
       "  <tbody>\n",
       "    <tr>\n",
       "      <th>OHMT1000</th>\n",
       "      <td>SFTY</td>\n",
       "      <td>HAWA</td>\n",
       "      <td>Off Road Helmet</td>\n",
       "      <td>1.0</td>\n",
       "    </tr>\n",
       "  </tbody>\n",
       "</table>\n",
       "</div>"
      ],
      "text/plain": [
       "         MATKL MTART            MAKTX  MWeight\n",
       "MATNR                                         \n",
       "OHMT1000  SFTY  HAWA  Off Road Helmet      1.0"
      ]
     },
     "execution_count": 8,
     "metadata": {},
     "output_type": "execute_result"
    }
   ],
   "source": [
    "materials = pd.read_excel(masterdata, sheet_name=\"materials\")\n",
    "materials.set_index(\"MATNR\", inplace=True)\n",
    "materials.sample()"
   ]
  },
  {
   "attachments": {},
   "cell_type": "markdown",
   "metadata": {},
   "source": [
    "Additional weights depending on materials x customers"
   ]
  },
  {
   "cell_type": "code",
   "execution_count": 9,
   "metadata": {},
   "outputs": [
    {
     "data": {
      "text/html": [
       "<div>\n",
       "<style scoped>\n",
       "    .dataframe tbody tr th:only-of-type {\n",
       "        vertical-align: middle;\n",
       "    }\n",
       "\n",
       "    .dataframe tbody tr th {\n",
       "        vertical-align: top;\n",
       "    }\n",
       "\n",
       "    .dataframe thead th {\n",
       "        text-align: right;\n",
       "    }\n",
       "</style>\n",
       "<table border=\"1\" class=\"dataframe\">\n",
       "  <thead>\n",
       "    <tr style=\"text-align: right;\">\n",
       "      <th></th>\n",
       "      <th>BOTL1000</th>\n",
       "      <th>CAGE1000</th>\n",
       "      <th>DGRB2000</th>\n",
       "      <th>DGRR2000</th>\n",
       "      <th>DGRW2000</th>\n",
       "      <th>DXTR1000</th>\n",
       "      <th>DXTR2000</th>\n",
       "      <th>DXTR3000</th>\n",
       "      <th>EPAD1000</th>\n",
       "      <th>FAID1000</th>\n",
       "      <th>...</th>\n",
       "      <th>OHMT1000</th>\n",
       "      <th>ORMN1000</th>\n",
       "      <th>ORWN1000</th>\n",
       "      <th>PRTR1000</th>\n",
       "      <th>PRTR2000</th>\n",
       "      <th>PRTR3000</th>\n",
       "      <th>PUMP1000</th>\n",
       "      <th>RHMT1000</th>\n",
       "      <th>RKIT1000</th>\n",
       "      <th>SHRT1000</th>\n",
       "    </tr>\n",
       "    <tr>\n",
       "      <th>CNAME</th>\n",
       "      <th></th>\n",
       "      <th></th>\n",
       "      <th></th>\n",
       "      <th></th>\n",
       "      <th></th>\n",
       "      <th></th>\n",
       "      <th></th>\n",
       "      <th></th>\n",
       "      <th></th>\n",
       "      <th></th>\n",
       "      <th></th>\n",
       "      <th></th>\n",
       "      <th></th>\n",
       "      <th></th>\n",
       "      <th></th>\n",
       "      <th></th>\n",
       "      <th></th>\n",
       "      <th></th>\n",
       "      <th></th>\n",
       "      <th></th>\n",
       "      <th></th>\n",
       "    </tr>\n",
       "  </thead>\n",
       "  <tbody>\n",
       "    <tr>\n",
       "      <th>Airport Bikes</th>\n",
       "      <td>0.781759</td>\n",
       "      <td>2.345277</td>\n",
       "      <td>0.390879</td>\n",
       "      <td>0.156352</td>\n",
       "      <td>0.390879</td>\n",
       "      <td>0.781759</td>\n",
       "      <td>1.563518</td>\n",
       "      <td>0.781759</td>\n",
       "      <td>0.390879</td>\n",
       "      <td>1.563518</td>\n",
       "      <td>...</td>\n",
       "      <td>0.781759</td>\n",
       "      <td>1.563518</td>\n",
       "      <td>0.781759</td>\n",
       "      <td>0.781759</td>\n",
       "      <td>1.563518</td>\n",
       "      <td>0.781759</td>\n",
       "      <td>3.908795</td>\n",
       "      <td>0.781759</td>\n",
       "      <td>0.781759</td>\n",
       "      <td>0.781759</td>\n",
       "    </tr>\n",
       "  </tbody>\n",
       "</table>\n",
       "<p>1 rows × 24 columns</p>\n",
       "</div>"
      ],
      "text/plain": [
       "               BOTL1000  CAGE1000  DGRB2000  DGRR2000  DGRW2000  DXTR1000  \\\n",
       "CNAME                                                                       \n",
       "Airport Bikes  0.781759  2.345277  0.390879  0.156352  0.390879  0.781759   \n",
       "\n",
       "               DXTR2000  DXTR3000  EPAD1000  FAID1000  ...  OHMT1000  \\\n",
       "CNAME                                                  ...             \n",
       "Airport Bikes  1.563518  0.781759  0.390879  1.563518  ...  0.781759   \n",
       "\n",
       "               ORMN1000  ORWN1000  PRTR1000  PRTR2000  PRTR3000  PUMP1000  \\\n",
       "CNAME                                                                       \n",
       "Airport Bikes  1.563518  0.781759  0.781759  1.563518  0.781759  3.908795   \n",
       "\n",
       "               RHMT1000  RKIT1000  SHRT1000  \n",
       "CNAME                                        \n",
       "Airport Bikes  0.781759  0.781759  0.781759  \n",
       "\n",
       "[1 rows x 24 columns]"
      ]
     },
     "execution_count": 9,
     "metadata": {},
     "output_type": "execute_result"
    }
   ],
   "source": [
    "materials_customers_weights = pd.read_excel(masterdata, sheet_name=\"customers x materials\")\n",
    "# combine both weight definitions\n",
    "mc = materials_customers_weights.set_index(\"CNAME\").T\n",
    "m = materials[\"MWeight\"]\n",
    "materials_customers_weights = mc.mul(m, axis='index')\n",
    "# normalize per customer\n",
    "materials_customers_weights = (materials_customers_weights / materials_customers_weights.sum() * len(materials_customers_weights)).T\n",
    "materials_customers_weights.sample()"
   ]
  },
  {
   "attachments": {},
   "cell_type": "markdown",
   "metadata": {},
   "source": [
    "# Generator"
   ]
  },
  {
   "attachments": {},
   "cell_type": "markdown",
   "metadata": {},
   "source": [
    "### Working days"
   ]
  },
  {
   "attachments": {},
   "cell_type": "markdown",
   "metadata": {},
   "source": [
    "Produces subsequent order dates\n",
    "- only business days (no weekends)\n",
    "- range is defined above"
   ]
  },
  {
   "cell_type": "code",
   "execution_count": 10,
   "metadata": {},
   "outputs": [],
   "source": [
    "def gen_date():\n",
    "    for d in pd.bdate_range(start=start_date, end=end_date, inclusive='left'):\n",
    "        yield d"
   ]
  },
  {
   "attachments": {},
   "cell_type": "markdown",
   "metadata": {},
   "source": [
    "The shipping date is the order date plus an offset depending on seasonality (C12)."
   ]
  },
  {
   "cell_type": "code",
   "execution_count": 11,
   "metadata": {},
   "outputs": [],
   "source": [
    "def shipping_date(order_date: pd.Timestamp):\n",
    "    return order_date + pd.DateOffset(weeks = random.randint(1, weeks.loc[order_date.week, \"max shipping offset weeks\"]))"
   ]
  },
  {
   "attachments": {},
   "cell_type": "markdown",
   "metadata": {},
   "source": [
    "### Customers"
   ]
  },
  {
   "attachments": {},
   "cell_type": "markdown",
   "metadata": {},
   "source": [
    "Produce subsequent customers for a day\n",
    "- number of customers drawn = number of orders for that day is 10 at average\n",
    "- number of orders  tends to grow over time (C11); since this also affects quantities, we only use sqrt() of the effect here\n",
    "- number of orders varies by seasonality (C01); since seasonality also affects quantities, we only use sqrt() of the effect here\n",
    "- The S4 system will create its own internal document numbers, but we also need an additional private (external to S4) number.\n",
    "  This allows us to recognize our orders when implementing the daily delta logic later.\n",
    "  The order number contains the date of the order plus a subsequential number to make it unique.\n",
    "- Customers are selected according to their CWeight (C02); this also affects the number of order positions, hence, we only apply sqrt() of the weights."
   ]
  },
  {
   "cell_type": "code",
   "execution_count": 12,
   "metadata": {},
   "outputs": [],
   "source": [
    "def year_factor(day: pd.Timestamp):\n",
    "    f = years.loc[day.year][\"Growth_pct\"]\n",
    "    return math.sqrt(f)\n",
    "\n",
    "def season_factor(day: pd.Timestamp):\n",
    "    return math.sqrt(weeks.loc[day.week][\"Weight\"])\n",
    "\n",
    "def gen_ordernum_with_customer(day: pd.Timestamp):\n",
    "    # number of orders\n",
    "    nof_orders = math.ceil(10 * year_factor(day) * season_factor(day))\n",
    "    # customers\n",
    "    customers_sample = customers.sample(n=nof_orders, replace=True, weights=customers[\"CWeight\"].apply(math.sqrt))\n",
    "    gen_customer = (c for (i, c) in customers_sample.iterrows())\n",
    "    # produce result\n",
    "    for x in range(nof_orders):\n",
    "        order_number = f\"{day.strftime('%Y-%m-%d')}#{x:03d}\"\n",
    "        yield(order_number, next(gen_customer))"
   ]
  },
  {
   "attachments": {},
   "cell_type": "markdown",
   "metadata": {},
   "source": [
    "### Materials"
   ]
  },
  {
   "attachments": {},
   "cell_type": "markdown",
   "metadata": {},
   "source": [
    "- The average nunber of positions is approx. 10\n",
    "- The number of positions varies by sqrt() of customer weights (C02) - see above\n",
    "- Materials are selected according to their MWeight (C04, C06); again this also affects the quantity, why we apply sqrt()"
   ]
  },
  {
   "cell_type": "code",
   "execution_count": 13,
   "metadata": {},
   "outputs": [],
   "source": [
    "def material_factor(customer: str):\n",
    "    return materials_customers_weights.loc[customer].apply(math.sqrt)"
   ]
  },
  {
   "cell_type": "code",
   "execution_count": 14,
   "metadata": {},
   "outputs": [],
   "source": [
    "def gen_material(day: pd.Timestamp, customer: str):\n",
    "    nof_positions = math.ceil(10 * math.sqrt(customers.loc[customer][\"CWeight\"]))\n",
    "    materials_sample = materials.sample(n=nof_positions, replace=True, weights=material_factor(customer))\n",
    "    gen_material = (m for (i, m) in materials_sample.iterrows())\n",
    "    # return result\n",
    "    for pos in range(10, nof_positions * 10, 10):  # position numbers 10, 20, 30, ...\n",
    "        yield(pos, next(gen_material))"
   ]
  },
  {
   "attachments": {},
   "cell_type": "markdown",
   "metadata": {},
   "source": [
    "### Quantity"
   ]
  },
  {
   "attachments": {},
   "cell_type": "markdown",
   "metadata": {},
   "source": [
    "- The average quantity is approx. 10\n",
    "- The quantity depends on the sqrt() of seasonality (C01) - see above\n",
    "- The quantity depends on the sqrt() material weights (C04, C06) - see above\n",
    "- The quantity tends to grow over time (C11) - see above"
   ]
  },
  {
   "cell_type": "code",
   "execution_count": 15,
   "metadata": {},
   "outputs": [],
   "source": [
    "def ret_quantity(day: pd.Timestamp, customer: str, material: str):\n",
    "    mat_factor = math.sqrt(material_factor(customer).loc[material])\n",
    "    quantity = math.ceil(10 * mat_factor * year_factor(day) * season_factor(day))\n",
    "    return (quantity, 'EA')"
   ]
  },
  {
   "attachments": {},
   "cell_type": "markdown",
   "metadata": {},
   "source": [
    "### Generate\n",
    "Create list of sales orders by asking the respective oracles for customers, materials...  \n",
    "(one year with 100_000+ orders takes 4 minutes on my laptop)"
   ]
  },
  {
   "cell_type": "code",
   "execution_count": 16,
   "metadata": {},
   "outputs": [],
   "source": [
    "order_list = []\n",
    "for day in gen_date():\n",
    "    for (order_number, customer) in gen_ordernum_with_customer(day):\n",
    "        # shipping date is defined per order \n",
    "        shipping = shipping_date(day)\n",
    "        for (position, material) in gen_material(day, str(customer.name)):  \n",
    "            (quantity, uom) = ret_quantity(day, str(customer.name), str(material.name))\n",
    "            customer.loc[\"CNAME\"] = customer.name # was the index; restore value\n",
    "            material.loc[\"MATNR\"] = material.name # was the index; restore value\n",
    "            o = pd.concat([\n",
    "                pd.Series(order_number, index=[\"Ext order id\"]),\n",
    "                pd.Series(position, index=[\"Position\"]),\n",
    "                pd.Series(day, index=[\"Order Date\"]),\n",
    "                pd.Series(shipping, index=[\"Ship Date\"]),\n",
    "                customer.drop(labels=[\"CWeight\"]),\n",
    "                material.drop(labels=[\"MWeight\"]),\n",
    "                pd.Series([quantity, uom], index=[\"Quantity\", \"UoM\"])\n",
    "                ])\n",
    "            order_list.append(o)"
   ]
  },
  {
   "cell_type": "code",
   "execution_count": 17,
   "metadata": {},
   "outputs": [],
   "source": [
    "# convert to DataFrame\n",
    "orders = pd.concat(order_list, axis='columns').T"
   ]
  },
  {
   "cell_type": "code",
   "execution_count": 18,
   "metadata": {},
   "outputs": [
    {
     "data": {
      "text/html": [
       "<div>\n",
       "<style scoped>\n",
       "    .dataframe tbody tr th:only-of-type {\n",
       "        vertical-align: middle;\n",
       "    }\n",
       "\n",
       "    .dataframe tbody tr th {\n",
       "        vertical-align: top;\n",
       "    }\n",
       "\n",
       "    .dataframe thead th {\n",
       "        text-align: right;\n",
       "    }\n",
       "</style>\n",
       "<table border=\"1\" class=\"dataframe\">\n",
       "  <thead>\n",
       "    <tr style=\"text-align: right;\">\n",
       "      <th></th>\n",
       "      <th>Ext order id</th>\n",
       "      <th>Position</th>\n",
       "      <th>Order Date</th>\n",
       "      <th>Ship Date</th>\n",
       "      <th>COUNTRY</th>\n",
       "      <th>CITY</th>\n",
       "      <th>VKORG</th>\n",
       "      <th>VTWEG</th>\n",
       "      <th>SPART</th>\n",
       "      <th>DiscountWeight</th>\n",
       "      <th>Discount%</th>\n",
       "      <th>CNAME</th>\n",
       "      <th>MATKL</th>\n",
       "      <th>MTART</th>\n",
       "      <th>MAKTX</th>\n",
       "      <th>MATNR</th>\n",
       "      <th>Quantity</th>\n",
       "      <th>UoM</th>\n",
       "    </tr>\n",
       "  </thead>\n",
       "  <tbody>\n",
       "    <tr>\n",
       "      <th>197807</th>\n",
       "      <td>2027-11-02#003</td>\n",
       "      <td>10</td>\n",
       "      <td>2027-11-02</td>\n",
       "      <td>2028-02-01</td>\n",
       "      <td>DE</td>\n",
       "      <td>Hamburg</td>\n",
       "      <td>DN00</td>\n",
       "      <td>WH</td>\n",
       "      <td>BI</td>\n",
       "      <td>10</td>\n",
       "      <td>3.0</td>\n",
       "      <td>Alster Cycling</td>\n",
       "      <td>UTIL</td>\n",
       "      <td>HAWA</td>\n",
       "      <td>Air Pump</td>\n",
       "      <td>PUMP1000</td>\n",
       "      <td>21</td>\n",
       "      <td>EA</td>\n",
       "    </tr>\n",
       "    <tr>\n",
       "      <th>224167</th>\n",
       "      <td>2028-10-31#000</td>\n",
       "      <td>70</td>\n",
       "      <td>2028-10-31</td>\n",
       "      <td>2029-02-20</td>\n",
       "      <td>US</td>\n",
       "      <td>Palo Alto</td>\n",
       "      <td>UW00</td>\n",
       "      <td>WH</td>\n",
       "      <td>BI</td>\n",
       "      <td>20</td>\n",
       "      <td>5.0</td>\n",
       "      <td>Silicon Valley Bikes</td>\n",
       "      <td>BIKES</td>\n",
       "      <td>FERT</td>\n",
       "      <td>Professional Touring Bike (red)</td>\n",
       "      <td>PRTR3000</td>\n",
       "      <td>14</td>\n",
       "      <td>EA</td>\n",
       "    </tr>\n",
       "    <tr>\n",
       "      <th>307830</th>\n",
       "      <td>2031-11-11#012</td>\n",
       "      <td>90</td>\n",
       "      <td>2031-11-11</td>\n",
       "      <td>2031-11-18</td>\n",
       "      <td>DE</td>\n",
       "      <td>München</td>\n",
       "      <td>DS00</td>\n",
       "      <td>WH</td>\n",
       "      <td>BI</td>\n",
       "      <td>20</td>\n",
       "      <td>5.0</td>\n",
       "      <td>Bavaria Bikes</td>\n",
       "      <td>UTIL</td>\n",
       "      <td>FERT</td>\n",
       "      <td>GPS-Bike Computer Road 64GB Silver White</td>\n",
       "      <td>GRWL2000</td>\n",
       "      <td>14</td>\n",
       "      <td>EA</td>\n",
       "    </tr>\n",
       "  </tbody>\n",
       "</table>\n",
       "</div>"
      ],
      "text/plain": [
       "          Ext order id Position Order Date  Ship Date COUNTRY       CITY  \\\n",
       "197807  2027-11-02#003       10 2027-11-02 2028-02-01      DE    Hamburg   \n",
       "224167  2028-10-31#000       70 2028-10-31 2029-02-20      US  Palo Alto   \n",
       "307830  2031-11-11#012       90 2031-11-11 2031-11-18      DE    München   \n",
       "\n",
       "       VKORG VTWEG SPART DiscountWeight Discount%                 CNAME  \\\n",
       "197807  DN00    WH    BI             10       3.0        Alster Cycling   \n",
       "224167  UW00    WH    BI             20       5.0  Silicon Valley Bikes   \n",
       "307830  DS00    WH    BI             20       5.0         Bavaria Bikes   \n",
       "\n",
       "        MATKL MTART                                     MAKTX     MATNR  \\\n",
       "197807   UTIL  HAWA                                  Air Pump  PUMP1000   \n",
       "224167  BIKES  FERT           Professional Touring Bike (red)  PRTR3000   \n",
       "307830   UTIL  FERT  GPS-Bike Computer Road 64GB Silver White  GRWL2000   \n",
       "\n",
       "       Quantity UoM  \n",
       "197807       21  EA  \n",
       "224167       14  EA  \n",
       "307830       14  EA  "
      ]
     },
     "execution_count": 18,
     "metadata": {},
     "output_type": "execute_result"
    }
   ],
   "source": [
    "orders.sample(3)"
   ]
  },
  {
   "cell_type": "code",
   "execution_count": 19,
   "metadata": {},
   "outputs": [
    {
     "data": {
      "text/plain": [
       "(428827, 18)"
      ]
     },
     "execution_count": 19,
     "metadata": {},
     "output_type": "execute_result"
    }
   ],
   "source": [
    "orders.shape"
   ]
  },
  {
   "attachments": {},
   "cell_type": "markdown",
   "metadata": {},
   "source": [
    "### Save"
   ]
  },
  {
   "cell_type": "code",
   "execution_count": 20,
   "metadata": {},
   "outputs": [
    {
     "data": {
      "text/plain": [
       "Index(['Ext order id', 'Position', 'Order Date', 'Ship Date', 'COUNTRY',\n",
       "       'CITY', 'VKORG', 'VTWEG', 'SPART', 'DiscountWeight', 'Discount%',\n",
       "       'CNAME', 'MATKL', 'MTART', 'MAKTX', 'MATNR', 'Quantity', 'UoM'],\n",
       "      dtype='object')"
      ]
     },
     "execution_count": 20,
     "metadata": {},
     "output_type": "execute_result"
    }
   ],
   "source": [
    "orders.columns"
   ]
  },
  {
   "attachments": {},
   "cell_type": "markdown",
   "metadata": {},
   "source": [
    "The data file is made for import with ABAP into S/4:\n",
    "- no header line\n",
    "- tabulator as separator\n",
    "- ABAP date format\n",
    "- one file per year"
   ]
  },
  {
   "cell_type": "code",
   "execution_count": 21,
   "metadata": {},
   "outputs": [],
   "source": [
    "columns = ['Ext order id', 'Position', 'Order Date', 'Ship Date', 'VKORG', 'VTWEG', 'SPART', 'CNAME', 'Discount%', 'MATNR', 'Quantity', 'UoM']\n",
    "for year in orders[\"Order Date\"].dt.year.unique():\n",
    "    tsv_file = f'{year:04d}GlobalBikeOrders.tsv'\n",
    "    zip_file = f'../data/{year:04d}GlobalBikeOrders.zip'\n",
    "    compression_opts = dict(method='zip', archive_name=tsv_file) \n",
    "    (\n",
    "        orders.loc[orders[\"Order Date\"].dt.year == year]\n",
    "        .to_csv(zip_file, columns=columns, index=False, header=False, sep='\\t', date_format='%Y%m%d', compression=compression_opts)\n",
    "    )\n"
   ]
  }
 ],
 "metadata": {
  "kernelspec": {
   "display_name": "base",
   "language": "python",
   "name": "python3"
  },
  "language_info": {
   "codemirror_mode": {
    "name": "ipython",
    "version": 3
   },
   "file_extension": ".py",
   "mimetype": "text/x-python",
   "name": "python",
   "nbconvert_exporter": "python",
   "pygments_lexer": "ipython3",
   "version": "3.8.15 (default, Nov 24 2022, 14:38:14) [MSC v.1916 64 bit (AMD64)]"
  },
  "orig_nbformat": 4,
  "vscode": {
   "interpreter": {
    "hash": "50e5b27107e40faec526e5967cc5e7667b46a85d7faacead4794257648bc1590"
   }
  }
 },
 "nbformat": 4,
 "nbformat_minor": 2
}
